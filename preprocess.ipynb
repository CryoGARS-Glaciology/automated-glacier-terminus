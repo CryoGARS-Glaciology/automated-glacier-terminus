{
 "cells": [
  {
   "cell_type": "markdown",
   "metadata": {},
   "source": [
    "# Step 1: Pre-process images over the glaciers\n",
    "\n",
    "_Last modified 2022-07-01._\n",
    "\n",
    "This script processes downloaded images prior to the Wavelet Transform Modulus Maxima (WTMM) segmentation analysis that produces the calving front delineations. The images will be:\n",
    "\n",
    "     1) Grab image acquisition dates from the images\n",
    "     2) Reproject all downloaded images\n",
    "     3) Calculate terminus box dimensions and rasterize\n",
    "     4) Rotate using weighted average glacier flow direction\n",
    "     5) Crop rotated images to the same minimum dimensions and convert to pgm format\n",
    "\n",
    "### The rotation step (4) requires an input ice velocity raster (vx and vy files).\n",
    "\n",
    "For Greenland, we use the [MEASURES 2000-2015](https://nsidc.org/data/NSIDC-0670/versions/1) ice velocity mosaic.\n",
    "\n",
    "### The image conversion step (5) requires the installation of ImageMagick.\n",
    "\n",
    "Download [ImageMagick](https://imagemagick.org/script/download.php) command line software."
   ]
  },
  {
   "cell_type": "code",
   "execution_count": 1,
   "metadata": {},
   "outputs": [
    {
     "name": "stderr",
     "output_type": "stream",
     "text": [
      "/Users/jukesliu/micromamba/envs/autoterm/lib/python3.9/site-packages/scipy/__init__.py:155: UserWarning: A NumPy version >=1.18.5 and <1.25.0 is required for this version of SciPy (detected version 1.26.4\n",
      "  warnings.warn(f\"A NumPy version >={np_minversion} and <{np_maxversion}\"\n",
      "/var/folders/mr/7f69f7y50zj85n420pyvh8cr0000gq/T/ipykernel_92566/1057920446.py:13: DeprecationWarning: Please use `rotate` from the `scipy.ndimage` namespace, the `scipy.ndimage.interpolation` namespace is deprecated.\n",
      "  from scipy.ndimage.interpolation import rotate\n"
     ]
    }
   ],
   "source": [
    "import numpy as np\n",
    "import pandas as pd\n",
    "import os\n",
    "import subprocess\n",
    "import shutil\n",
    "import rasterio as rio\n",
    "from shapely import geometry\n",
    "import fiona\n",
    "import fiona.crs\n",
    "import datetime\n",
    "from PIL import Image\n",
    "import matplotlib.pyplot as plt\n",
    "from scipy.ndimage.interpolation import rotate\n",
    "\n",
    "from automated_terminus_functions import resize_pngs, distance"
   ]
  },
  {
   "cell_type": "code",
   "execution_count": 4,
   "metadata": {},
   "outputs": [
    {
     "name": "stdout",
     "output_type": "stream",
     "text": [
      "['Thwaites']\n"
     ]
    }
   ],
   "source": [
    "#####################################################################################\n",
    "# Enter folder containing the terminus box and RGI glacier outline shapefile(s):\n",
    "basepath = '/Volumes/SGlacier/auto-terminus-traces/Antarctic-test/' \n",
    "downloadpath = '/Volumes/SGlacier/auto-terminus-traces/Antarctic-test/LSaws/' # folder containing downloaded Landsat images\n",
    "csvpath = '/Volumes/SGlacier/auto-terminus-traces/Antarctic-test/' # folder to store CSV files\n",
    "# that describes the analysis (e.g., glacier or group of glaciers) \n",
    "folder_name = 'rotated_c2' # foldername to hold rotated collection 2 images\n",
    "csvext = '_testimages.csv' # same as in image download script, a file suffix\n",
    "\n",
    "# Input your velocity input file info\n",
    "vpath = basepath # path to folder containing velocity files\n",
    "vx_name = 'greenland_vel_mosaic250_vx_v1.tif' # MEaSUREs product\n",
    "vy_name = 'greenland_vel_mosaic250_vy_v1.tif' # MEaSUREs product\n",
    "no_data_val = -2000000000.0 # no data value for the velocity maps\n",
    "vt = 'day' # time unit for velocity (e.g., day for m/day, year for m/year)\n",
    "\n",
    "# optional:\n",
    "RGIpath = '/Volumes/SGlacier/auto-terminus-traces/Antarctic-test/ROIs/'  # path to folder with all individual RGI glacier outline shapefiles\n",
    "\n",
    "# Enter glacier IDs\n",
    "\n",
    "BoxIDs = ['Thwaites']\n",
    "# boxes = list(map(str, np.arange(1, 51, 1))) #1, 642, 1 lists the full inventory\n",
    "# for BoxID in boxes: # convert integers to 3-digit strings with leading zeros\n",
    "#     BoxID = BoxID.zfill(3)\n",
    "#     BoxIDs.append(BoxID)\n",
    "# or read from a file\n",
    "print(BoxIDs) # show the final BoxIDs\n",
    "#####################################################################################"
   ]
  },
  {
   "cell_type": "code",
   "execution_count": 3,
   "metadata": {},
   "outputs": [
    {
     "name": "stdout",
     "output_type": "stream",
     "text": [
      "CSV files that will be produced:\n",
      "\n",
      "Glacier_vel_testimages.csv\n",
      "Buffdist_testimages.csv\n",
      "imgdates_testimages.csv\n"
     ]
    }
   ],
   "source": [
    "# filenames that will be written in this script\n",
    "# all with common extension\n",
    "print(\"CSV files that will be produced:\"); print()\n",
    "VEL_FILENAME = 'Glacier_vel'+csvext; print(VEL_FILENAME)\n",
    "BOX_FILENAME = 'Buffdist'+csvext; print(BOX_FILENAME)\n",
    "DATES_FILENAME = 'imgdates'+csvext; print(DATES_FILENAME) # acquisition dates for all downloaded Landsat images"
   ]
  },
  {
   "cell_type": "code",
   "execution_count": 4,
   "metadata": {},
   "outputs": [
    {
     "name": "stdout",
     "output_type": "stream",
     "text": [
      "Path exists already for Box 001\n",
      "Path exists already in LS8aws for Box 001\n",
      "Box001.shp already in folder\n",
      "RGI_Box001.shp already in folder\n",
      "Path exists already for Box 002\n",
      "Path exists already in LS8aws for Box 002\n",
      "Box002.shp already in folder\n",
      "RGI_Box002.shp already in folder\n",
      "Path exists already for Box 003\n",
      "Path exists already in LS8aws for Box 003\n",
      "Box003.shp already in folder\n",
      "RGI_Box003.shp already in folder\n",
      "Path exists already for Box 004\n",
      "Path exists already in LS8aws for Box 004\n",
      "Box004.shp already in folder\n",
      "RGI_Box004.shp already in folder\n",
      "Path exists already for Box 005\n",
      "Path exists already in LS8aws for Box 005\n",
      "Box005.shp already in folder\n",
      "RGI_Box005.shp already in folder\n",
      "Path exists already for Box 006\n",
      "Path exists already in LS8aws for Box 006\n",
      "Box006.shp already in folder\n",
      "RGI_Box006.shp already in folder\n",
      "Path exists already for Box 007\n",
      "Path exists already in LS8aws for Box 007\n",
      "Box007.shp already in folder\n",
      "RGI_Box007.shp already in folder\n",
      "Path exists already for Box 008\n",
      "Path exists already in LS8aws for Box 008\n",
      "Box008.shp already in folder\n",
      "RGI_Box008.shp already in folder\n",
      "Path exists already for Box 009\n",
      "Path exists already in LS8aws for Box 009\n",
      "Box009.shp already in folder\n",
      "RGI_Box009.shp already in folder\n",
      "Path exists already for Box 010\n",
      "Path exists already in LS8aws for Box 010\n",
      "Box010.shp already in folder\n",
      "RGI_Box010.shp already in folder\n",
      "Path exists already for Box 011\n",
      "Path exists already in LS8aws for Box 011\n",
      "Box011.shp already in folder\n",
      "RGI_Box011.shp already in folder\n",
      "Path exists already for Box 012\n",
      "Path exists already in LS8aws for Box 012\n",
      "Box012.shp already in folder\n",
      "RGI_Box012.shp already in folder\n",
      "Path exists already for Box 013\n",
      "Path exists already in LS8aws for Box 013\n",
      "Box013.shp already in folder\n",
      "RGI_Box013.shp already in folder\n",
      "Path exists already for Box 014\n",
      "Path exists already in LS8aws for Box 014\n",
      "Box014.shp already in folder\n",
      "RGI_Box014.shp already in folder\n",
      "Path exists already for Box 015\n",
      "Path exists already in LS8aws for Box 015\n",
      "Box015.shp already in folder\n",
      "RGI_Box015.shp already in folder\n",
      "Path exists already for Box 016\n",
      "Path exists already in LS8aws for Box 016\n",
      "Box016.shp already in folder\n",
      "RGI_Box016.shp already in folder\n",
      "Path exists already for Box 017\n",
      "Path exists already in LS8aws for Box 017\n",
      "Box017.shp already in folder\n",
      "RGI_Box017.shp already in folder\n",
      "Path exists already for Box 018\n",
      "Path exists already in LS8aws for Box 018\n",
      "Box018.shp already in folder\n",
      "RGI_Box018.shp already in folder\n",
      "Path exists already for Box 019\n",
      "Path exists already in LS8aws for Box 019\n",
      "Box019.shp already in folder\n",
      "RGI_Box019.shp already in folder\n",
      "Path exists already for Box 020\n",
      "Path exists already in LS8aws for Box 020\n",
      "Box020.shp already in folder\n",
      "RGI_Box020.shp already in folder\n",
      "Path exists already for Box 021\n",
      "Path exists already in LS8aws for Box 021\n",
      "Box021.shp already in folder\n",
      "RGI_Box021.shp already in folder\n",
      "Path exists already for Box 022\n",
      "Path exists already in LS8aws for Box 022\n",
      "Box022.shp already in folder\n",
      "RGI_Box022.shp already in folder\n",
      "Path exists already for Box 023\n",
      "Path exists already in LS8aws for Box 023\n",
      "Box023.shp already in folder\n",
      "RGI_Box023.shp already in folder\n",
      "Path exists already for Box 024\n",
      "Path exists already in LS8aws for Box 024\n",
      "Box024.shp already in folder\n",
      "RGI_Box024.shp already in folder\n",
      "Path exists already for Box 025\n",
      "Path exists already in LS8aws for Box 025\n",
      "Box025.shp already in folder\n",
      "RGI_Box025.shp already in folder\n",
      "Path exists already for Box 026\n",
      "Path exists already in LS8aws for Box 026\n",
      "Box026.shp already in folder\n",
      "RGI_Box026.shp already in folder\n",
      "Path exists already for Box 027\n",
      "Path exists already in LS8aws for Box 027\n",
      "Box027.shp already in folder\n",
      "RGI_Box027.shp already in folder\n",
      "Path exists already for Box 028\n",
      "Path exists already in LS8aws for Box 028\n",
      "Box028.shp already in folder\n",
      "RGI_Box028.shp already in folder\n",
      "Path exists already for Box 029\n",
      "Path exists already in LS8aws for Box 029\n",
      "Box029.shp already in folder\n",
      "RGI_Box029.shp already in folder\n",
      "Path exists already for Box 030\n",
      "Path exists already in LS8aws for Box 030\n",
      "Box030.shp already in folder\n",
      "RGI_Box030.shp already in folder\n",
      "Path exists already for Box 031\n",
      "Path exists already in LS8aws for Box 031\n",
      "Box031.shp already in folder\n",
      "RGI_Box031.shp already in folder\n",
      "Path exists already for Box 032\n",
      "Path exists already in LS8aws for Box 032\n",
      "Box032.shp already in folder\n",
      "RGI_Box032.shp already in folder\n",
      "Path exists already for Box 033\n",
      "Path exists already in LS8aws for Box 033\n",
      "Box033.shp already in folder\n",
      "RGI_Box033.shp already in folder\n",
      "Path exists already for Box 034\n",
      "Path exists already in LS8aws for Box 034\n",
      "Box034.shp already in folder\n",
      "RGI_Box034.shp already in folder\n",
      "Path exists already for Box 035\n",
      "Path exists already in LS8aws for Box 035\n",
      "Box035.shp already in folder\n",
      "RGI_Box035.shp already in folder\n",
      "Path exists already for Box 036\n",
      "Path exists already in LS8aws for Box 036\n",
      "Box036.shp already in folder\n",
      "RGI_Box036.shp already in folder\n",
      "Path exists already for Box 037\n",
      "Path exists already in LS8aws for Box 037\n",
      "Box037.shp already in folder\n",
      "RGI_Box037.shp already in folder\n",
      "Path exists already for Box 038\n",
      "Path exists already in LS8aws for Box 038\n",
      "Box038.shp already in folder\n",
      "RGI_Box038.shp already in folder\n",
      "Path exists already for Box 039\n",
      "Path exists already in LS8aws for Box 039\n",
      "Box039.shp already in folder\n",
      "RGI_Box039.shp already in folder\n",
      "Path exists already for Box 040\n",
      "Path exists already in LS8aws for Box 040\n",
      "Box040.shp already in folder\n",
      "RGI_Box040.shp already in folder\n",
      "Path exists already for Box 041\n",
      "Path exists already in LS8aws for Box 041\n",
      "Box041.shp already in folder\n",
      "RGI_Box041.shp already in folder\n",
      "Path exists already for Box 042\n",
      "Path exists already in LS8aws for Box 042\n",
      "Box042.shp already in folder\n",
      "RGI_Box042.shp already in folder\n",
      "Path exists already for Box 043\n",
      "Path exists already in LS8aws for Box 043\n",
      "Box043.shp already in folder\n",
      "RGI_Box043.shp already in folder\n",
      "Path exists already for Box 044\n",
      "Path exists already in LS8aws for Box 044\n",
      "Box044.shp already in folder\n",
      "RGI_Box044.shp already in folder\n",
      "Path exists already for Box 045\n",
      "Path exists already in LS8aws for Box 045\n",
      "Box045.shp already in folder\n",
      "RGI_Box045.shp already in folder\n",
      "Path exists already for Box 046\n",
      "Path exists already in LS8aws for Box 046\n",
      "Box046.shp already in folder\n",
      "RGI_Box046.shp already in folder\n",
      "Path exists already for Box 047\n",
      "Path exists already in LS8aws for Box 047\n",
      "Box047.shp already in folder\n",
      "RGI_Box047.shp already in folder\n",
      "Path exists already for Box 048\n",
      "Path exists already in LS8aws for Box 048\n",
      "Box048.shp already in folder\n",
      "RGI_Box048.shp already in folder\n",
      "Path exists already for Box 049\n",
      "Path exists already in LS8aws for Box 049\n",
      "Box049.shp already in folder\n",
      "RGI_Box049.shp already in folder\n",
      "Path exists already for Box 050\n",
      "Path exists already in LS8aws for Box 050\n",
      "Box050.shp already in folder\n",
      "RGI_Box050.shp already in folder\n"
     ]
    }
   ],
   "source": [
    "# create new BoxID folders if they don't already exist\n",
    "for BoxID in BoxIDs:\n",
    "    # create folder to hold glacier shapefiles\n",
    "    shapefilepath = basepath+'Box'+BoxID+'/' # path to that folder\n",
    "    if os.path.exists(shapefilepath):\n",
    "#         shutil.rmtree(shapefilepath) # remove the old folder\n",
    "        print(\"Path exists already for Box\", BoxID)\n",
    "    else:\n",
    "        os.mkdir(basepath+'Box'+BoxID)\n",
    "            \n",
    "    # create folder to hold glacier images (inside downloadpath)\n",
    "    if os.path.exists(downloadpath+'Box'+BoxID):\n",
    "        print(\"Path exists already in LS8aws for Box\", BoxID)\n",
    "    else:\n",
    "        os.mkdir(downloadpath+'Box'+BoxID)\n",
    "    \n",
    "    # Now place terminus box shapefile and RGI glacier outline shapefile into the\n",
    "    # boxespath folder. Done automatically below for the Greenland peripheral glaciers:\n",
    "    if len(BoxID) == 3:\n",
    "        ID = int(BoxID) # make into an integer in order to grab the .shp files\n",
    "\n",
    "        # if the terminus box shapefile is not in this folder, then move it\n",
    "        if not os.path.exists(shapefilepath+'Box'+BoxID+'.shp'):\n",
    "            for filename in os.listdir(boxespath):\n",
    "                if filename.startswith('BoxID_'+str(ID)):\n",
    "                    shutil.copyfile(boxespath+filename, basepath+'Box'+BoxID+'/Box'+BoxID+filename[-4:])\n",
    "                    print(\"Box\"+BoxID+filename[-4:], \"moved\")\n",
    "        else:\n",
    "            print(\"Box\"+BoxID+'.shp', \"already in folder\")\n",
    "\n",
    "        if not os.path.exists(shapefilepath+'RGI_Box'+BoxID+'.shp'): # if the RGI shapefile is not in this folder\n",
    "            # move RGI glacier outline into the new folder\n",
    "            for filename in os.listdir(RGIpath):\n",
    "                if filename.startswith('BoxID_'+str(ID)):\n",
    "                    shutil.copyfile(RGIpath+filename, basepath+'Box'+BoxID+'/RGI_Box'+BoxID+filename[-4:])\n",
    "                    print(\"RGI_Box\"+BoxID+filename[-4:], \"moved\")\n",
    "        else:\n",
    "            print(\"RGI_Box\"+BoxID+'.shp', \"already in folder\")"
   ]
  },
  {
   "cell_type": "markdown",
   "metadata": {},
   "source": [
    "# 1) Grab image acquisition dates from downloaded images"
   ]
  },
  {
   "cell_type": "code",
   "execution_count": 4,
   "metadata": {},
   "outputs": [
    {
     "name": "stdout",
     "output_type": "stream",
     "text": [
      "Already created in the download step:\n"
     ]
    },
    {
     "data": {
      "text/html": [
       "<div>\n",
       "<style scoped>\n",
       "    .dataframe tbody tr th:only-of-type {\n",
       "        vertical-align: middle;\n",
       "    }\n",
       "\n",
       "    .dataframe tbody tr th {\n",
       "        vertical-align: top;\n",
       "    }\n",
       "\n",
       "    .dataframe thead th {\n",
       "        text-align: right;\n",
       "    }\n",
       "</style>\n",
       "<table border=\"1\" class=\"dataframe\">\n",
       "  <thead>\n",
       "    <tr style=\"text-align: right;\">\n",
       "      <th></th>\n",
       "      <th>Unnamed: 0</th>\n",
       "      <th>Scene</th>\n",
       "      <th>datetime</th>\n",
       "    </tr>\n",
       "  </thead>\n",
       "  <tbody>\n",
       "    <tr>\n",
       "      <th>0</th>\n",
       "      <td>0</td>\n",
       "      <td>LC08_L1TP_031005_20170603_20201016_02_T1</td>\n",
       "      <td>2017-06-03</td>\n",
       "    </tr>\n",
       "    <tr>\n",
       "      <th>1</th>\n",
       "      <td>1</td>\n",
       "      <td>LC08_L1TP_031005_20140915_20200911_02_T1</td>\n",
       "      <td>2014-09-15</td>\n",
       "    </tr>\n",
       "    <tr>\n",
       "      <th>2</th>\n",
       "      <td>2</td>\n",
       "      <td>LE07_L1TP_035005_20020614_20200916_02_T1</td>\n",
       "      <td>2002-06-14</td>\n",
       "    </tr>\n",
       "    <tr>\n",
       "      <th>3</th>\n",
       "      <td>3</td>\n",
       "      <td>LC08_L1TP_036004_20170318_20200904_02_T1</td>\n",
       "      <td>2017-03-18</td>\n",
       "    </tr>\n",
       "    <tr>\n",
       "      <th>4</th>\n",
       "      <td>4</td>\n",
       "      <td>LC08_L1TP_035005_20140522_20200911_02_T1</td>\n",
       "      <td>2014-05-22</td>\n",
       "    </tr>\n",
       "  </tbody>\n",
       "</table>\n",
       "</div>"
      ],
      "text/plain": [
       "   Unnamed: 0                                     Scene    datetime\n",
       "0           0  LC08_L1TP_031005_20170603_20201016_02_T1  2017-06-03\n",
       "1           1  LC08_L1TP_031005_20140915_20200911_02_T1  2014-09-15\n",
       "2           2  LE07_L1TP_035005_20020614_20200916_02_T1  2002-06-14\n",
       "3           3  LC08_L1TP_036004_20170318_20200904_02_T1  2017-03-18\n",
       "4           4  LC08_L1TP_035005_20140522_20200911_02_T1  2014-05-22"
      ]
     },
     "execution_count": 4,
     "metadata": {},
     "output_type": "execute_result"
    }
   ],
   "source": [
    "# If the acquisition date datafile wasn't already created in the downloading step,\n",
    "if not os.path.exists(csvpath+DATES_FILENAME): \n",
    "    # create it now\n",
    "    datetimes = []; scenenames = []\n",
    "    for BoxID in BoxIDs:\n",
    "        for img in os.listdir(downloadpath+'Box'+BoxID+'/'):\n",
    "            if img.startswith('L') and img.endswith('TIF'):\n",
    "                datestr = img[17:25] # grab acquisition date from filename\n",
    "                date = datetime.datetime.strptime(datestr, '%Y%m%d') # save as datetime object\n",
    "                datetimes.append(date); scenenames.append(img[:40])\n",
    "    dates_df = pd.DataFrame(list(zip(scenenames, datetimes)),columns=['Scene','datetime'])        \n",
    "    # write to csv\n",
    "    dates_df.to_csv(path_or_buf = basepath+DATES_FILENAME, sep=',')  \n",
    "    \n",
    "else: # if it exists already, don't overwrite\n",
    "    print('Already created in the download step:')\n",
    "    dates_df = pd.read_csv(csvpath+DATES_FILENAME)\n",
    "dates_df.head()"
   ]
  },
  {
   "cell_type": "markdown",
   "metadata": {},
   "source": [
    "# 2) Reproject the images\n",
    "\n",
    "When images are downloaded across many different Landsat path rows, it's possible that they will be in several UTM projections. As a result, you will need to reproject them into a single projection (e.g., Greenland Polar Stereographic). \n",
    "\n",
    "#### If all your images are in the same projection, then you can skip this step. Change SKIP to True."
   ]
  },
  {
   "cell_type": "code",
   "execution_count": 5,
   "metadata": {},
   "outputs": [
    {
     "name": "stdout",
     "output_type": "stream",
     "text": [
      "Box001 Reprojected folder exists already.\n"
     ]
    },
    {
     "ename": "KeyboardInterrupt",
     "evalue": "",
     "output_type": "error",
     "traceback": [
      "\u001b[0;31m---------------------------------------------------------------------------\u001b[0m",
      "\u001b[0;31mKeyboardInterrupt\u001b[0m                         Traceback (most recent call last)",
      "\u001b[0;32m<ipython-input-5-3fc8dc9378e2>\u001b[0m in \u001b[0;36m<module>\u001b[0;34m\u001b[0m\n\u001b[1;32m     27\u001b[0m                 \u001b[0mrp_PS\u001b[0m \u001b[0;34m=\u001b[0m \u001b[0;34m\"gdalwarp -t_srs EPSG:\"\u001b[0m\u001b[0;34m+\u001b[0m\u001b[0mdesired_proj\u001b[0m\u001b[0;34m+\u001b[0m\u001b[0;34m' '\u001b[0m\u001b[0;34m+\u001b[0m\u001b[0mbp_out\u001b[0m\u001b[0;34m+\u001b[0m\u001b[0mimage\u001b[0m\u001b[0;34m+\u001b[0m\u001b[0;34m\" \"\u001b[0m\u001b[0;34m\u001b[0m\u001b[0;34m\u001b[0m\u001b[0m\n\u001b[1;32m     28\u001b[0m                 \u001b[0mrp_PS\u001b[0m \u001b[0;34m+=\u001b[0m \u001b[0mbp_out\u001b[0m\u001b[0;34m+\u001b[0m\u001b[0;34m'reprojected/'\u001b[0m\u001b[0;34m+\u001b[0m\u001b[0mimagename\u001b[0m\u001b[0;34m+\u001b[0m\u001b[0msuffix\u001b[0m\u001b[0;34m+\u001b[0m\u001b[0;34m\".TIF\"\u001b[0m\u001b[0;34m\u001b[0m\u001b[0;34m\u001b[0m\u001b[0m\n\u001b[0;32m---> 29\u001b[0;31m                 \u001b[0msubprocess\u001b[0m\u001b[0;34m.\u001b[0m\u001b[0mrun\u001b[0m\u001b[0;34m(\u001b[0m\u001b[0mrp_PS\u001b[0m\u001b[0;34m,\u001b[0m \u001b[0mshell\u001b[0m\u001b[0;34m=\u001b[0m\u001b[0;32mTrue\u001b[0m\u001b[0;34m,\u001b[0m\u001b[0mcheck\u001b[0m\u001b[0;34m=\u001b[0m\u001b[0;32mTrue\u001b[0m\u001b[0;34m)\u001b[0m\u001b[0;34m\u001b[0m\u001b[0;34m\u001b[0m\u001b[0m\n\u001b[0m",
      "\u001b[0;32m~/anaconda3/lib/python3.7/subprocess.py\u001b[0m in \u001b[0;36mrun\u001b[0;34m(input, capture_output, timeout, check, *popenargs, **kwargs)\u001b[0m\n\u001b[1;32m    488\u001b[0m     \u001b[0;32mwith\u001b[0m \u001b[0mPopen\u001b[0m\u001b[0;34m(\u001b[0m\u001b[0;34m*\u001b[0m\u001b[0mpopenargs\u001b[0m\u001b[0;34m,\u001b[0m \u001b[0;34m**\u001b[0m\u001b[0mkwargs\u001b[0m\u001b[0;34m)\u001b[0m \u001b[0;32mas\u001b[0m \u001b[0mprocess\u001b[0m\u001b[0;34m:\u001b[0m\u001b[0;34m\u001b[0m\u001b[0;34m\u001b[0m\u001b[0m\n\u001b[1;32m    489\u001b[0m         \u001b[0;32mtry\u001b[0m\u001b[0;34m:\u001b[0m\u001b[0;34m\u001b[0m\u001b[0;34m\u001b[0m\u001b[0m\n\u001b[0;32m--> 490\u001b[0;31m             \u001b[0mstdout\u001b[0m\u001b[0;34m,\u001b[0m \u001b[0mstderr\u001b[0m \u001b[0;34m=\u001b[0m \u001b[0mprocess\u001b[0m\u001b[0;34m.\u001b[0m\u001b[0mcommunicate\u001b[0m\u001b[0;34m(\u001b[0m\u001b[0minput\u001b[0m\u001b[0;34m,\u001b[0m \u001b[0mtimeout\u001b[0m\u001b[0;34m=\u001b[0m\u001b[0mtimeout\u001b[0m\u001b[0;34m)\u001b[0m\u001b[0;34m\u001b[0m\u001b[0;34m\u001b[0m\u001b[0m\n\u001b[0m\u001b[1;32m    491\u001b[0m         \u001b[0;32mexcept\u001b[0m \u001b[0mTimeoutExpired\u001b[0m \u001b[0;32mas\u001b[0m \u001b[0mexc\u001b[0m\u001b[0;34m:\u001b[0m\u001b[0;34m\u001b[0m\u001b[0;34m\u001b[0m\u001b[0m\n\u001b[1;32m    492\u001b[0m             \u001b[0mprocess\u001b[0m\u001b[0;34m.\u001b[0m\u001b[0mkill\u001b[0m\u001b[0;34m(\u001b[0m\u001b[0;34m)\u001b[0m\u001b[0;34m\u001b[0m\u001b[0;34m\u001b[0m\u001b[0m\n",
      "\u001b[0;32m~/anaconda3/lib/python3.7/subprocess.py\u001b[0m in \u001b[0;36mcommunicate\u001b[0;34m(self, input, timeout)\u001b[0m\n\u001b[1;32m    954\u001b[0m                 \u001b[0mstderr\u001b[0m \u001b[0;34m=\u001b[0m \u001b[0mself\u001b[0m\u001b[0;34m.\u001b[0m\u001b[0mstderr\u001b[0m\u001b[0;34m.\u001b[0m\u001b[0mread\u001b[0m\u001b[0;34m(\u001b[0m\u001b[0;34m)\u001b[0m\u001b[0;34m\u001b[0m\u001b[0;34m\u001b[0m\u001b[0m\n\u001b[1;32m    955\u001b[0m                 \u001b[0mself\u001b[0m\u001b[0;34m.\u001b[0m\u001b[0mstderr\u001b[0m\u001b[0;34m.\u001b[0m\u001b[0mclose\u001b[0m\u001b[0;34m(\u001b[0m\u001b[0;34m)\u001b[0m\u001b[0;34m\u001b[0m\u001b[0;34m\u001b[0m\u001b[0m\n\u001b[0;32m--> 956\u001b[0;31m             \u001b[0mself\u001b[0m\u001b[0;34m.\u001b[0m\u001b[0mwait\u001b[0m\u001b[0;34m(\u001b[0m\u001b[0;34m)\u001b[0m\u001b[0;34m\u001b[0m\u001b[0;34m\u001b[0m\u001b[0m\n\u001b[0m\u001b[1;32m    957\u001b[0m         \u001b[0;32melse\u001b[0m\u001b[0;34m:\u001b[0m\u001b[0;34m\u001b[0m\u001b[0;34m\u001b[0m\u001b[0m\n\u001b[1;32m    958\u001b[0m             \u001b[0;32mif\u001b[0m \u001b[0mtimeout\u001b[0m \u001b[0;32mis\u001b[0m \u001b[0;32mnot\u001b[0m \u001b[0;32mNone\u001b[0m\u001b[0;34m:\u001b[0m\u001b[0;34m\u001b[0m\u001b[0;34m\u001b[0m\u001b[0m\n",
      "\u001b[0;32m~/anaconda3/lib/python3.7/subprocess.py\u001b[0m in \u001b[0;36mwait\u001b[0;34m(self, timeout)\u001b[0m\n\u001b[1;32m   1017\u001b[0m             \u001b[0mendtime\u001b[0m \u001b[0;34m=\u001b[0m \u001b[0m_time\u001b[0m\u001b[0;34m(\u001b[0m\u001b[0;34m)\u001b[0m \u001b[0;34m+\u001b[0m \u001b[0mtimeout\u001b[0m\u001b[0;34m\u001b[0m\u001b[0;34m\u001b[0m\u001b[0m\n\u001b[1;32m   1018\u001b[0m         \u001b[0;32mtry\u001b[0m\u001b[0;34m:\u001b[0m\u001b[0;34m\u001b[0m\u001b[0;34m\u001b[0m\u001b[0m\n\u001b[0;32m-> 1019\u001b[0;31m             \u001b[0;32mreturn\u001b[0m \u001b[0mself\u001b[0m\u001b[0;34m.\u001b[0m\u001b[0m_wait\u001b[0m\u001b[0;34m(\u001b[0m\u001b[0mtimeout\u001b[0m\u001b[0;34m=\u001b[0m\u001b[0mtimeout\u001b[0m\u001b[0;34m)\u001b[0m\u001b[0;34m\u001b[0m\u001b[0;34m\u001b[0m\u001b[0m\n\u001b[0m\u001b[1;32m   1020\u001b[0m         \u001b[0;32mexcept\u001b[0m \u001b[0mKeyboardInterrupt\u001b[0m\u001b[0;34m:\u001b[0m\u001b[0;34m\u001b[0m\u001b[0;34m\u001b[0m\u001b[0m\n\u001b[1;32m   1021\u001b[0m             \u001b[0;31m# https://bugs.python.org/issue25942\u001b[0m\u001b[0;34m\u001b[0m\u001b[0;34m\u001b[0m\u001b[0;34m\u001b[0m\u001b[0m\n",
      "\u001b[0;32m~/anaconda3/lib/python3.7/subprocess.py\u001b[0m in \u001b[0;36m_wait\u001b[0;34m(self, timeout)\u001b[0m\n\u001b[1;32m   1651\u001b[0m                         \u001b[0;32mif\u001b[0m \u001b[0mself\u001b[0m\u001b[0;34m.\u001b[0m\u001b[0mreturncode\u001b[0m \u001b[0;32mis\u001b[0m \u001b[0;32mnot\u001b[0m \u001b[0;32mNone\u001b[0m\u001b[0;34m:\u001b[0m\u001b[0;34m\u001b[0m\u001b[0;34m\u001b[0m\u001b[0m\n\u001b[1;32m   1652\u001b[0m                             \u001b[0;32mbreak\u001b[0m  \u001b[0;31m# Another thread waited.\u001b[0m\u001b[0;34m\u001b[0m\u001b[0;34m\u001b[0m\u001b[0m\n\u001b[0;32m-> 1653\u001b[0;31m                         \u001b[0;34m(\u001b[0m\u001b[0mpid\u001b[0m\u001b[0;34m,\u001b[0m \u001b[0msts\u001b[0m\u001b[0;34m)\u001b[0m \u001b[0;34m=\u001b[0m \u001b[0mself\u001b[0m\u001b[0;34m.\u001b[0m\u001b[0m_try_wait\u001b[0m\u001b[0;34m(\u001b[0m\u001b[0;36m0\u001b[0m\u001b[0;34m)\u001b[0m\u001b[0;34m\u001b[0m\u001b[0;34m\u001b[0m\u001b[0m\n\u001b[0m\u001b[1;32m   1654\u001b[0m                         \u001b[0;31m# Check the pid and loop as waitpid has been known to\u001b[0m\u001b[0;34m\u001b[0m\u001b[0;34m\u001b[0m\u001b[0;34m\u001b[0m\u001b[0m\n\u001b[1;32m   1655\u001b[0m                         \u001b[0;31m# return 0 even without WNOHANG in odd situations.\u001b[0m\u001b[0;34m\u001b[0m\u001b[0;34m\u001b[0m\u001b[0;34m\u001b[0m\u001b[0m\n",
      "\u001b[0;32m~/anaconda3/lib/python3.7/subprocess.py\u001b[0m in \u001b[0;36m_try_wait\u001b[0;34m(self, wait_flags)\u001b[0m\n\u001b[1;32m   1609\u001b[0m             \u001b[0;34m\"\"\"All callers to this function MUST hold self._waitpid_lock.\"\"\"\u001b[0m\u001b[0;34m\u001b[0m\u001b[0;34m\u001b[0m\u001b[0m\n\u001b[1;32m   1610\u001b[0m             \u001b[0;32mtry\u001b[0m\u001b[0;34m:\u001b[0m\u001b[0;34m\u001b[0m\u001b[0;34m\u001b[0m\u001b[0m\n\u001b[0;32m-> 1611\u001b[0;31m                 \u001b[0;34m(\u001b[0m\u001b[0mpid\u001b[0m\u001b[0;34m,\u001b[0m \u001b[0msts\u001b[0m\u001b[0;34m)\u001b[0m \u001b[0;34m=\u001b[0m \u001b[0mos\u001b[0m\u001b[0;34m.\u001b[0m\u001b[0mwaitpid\u001b[0m\u001b[0;34m(\u001b[0m\u001b[0mself\u001b[0m\u001b[0;34m.\u001b[0m\u001b[0mpid\u001b[0m\u001b[0;34m,\u001b[0m \u001b[0mwait_flags\u001b[0m\u001b[0;34m)\u001b[0m\u001b[0;34m\u001b[0m\u001b[0;34m\u001b[0m\u001b[0m\n\u001b[0m\u001b[1;32m   1612\u001b[0m             \u001b[0;32mexcept\u001b[0m \u001b[0mChildProcessError\u001b[0m\u001b[0;34m:\u001b[0m\u001b[0;34m\u001b[0m\u001b[0;34m\u001b[0m\u001b[0m\n\u001b[1;32m   1613\u001b[0m                 \u001b[0;31m# This happens if SIGCLD is set to be ignored or waiting\u001b[0m\u001b[0;34m\u001b[0m\u001b[0;34m\u001b[0m\u001b[0;34m\u001b[0m\u001b[0m\n",
      "\u001b[0;31mKeyboardInterrupt\u001b[0m: "
     ]
    }
   ],
   "source": [
    "######################################################################################\n",
    "SKIP = False # if you want to skip this step, change to True\n",
    "desired_proj = '3413' # EPSG code for desired projection\n",
    "suffix = '_PS' # suffix for reprojected images - something that indicates the projection\n",
    "######################################################################################\n",
    "\n",
    "for BoxID in BoxIDs:\n",
    "    bp_out = downloadpath+'Box'+BoxID+'/' # path to downloaded files\n",
    "\n",
    "    # create output reprojected folder if does not exist\n",
    "    if os.path.exists(bp_out+'reprojected/'):\n",
    "        print(\"Box\"+BoxID, \"Reprojected folder exists already.\")\n",
    "    else:\n",
    "        os.mkdir(bp_out+'reprojected/')\n",
    "        print(\"Box\"+BoxID+\" Reprojected directory made\")\n",
    "    \n",
    "    for image in os.listdir(bp_out): # all downloaded images\n",
    "        if image.startswith('L') and image.endswith('.TIF'):\n",
    "            \n",
    "            # if reprojection skipped, just move the image into the reprojected fodler\n",
    "            if SKIP:\n",
    "                shutil.copyfile(bp_out+image, bp_out+'reprojected/'+image)\n",
    "            \n",
    "            # if not skipped, reproject it\n",
    "            else:\n",
    "                imagename = image[:-4] # remove suffix\n",
    "                rp_PS = \"gdalwarp -t_srs EPSG:\"+desired_proj+' '+bp_out+image+\" \"\n",
    "                rp_PS += bp_out+'reprojected/'+imagename+suffix+\".TIF\"\n",
    "                subprocess.run(rp_PS, shell=True,check=True)   "
   ]
  },
  {
   "cell_type": "markdown",
   "metadata": {},
   "source": [
    "# 3) Calculate terminus box dimensions and rasterize \n",
    "In this section, the minimum dimension of the terminus box is calculated which will be used in the generation of glacier flowlines in the analyze_wtmm_results.ipynb script."
   ]
  },
  {
   "cell_type": "code",
   "execution_count": 6,
   "metadata": {},
   "outputs": [
    {
     "name": "stdout",
     "output_type": "stream",
     "text": [
      "Image spatial resolution of 15.0  meters calculated from  LC08_L1TP_031005_20170603_20201016_02_T1_B8_Buffer001.TIF\n",
      "Image spatial resolution of 15.0  meters calculated from  LC08_L1TP_032005_20160420_20200907_02_T1_B8_Buffer002.TIF\n",
      "Image spatial resolution of 15.0  meters calculated from  LC08_L1TP_032005_20190702_20200829_02_T1_B8_Buffer003.TIF\n"
     ]
    },
    {
     "name": "stderr",
     "output_type": "stream",
     "text": [
      "/home/jukes/anaconda3/lib/python3.7/site-packages/ipykernel_launcher.py:18: FionaDeprecationWarning: Collection.__next__() is buggy and will be removed in Fiona 2.0. Switch to `next(iter(collection))`.\n"
     ]
    },
    {
     "name": "stdout",
     "output_type": "stream",
     "text": [
      "Image spatial resolution of 15.0  meters calculated from  LC08_L1TP_030005_20180802_20200831_02_T1_B8_Buffer004.TIF\n",
      "Image spatial resolution of 15.0  meters calculated from  LC08_L1TP_032005_20150402_20200909_02_T1_B8_Buffer005.TIF\n",
      "Image spatial resolution of 15.0  meters calculated from  LC08_L1TP_031006_20190422_20200828_02_T1_B8_Buffer006.TIF\n",
      "Image spatial resolution of 15.0  meters calculated from  LC08_L1TP_031006_20150427_20200909_02_T1_B8_Buffer007.TIF\n",
      "Image spatial resolution of 15.0  meters calculated from  LC08_L1TP_030006_20150810_20200908_02_T1_B8_Buffer008.TIF\n",
      "Image spatial resolution of 15.0  meters calculated from  LE07_L1TP_028006_20030413_20200915_02_T1_B8_Buffer009.TIF\n",
      "Image spatial resolution of 15.0  meters calculated from  LC08_L1TP_028006_20170817_20200903_02_T1_B8_Buffer010.TIF\n",
      "Image spatial resolution of 15.0  meters calculated from  LC08_L1TP_029006_20140613_20200911_02_T1_B8_Buffer011.TIF\n",
      "Image spatial resolution of 15.0  meters calculated from  LC08_L1TP_028006_20200809_20200918_02_T1_B8_Buffer012.TIF\n",
      "Image spatial resolution of 15.0  meters calculated from  LC08_L1TP_030005_20150522_20201016_02_T1_B8_Buffer013.TIF\n",
      "Image spatial resolution of 15.0  meters calculated from  LC08_L1TP_027006_20210922_20210930_02_T1_B8_Buffer014.TIF\n",
      "Image spatial resolution of 15.0  meters calculated from  LC08_L1TP_029006_20150819_20200908_02_T1_B8_Buffer015.TIF\n",
      "Image spatial resolution of 15.0  meters calculated from  LC08_L1TP_027006_20160706_20200906_02_T1_B8_Buffer016.TIF\n",
      "Image spatial resolution of 15.0  meters calculated from  LC08_L1TP_029006_20190729_20200827_02_T1_B8_Buffer017.TIF\n",
      "Image spatial resolution of 15.0  meters calculated from  LC08_L1TP_028005_20170614_20200903_02_T1_B8_Buffer018.TIF\n",
      "Image spatial resolution of 15.0  meters calculated from  LC08_L1TP_028006_20210609_20210615_02_T1_B8_Buffer019.TIF\n",
      "Image spatial resolution of 15.0  meters calculated from  LC08_L1TP_012010_20170326_20200904_02_T1_B8_Buffer020.TIF\n",
      "Image spatial resolution of 15.0  meters calculated from  LC08_L1TP_014009_20200924_20201005_02_T1_B8_Buffer021.TIF\n",
      "Image spatial resolution of 15.0  meters calculated from  LE07_L1TP_012010_20030413_20200916_02_T1_B8_Buffer022.TIF\n",
      "Image spatial resolution of 15.0  meters calculated from  LC08_L1TP_009014_20171015_20200902_02_T1_B8_Buffer023.TIF\n",
      "Image spatial resolution of 15.0  meters calculated from  LE07_L1TP_009014_20010520_20200917_02_T1_B8_Buffer024.TIF\n",
      "Image spatial resolution of 15.0  meters calculated from  LC08_L1TP_009014_20170406_20200904_02_T1_B8_Buffer025.TIF\n",
      "Image spatial resolution of 15.0  meters calculated from  LC08_L1TP_009014_20201007_20201018_02_T1_B8_Buffer026.TIF\n",
      "Image spatial resolution of 15.0  meters calculated from  LC08_L1TP_007014_20150214_20200909_02_T1_B8_Buffer027.TIF\n",
      "Image spatial resolution of 15.0  meters calculated from  LC08_L1TP_009013_20211111_20211116_02_T1_B8_Buffer028.TIF\n",
      "Image spatial resolution of 15.0  meters calculated from  LE07_L1TP_008014_20010310_20200917_02_T1_B8_Buffer029.TIF\n",
      "Image spatial resolution of 15.0  meters calculated from  LC08_L1TP_009013_20170406_20200904_02_T1_B8_Buffer030.TIF\n",
      "Image spatial resolution of 15.0  meters calculated from  LC08_L1TP_007014_20190430_20200829_02_T1_B8_Buffer031.TIF\n",
      "Image spatial resolution of 15.0  meters calculated from  LC08_L1TP_008014_20160615_20200906_02_T1_B8_Buffer032.TIF\n",
      "Image spatial resolution of 15.0  meters calculated from  LE07_L1TP_007014_20000620_20200918_02_T1_B8_Buffer033.TIF\n",
      "Image spatial resolution of 15.0  meters calculated from  LC08_L1TP_009014_20200313_20200822_02_T1_B8_Buffer034.TIF\n",
      "Image spatial resolution of 15.0  meters calculated from  LC08_L1TP_033005_20210324_20210402_02_T1_B8_Buffer035.TIF\n",
      "Image spatial resolution of 15.0  meters calculated from  LC08_L1TP_029006_20170317_20200904_02_T1_B8_Buffer036.TIF\n",
      "Image spatial resolution of 15.0  meters calculated from  LE07_L1TP_027006_20030406_20200915_02_T1_B8_Buffer037.TIF\n",
      "Image spatial resolution of 15.0  meters calculated from  LE07_L1TP_029006_20020823_20200916_02_T1_B8_Buffer038.TIF\n",
      "Image spatial resolution of 15.0  meters calculated from  LC08_L1TP_030006_20160524_20200906_02_T1_B8_Buffer039.TIF\n",
      "Image spatial resolution of 15.0  meters calculated from  LC08_L1TP_031005_20170603_20201016_02_T1_B8_Buffer040.TIF\n",
      "Image spatial resolution of 15.0  meters calculated from  LC08_L1TP_030006_20150319_20200909_02_T1_B8_Buffer041.TIF\n",
      "Image spatial resolution of 15.0  meters calculated from  LC08_L1TP_028006_20200809_20200918_02_T1_B8_Buffer042.TIF\n",
      "Image spatial resolution of 15.0  meters calculated from  LC08_L1TP_031005_20190508_20200830_02_T1_B8_Buffer043.TIF\n",
      "Image spatial resolution of 15.0  meters calculated from  LC08_L1TP_028006_20140318_20200911_02_T1_B8_Buffer044.TIF\n",
      "Image spatial resolution of 15.0  meters calculated from  LC08_L1TP_030005_20150522_20201016_02_T1_B8_Buffer045.TIF\n",
      "Image spatial resolution of 15.0  meters calculated from  LC08_L1TP_029005_20200901_20200906_02_T1_B8_Buffer046.TIF\n",
      "Image spatial resolution of 15.0  meters calculated from  LC08_L1TP_026006_20150510_20201016_02_T1_B8_Buffer047.TIF\n",
      "Image spatial resolution of 15.0  meters calculated from  LC08_L1TP_028006_20200622_20200824_02_T1_B8_Buffer048.TIF\n",
      "Image spatial resolution of 15.0  meters calculated from  LC08_L1TP_028006_20170427_20201015_02_T1_B8_Buffer049.TIF\n",
      "Image spatial resolution of 15.0  meters calculated from  LC08_L1TP_021006_20160829_20200906_02_T1_B8_Buffer050.TIF\n"
     ]
    },
    {
     "data": {
      "text/html": [
       "<div>\n",
       "<style scoped>\n",
       "    .dataframe tbody tr th:only-of-type {\n",
       "        vertical-align: middle;\n",
       "    }\n",
       "\n",
       "    .dataframe tbody tr th {\n",
       "        vertical-align: top;\n",
       "    }\n",
       "\n",
       "    .dataframe thead th {\n",
       "        text-align: right;\n",
       "    }\n",
       "</style>\n",
       "<table border=\"1\" class=\"dataframe\">\n",
       "  <thead>\n",
       "    <tr style=\"text-align: right;\">\n",
       "      <th></th>\n",
       "      <th>BoxID</th>\n",
       "      <th>min_dim_px</th>\n",
       "    </tr>\n",
       "  </thead>\n",
       "  <tbody>\n",
       "    <tr>\n",
       "      <th>0</th>\n",
       "      <td>001</td>\n",
       "      <td>41</td>\n",
       "    </tr>\n",
       "    <tr>\n",
       "      <th>1</th>\n",
       "      <td>002</td>\n",
       "      <td>155</td>\n",
       "    </tr>\n",
       "    <tr>\n",
       "      <th>2</th>\n",
       "      <td>003</td>\n",
       "      <td>229</td>\n",
       "    </tr>\n",
       "    <tr>\n",
       "      <th>3</th>\n",
       "      <td>004</td>\n",
       "      <td>211</td>\n",
       "    </tr>\n",
       "    <tr>\n",
       "      <th>4</th>\n",
       "      <td>005</td>\n",
       "      <td>315</td>\n",
       "    </tr>\n",
       "    <tr>\n",
       "      <th>5</th>\n",
       "      <td>006</td>\n",
       "      <td>112</td>\n",
       "    </tr>\n",
       "    <tr>\n",
       "      <th>6</th>\n",
       "      <td>007</td>\n",
       "      <td>237</td>\n",
       "    </tr>\n",
       "    <tr>\n",
       "      <th>7</th>\n",
       "      <td>008</td>\n",
       "      <td>298</td>\n",
       "    </tr>\n",
       "    <tr>\n",
       "      <th>8</th>\n",
       "      <td>009</td>\n",
       "      <td>185</td>\n",
       "    </tr>\n",
       "    <tr>\n",
       "      <th>9</th>\n",
       "      <td>010</td>\n",
       "      <td>103</td>\n",
       "    </tr>\n",
       "    <tr>\n",
       "      <th>10</th>\n",
       "      <td>011</td>\n",
       "      <td>130</td>\n",
       "    </tr>\n",
       "    <tr>\n",
       "      <th>11</th>\n",
       "      <td>012</td>\n",
       "      <td>125</td>\n",
       "    </tr>\n",
       "    <tr>\n",
       "      <th>12</th>\n",
       "      <td>013</td>\n",
       "      <td>148</td>\n",
       "    </tr>\n",
       "    <tr>\n",
       "      <th>13</th>\n",
       "      <td>014</td>\n",
       "      <td>116</td>\n",
       "    </tr>\n",
       "    <tr>\n",
       "      <th>14</th>\n",
       "      <td>015</td>\n",
       "      <td>104</td>\n",
       "    </tr>\n",
       "    <tr>\n",
       "      <th>15</th>\n",
       "      <td>016</td>\n",
       "      <td>55</td>\n",
       "    </tr>\n",
       "    <tr>\n",
       "      <th>16</th>\n",
       "      <td>017</td>\n",
       "      <td>142</td>\n",
       "    </tr>\n",
       "    <tr>\n",
       "      <th>17</th>\n",
       "      <td>018</td>\n",
       "      <td>235</td>\n",
       "    </tr>\n",
       "    <tr>\n",
       "      <th>18</th>\n",
       "      <td>019</td>\n",
       "      <td>438</td>\n",
       "    </tr>\n",
       "    <tr>\n",
       "      <th>19</th>\n",
       "      <td>020</td>\n",
       "      <td>23</td>\n",
       "    </tr>\n",
       "    <tr>\n",
       "      <th>20</th>\n",
       "      <td>021</td>\n",
       "      <td>24</td>\n",
       "    </tr>\n",
       "    <tr>\n",
       "      <th>21</th>\n",
       "      <td>022</td>\n",
       "      <td>29</td>\n",
       "    </tr>\n",
       "    <tr>\n",
       "      <th>22</th>\n",
       "      <td>023</td>\n",
       "      <td>29</td>\n",
       "    </tr>\n",
       "    <tr>\n",
       "      <th>23</th>\n",
       "      <td>024</td>\n",
       "      <td>71</td>\n",
       "    </tr>\n",
       "    <tr>\n",
       "      <th>24</th>\n",
       "      <td>025</td>\n",
       "      <td>134</td>\n",
       "    </tr>\n",
       "    <tr>\n",
       "      <th>25</th>\n",
       "      <td>026</td>\n",
       "      <td>89</td>\n",
       "    </tr>\n",
       "    <tr>\n",
       "      <th>26</th>\n",
       "      <td>027</td>\n",
       "      <td>26</td>\n",
       "    </tr>\n",
       "    <tr>\n",
       "      <th>27</th>\n",
       "      <td>028</td>\n",
       "      <td>35</td>\n",
       "    </tr>\n",
       "    <tr>\n",
       "      <th>28</th>\n",
       "      <td>029</td>\n",
       "      <td>26</td>\n",
       "    </tr>\n",
       "    <tr>\n",
       "      <th>29</th>\n",
       "      <td>030</td>\n",
       "      <td>38</td>\n",
       "    </tr>\n",
       "    <tr>\n",
       "      <th>30</th>\n",
       "      <td>031</td>\n",
       "      <td>66</td>\n",
       "    </tr>\n",
       "    <tr>\n",
       "      <th>31</th>\n",
       "      <td>032</td>\n",
       "      <td>25</td>\n",
       "    </tr>\n",
       "    <tr>\n",
       "      <th>32</th>\n",
       "      <td>033</td>\n",
       "      <td>108</td>\n",
       "    </tr>\n",
       "    <tr>\n",
       "      <th>33</th>\n",
       "      <td>034</td>\n",
       "      <td>87</td>\n",
       "    </tr>\n",
       "    <tr>\n",
       "      <th>34</th>\n",
       "      <td>035</td>\n",
       "      <td>59</td>\n",
       "    </tr>\n",
       "    <tr>\n",
       "      <th>35</th>\n",
       "      <td>036</td>\n",
       "      <td>86</td>\n",
       "    </tr>\n",
       "    <tr>\n",
       "      <th>36</th>\n",
       "      <td>037</td>\n",
       "      <td>53</td>\n",
       "    </tr>\n",
       "    <tr>\n",
       "      <th>37</th>\n",
       "      <td>038</td>\n",
       "      <td>70</td>\n",
       "    </tr>\n",
       "    <tr>\n",
       "      <th>38</th>\n",
       "      <td>039</td>\n",
       "      <td>79</td>\n",
       "    </tr>\n",
       "    <tr>\n",
       "      <th>39</th>\n",
       "      <td>040</td>\n",
       "      <td>100</td>\n",
       "    </tr>\n",
       "    <tr>\n",
       "      <th>40</th>\n",
       "      <td>041</td>\n",
       "      <td>46</td>\n",
       "    </tr>\n",
       "    <tr>\n",
       "      <th>41</th>\n",
       "      <td>042</td>\n",
       "      <td>78</td>\n",
       "    </tr>\n",
       "    <tr>\n",
       "      <th>42</th>\n",
       "      <td>043</td>\n",
       "      <td>118</td>\n",
       "    </tr>\n",
       "    <tr>\n",
       "      <th>43</th>\n",
       "      <td>044</td>\n",
       "      <td>58</td>\n",
       "    </tr>\n",
       "    <tr>\n",
       "      <th>44</th>\n",
       "      <td>045</td>\n",
       "      <td>70</td>\n",
       "    </tr>\n",
       "    <tr>\n",
       "      <th>45</th>\n",
       "      <td>046</td>\n",
       "      <td>62</td>\n",
       "    </tr>\n",
       "    <tr>\n",
       "      <th>46</th>\n",
       "      <td>047</td>\n",
       "      <td>48</td>\n",
       "    </tr>\n",
       "    <tr>\n",
       "      <th>47</th>\n",
       "      <td>048</td>\n",
       "      <td>47</td>\n",
       "    </tr>\n",
       "    <tr>\n",
       "      <th>48</th>\n",
       "      <td>049</td>\n",
       "      <td>64</td>\n",
       "    </tr>\n",
       "    <tr>\n",
       "      <th>49</th>\n",
       "      <td>050</td>\n",
       "      <td>55</td>\n",
       "    </tr>\n",
       "  </tbody>\n",
       "</table>\n",
       "</div>"
      ],
      "text/plain": [
       "   BoxID  min_dim_px\n",
       "0    001          41\n",
       "1    002         155\n",
       "2    003         229\n",
       "3    004         211\n",
       "4    005         315\n",
       "5    006         112\n",
       "6    007         237\n",
       "7    008         298\n",
       "8    009         185\n",
       "9    010         103\n",
       "10   011         130\n",
       "11   012         125\n",
       "12   013         148\n",
       "13   014         116\n",
       "14   015         104\n",
       "15   016          55\n",
       "16   017         142\n",
       "17   018         235\n",
       "18   019         438\n",
       "19   020          23\n",
       "20   021          24\n",
       "21   022          29\n",
       "22   023          29\n",
       "23   024          71\n",
       "24   025         134\n",
       "25   026          89\n",
       "26   027          26\n",
       "27   028          35\n",
       "28   029          26\n",
       "29   030          38\n",
       "30   031          66\n",
       "31   032          25\n",
       "32   033         108\n",
       "33   034          87\n",
       "34   035          59\n",
       "35   036          86\n",
       "36   037          53\n",
       "37   038          70\n",
       "38   039          79\n",
       "39   040         100\n",
       "40   041          46\n",
       "41   042          78\n",
       "42   043         118\n",
       "43   044          58\n",
       "44   045          70\n",
       "45   046          62\n",
       "46   047          48\n",
       "47   048          47\n",
       "48   049          64\n",
       "49   050          55"
      ]
     },
     "execution_count": 6,
     "metadata": {},
     "output_type": "execute_result"
    }
   ],
   "source": [
    "# Calculate the minimum dimensions of the terminus boxes\n",
    "mindimensions = [] # initialize empty list\n",
    "for BoxID in BoxIDs:\n",
    "    for file in os.listdir(basepath+'Box'+BoxID+'/'):\n",
    "        if 'UTM' in file and '.shp' in file and \"Box\" in file: # identify UTM projected box\n",
    "            boxpath = basepath+\"Box\"+BoxID+\"/\"+file  \n",
    "            termbox = fiona.open(boxpath)\n",
    "    \n",
    "    # automatically calculate spatial resolution of images and grab the extent\n",
    "    for img in os.listdir(downloadpath+'Box'+BoxID+'/'):\n",
    "        if img.startswith('L') and img.endswith('TIF'):\n",
    "            img_reader = rio.open(downloadpath+'Box'+BoxID+'/'+img)\n",
    "            PIXRES = img_reader.transform[0]\n",
    "            print('Image spatial resolution of',PIXRES,' meters calculated from ',img)\n",
    "            break # stop after the first image\n",
    "            \n",
    "    # grab the box coordinates:\n",
    "    box = termbox.next(); box_geom= box.get('geometry'); box_coords = box_geom.get('coordinates')[0]\n",
    "    points = []\n",
    "    for coord_pair in box_coords:\n",
    "        lat = coord_pair[0]; lon = coord_pair[1]; points.append([lat, lon])\n",
    "            \n",
    "    # Calculate distance between coord 1 and 2 and between 2 and 3\n",
    "    coord1 = points[0]; coord2 = points[1]; coord3 = points[2]   \n",
    "    dist1 = distance(coord1[0], coord1[1], coord2[0], coord2[1]);\n",
    "    dist2 = distance(coord2[0], coord2[1], coord3[0], coord3[1]) \n",
    "    mindim = int(np.min([dist1, dist2]))/PIXRES # calculate minimum dimensions, converted into pixels\n",
    "    mindimensions.append(int(mindim))\n",
    "\n",
    "# if os.path.exists(csvpath+BOX_FILENAME): # if the buffer distance was calculated in the previous step\n",
    "#     buff_df = pd.read_csv(csvpath+BOX_FILENAME, dtype=str)\n",
    "#     buff_df['min_dim_px'] = mindimensions # add the minimum dimensions to the existing data\n",
    "# else: # if not, create a new data file\n",
    "buff_df = pd.DataFrame(list(zip(BoxIDs, mindimensions)), columns=['BoxID','min_dim_px'])\n",
    "buff_df    "
   ]
  },
  {
   "cell_type": "code",
   "execution_count": 7,
   "metadata": {},
   "outputs": [],
   "source": [
    "# write to csv\n",
    "buff_df.to_csv(basepath+BOX_FILENAME) "
   ]
  },
  {
   "cell_type": "markdown",
   "metadata": {},
   "source": [
    "Then, the terminus boxes are rasterized using the **gdal_rasterize** command with the following syntax:\n",
    "\n",
    "    gdal_rasterize -burn 1.0 -tr x_resolution y_resolution -a_nodata 0.0 path_to_terminusbox.shp path_to_terminusbox_raster.TIF\n",
    "\n",
    "and subset to the image dimensions using **gdal_warp**:\n",
    "\n",
    "    gdalwarp -cutline path_to_Buffer###.shp -crop_to_cutline path_to_terminusbox_raster.TIF path_to_subset_raster_cut.TIF\n",
    "\n",
    "These rasterized terminus boxes will be used as a mask during the 2D WTMM analysis.     "
   ]
  },
  {
   "cell_type": "code",
   "execution_count": 8,
   "metadata": {},
   "outputs": [
    {
     "name": "stdout",
     "output_type": "stream",
     "text": [
      "Rasterize: gdal_rasterize -burn 1.0 -tr 15.0 15.0 -a_nodata 0.0 -ot Int16 /home/jukes/Documents/Sample_glaciers/Box001/Box001.shp /home/jukes/Documents/Sample_glaciers/Box001/Box001.TIF\n",
      "\n",
      "Subset: gdalwarp -overwrite -ot Int16 -cutline /home/jukes/Documents/Sample_glaciers/Box001/Buffer001.shp -crop_to_cutline /home/jukes/Documents/Sample_glaciers/Box001/Box001.TIF /home/jukes/Documents/Sample_glaciers/Box001/Box001_raster_cut.TIF\n",
      "Rasterize: gdal_rasterize -burn 1.0 -tr 15.0 15.0 -a_nodata 0.0 -ot Int16 /home/jukes/Documents/Sample_glaciers/Box002/Box002.shp /home/jukes/Documents/Sample_glaciers/Box002/Box002.TIF\n",
      "\n",
      "Subset: gdalwarp -overwrite -ot Int16 -cutline /home/jukes/Documents/Sample_glaciers/Box002/Buffer002.shp -crop_to_cutline /home/jukes/Documents/Sample_glaciers/Box002/Box002.TIF /home/jukes/Documents/Sample_glaciers/Box002/Box002_raster_cut.TIF\n",
      "Rasterize: gdal_rasterize -burn 1.0 -tr 15.0 15.0 -a_nodata 0.0 -ot Int16 /home/jukes/Documents/Sample_glaciers/Box003/Box003.shp /home/jukes/Documents/Sample_glaciers/Box003/Box003.TIF\n",
      "\n",
      "Subset: gdalwarp -overwrite -ot Int16 -cutline /home/jukes/Documents/Sample_glaciers/Box003/Buffer003.shp -crop_to_cutline /home/jukes/Documents/Sample_glaciers/Box003/Box003.TIF /home/jukes/Documents/Sample_glaciers/Box003/Box003_raster_cut.TIF\n",
      "Rasterize: gdal_rasterize -burn 1.0 -tr 15.0 15.0 -a_nodata 0.0 -ot Int16 /home/jukes/Documents/Sample_glaciers/Box004/Box004.shp /home/jukes/Documents/Sample_glaciers/Box004/Box004.TIF\n",
      "\n",
      "Subset: gdalwarp -overwrite -ot Int16 -cutline /home/jukes/Documents/Sample_glaciers/Box004/Buffer004.shp -crop_to_cutline /home/jukes/Documents/Sample_glaciers/Box004/Box004.TIF /home/jukes/Documents/Sample_glaciers/Box004/Box004_raster_cut.TIF\n",
      "Rasterize: gdal_rasterize -burn 1.0 -tr 15.0 15.0 -a_nodata 0.0 -ot Int16 /home/jukes/Documents/Sample_glaciers/Box005/Box005.shp /home/jukes/Documents/Sample_glaciers/Box005/Box005.TIF\n",
      "\n",
      "Subset: gdalwarp -overwrite -ot Int16 -cutline /home/jukes/Documents/Sample_glaciers/Box005/Buffer005.shp -crop_to_cutline /home/jukes/Documents/Sample_glaciers/Box005/Box005.TIF /home/jukes/Documents/Sample_glaciers/Box005/Box005_raster_cut.TIF\n",
      "Rasterize: gdal_rasterize -burn 1.0 -tr 15.0 15.0 -a_nodata 0.0 -ot Int16 /home/jukes/Documents/Sample_glaciers/Box006/Box006.shp /home/jukes/Documents/Sample_glaciers/Box006/Box006.TIF\n",
      "\n",
      "Subset: gdalwarp -overwrite -ot Int16 -cutline /home/jukes/Documents/Sample_glaciers/Box006/Buffer006.shp -crop_to_cutline /home/jukes/Documents/Sample_glaciers/Box006/Box006.TIF /home/jukes/Documents/Sample_glaciers/Box006/Box006_raster_cut.TIF\n",
      "Rasterize: gdal_rasterize -burn 1.0 -tr 15.0 15.0 -a_nodata 0.0 -ot Int16 /home/jukes/Documents/Sample_glaciers/Box007/Box007.shp /home/jukes/Documents/Sample_glaciers/Box007/Box007.TIF\n",
      "\n",
      "Subset: gdalwarp -overwrite -ot Int16 -cutline /home/jukes/Documents/Sample_glaciers/Box007/Buffer007.shp -crop_to_cutline /home/jukes/Documents/Sample_glaciers/Box007/Box007.TIF /home/jukes/Documents/Sample_glaciers/Box007/Box007_raster_cut.TIF\n",
      "Rasterize: gdal_rasterize -burn 1.0 -tr 15.0 15.0 -a_nodata 0.0 -ot Int16 /home/jukes/Documents/Sample_glaciers/Box008/Box008.shp /home/jukes/Documents/Sample_glaciers/Box008/Box008.TIF\n",
      "\n",
      "Subset: gdalwarp -overwrite -ot Int16 -cutline /home/jukes/Documents/Sample_glaciers/Box008/Buffer008.shp -crop_to_cutline /home/jukes/Documents/Sample_glaciers/Box008/Box008.TIF /home/jukes/Documents/Sample_glaciers/Box008/Box008_raster_cut.TIF\n",
      "Rasterize: gdal_rasterize -burn 1.0 -tr 15.0 15.0 -a_nodata 0.0 -ot Int16 /home/jukes/Documents/Sample_glaciers/Box009/Box009.shp /home/jukes/Documents/Sample_glaciers/Box009/Box009.TIF\n",
      "\n",
      "Subset: gdalwarp -overwrite -ot Int16 -cutline /home/jukes/Documents/Sample_glaciers/Box009/Buffer009.shp -crop_to_cutline /home/jukes/Documents/Sample_glaciers/Box009/Box009.TIF /home/jukes/Documents/Sample_glaciers/Box009/Box009_raster_cut.TIF\n",
      "Rasterize: gdal_rasterize -burn 1.0 -tr 15.0 15.0 -a_nodata 0.0 -ot Int16 /home/jukes/Documents/Sample_glaciers/Box010/Box010.shp /home/jukes/Documents/Sample_glaciers/Box010/Box010.TIF\n",
      "\n",
      "Subset: gdalwarp -overwrite -ot Int16 -cutline /home/jukes/Documents/Sample_glaciers/Box010/Buffer010.shp -crop_to_cutline /home/jukes/Documents/Sample_glaciers/Box010/Box010.TIF /home/jukes/Documents/Sample_glaciers/Box010/Box010_raster_cut.TIF\n",
      "Rasterize: gdal_rasterize -burn 1.0 -tr 15.0 15.0 -a_nodata 0.0 -ot Int16 /home/jukes/Documents/Sample_glaciers/Box011/Box011.shp /home/jukes/Documents/Sample_glaciers/Box011/Box011.TIF\n",
      "\n",
      "Subset: gdalwarp -overwrite -ot Int16 -cutline /home/jukes/Documents/Sample_glaciers/Box011/Buffer011.shp -crop_to_cutline /home/jukes/Documents/Sample_glaciers/Box011/Box011.TIF /home/jukes/Documents/Sample_glaciers/Box011/Box011_raster_cut.TIF\n",
      "Rasterize: gdal_rasterize -burn 1.0 -tr 15.0 15.0 -a_nodata 0.0 -ot Int16 /home/jukes/Documents/Sample_glaciers/Box012/Box012.shp /home/jukes/Documents/Sample_glaciers/Box012/Box012.TIF\n",
      "\n",
      "Subset: gdalwarp -overwrite -ot Int16 -cutline /home/jukes/Documents/Sample_glaciers/Box012/Buffer012.shp -crop_to_cutline /home/jukes/Documents/Sample_glaciers/Box012/Box012.TIF /home/jukes/Documents/Sample_glaciers/Box012/Box012_raster_cut.TIF\n",
      "Rasterize: gdal_rasterize -burn 1.0 -tr 15.0 15.0 -a_nodata 0.0 -ot Int16 /home/jukes/Documents/Sample_glaciers/Box013/Box013.shp /home/jukes/Documents/Sample_glaciers/Box013/Box013.TIF\n",
      "\n",
      "Subset: gdalwarp -overwrite -ot Int16 -cutline /home/jukes/Documents/Sample_glaciers/Box013/Buffer013.shp -crop_to_cutline /home/jukes/Documents/Sample_glaciers/Box013/Box013.TIF /home/jukes/Documents/Sample_glaciers/Box013/Box013_raster_cut.TIF\n",
      "Rasterize: gdal_rasterize -burn 1.0 -tr 15.0 15.0 -a_nodata 0.0 -ot Int16 /home/jukes/Documents/Sample_glaciers/Box014/Box014.shp /home/jukes/Documents/Sample_glaciers/Box014/Box014.TIF\n",
      "\n",
      "Subset: gdalwarp -overwrite -ot Int16 -cutline /home/jukes/Documents/Sample_glaciers/Box014/Buffer014.shp -crop_to_cutline /home/jukes/Documents/Sample_glaciers/Box014/Box014.TIF /home/jukes/Documents/Sample_glaciers/Box014/Box014_raster_cut.TIF\n",
      "Rasterize: gdal_rasterize -burn 1.0 -tr 15.0 15.0 -a_nodata 0.0 -ot Int16 /home/jukes/Documents/Sample_glaciers/Box015/Box015.shp /home/jukes/Documents/Sample_glaciers/Box015/Box015.TIF\n",
      "\n",
      "Subset: gdalwarp -overwrite -ot Int16 -cutline /home/jukes/Documents/Sample_glaciers/Box015/Buffer015.shp -crop_to_cutline /home/jukes/Documents/Sample_glaciers/Box015/Box015.TIF /home/jukes/Documents/Sample_glaciers/Box015/Box015_raster_cut.TIF\n",
      "Rasterize: gdal_rasterize -burn 1.0 -tr 15.0 15.0 -a_nodata 0.0 -ot Int16 /home/jukes/Documents/Sample_glaciers/Box016/Box016.shp /home/jukes/Documents/Sample_glaciers/Box016/Box016.TIF\n",
      "\n",
      "Subset: gdalwarp -overwrite -ot Int16 -cutline /home/jukes/Documents/Sample_glaciers/Box016/Buffer016.shp -crop_to_cutline /home/jukes/Documents/Sample_glaciers/Box016/Box016.TIF /home/jukes/Documents/Sample_glaciers/Box016/Box016_raster_cut.TIF\n",
      "Rasterize: gdal_rasterize -burn 1.0 -tr 15.0 15.0 -a_nodata 0.0 -ot Int16 /home/jukes/Documents/Sample_glaciers/Box017/Box017.shp /home/jukes/Documents/Sample_glaciers/Box017/Box017.TIF\n",
      "\n",
      "Subset: gdalwarp -overwrite -ot Int16 -cutline /home/jukes/Documents/Sample_glaciers/Box017/Buffer017.shp -crop_to_cutline /home/jukes/Documents/Sample_glaciers/Box017/Box017.TIF /home/jukes/Documents/Sample_glaciers/Box017/Box017_raster_cut.TIF\n",
      "Rasterize: gdal_rasterize -burn 1.0 -tr 15.0 15.0 -a_nodata 0.0 -ot Int16 /home/jukes/Documents/Sample_glaciers/Box018/Box018.shp /home/jukes/Documents/Sample_glaciers/Box018/Box018.TIF\n",
      "\n",
      "Subset: gdalwarp -overwrite -ot Int16 -cutline /home/jukes/Documents/Sample_glaciers/Box018/Buffer018.shp -crop_to_cutline /home/jukes/Documents/Sample_glaciers/Box018/Box018.TIF /home/jukes/Documents/Sample_glaciers/Box018/Box018_raster_cut.TIF\n",
      "Rasterize: gdal_rasterize -burn 1.0 -tr 15.0 15.0 -a_nodata 0.0 -ot Int16 /home/jukes/Documents/Sample_glaciers/Box019/Box019.shp /home/jukes/Documents/Sample_glaciers/Box019/Box019.TIF\n",
      "\n",
      "Subset: gdalwarp -overwrite -ot Int16 -cutline /home/jukes/Documents/Sample_glaciers/Box019/Buffer019.shp -crop_to_cutline /home/jukes/Documents/Sample_glaciers/Box019/Box019.TIF /home/jukes/Documents/Sample_glaciers/Box019/Box019_raster_cut.TIF\n",
      "Rasterize: gdal_rasterize -burn 1.0 -tr 15.0 15.0 -a_nodata 0.0 -ot Int16 /home/jukes/Documents/Sample_glaciers/Box020/Box020.shp /home/jukes/Documents/Sample_glaciers/Box020/Box020.TIF\n",
      "\n",
      "Subset: gdalwarp -overwrite -ot Int16 -cutline /home/jukes/Documents/Sample_glaciers/Box020/Buffer020.shp -crop_to_cutline /home/jukes/Documents/Sample_glaciers/Box020/Box020.TIF /home/jukes/Documents/Sample_glaciers/Box020/Box020_raster_cut.TIF\n"
     ]
    },
    {
     "name": "stdout",
     "output_type": "stream",
     "text": [
      "Rasterize: gdal_rasterize -burn 1.0 -tr 15.0 15.0 -a_nodata 0.0 -ot Int16 /home/jukes/Documents/Sample_glaciers/Box021/Box021.shp /home/jukes/Documents/Sample_glaciers/Box021/Box021.TIF\n",
      "\n",
      "Subset: gdalwarp -overwrite -ot Int16 -cutline /home/jukes/Documents/Sample_glaciers/Box021/Buffer021.shp -crop_to_cutline /home/jukes/Documents/Sample_glaciers/Box021/Box021.TIF /home/jukes/Documents/Sample_glaciers/Box021/Box021_raster_cut.TIF\n",
      "Rasterize: gdal_rasterize -burn 1.0 -tr 15.0 15.0 -a_nodata 0.0 -ot Int16 /home/jukes/Documents/Sample_glaciers/Box022/Box022.shp /home/jukes/Documents/Sample_glaciers/Box022/Box022.TIF\n",
      "\n",
      "Subset: gdalwarp -overwrite -ot Int16 -cutline /home/jukes/Documents/Sample_glaciers/Box022/Buffer022.shp -crop_to_cutline /home/jukes/Documents/Sample_glaciers/Box022/Box022.TIF /home/jukes/Documents/Sample_glaciers/Box022/Box022_raster_cut.TIF\n",
      "Rasterize: gdal_rasterize -burn 1.0 -tr 15.0 15.0 -a_nodata 0.0 -ot Int16 /home/jukes/Documents/Sample_glaciers/Box023/Box023.shp /home/jukes/Documents/Sample_glaciers/Box023/Box023.TIF\n",
      "\n",
      "Subset: gdalwarp -overwrite -ot Int16 -cutline /home/jukes/Documents/Sample_glaciers/Box023/Buffer023.shp -crop_to_cutline /home/jukes/Documents/Sample_glaciers/Box023/Box023.TIF /home/jukes/Documents/Sample_glaciers/Box023/Box023_raster_cut.TIF\n",
      "Rasterize: gdal_rasterize -burn 1.0 -tr 15.0 15.0 -a_nodata 0.0 -ot Int16 /home/jukes/Documents/Sample_glaciers/Box024/Box024.shp /home/jukes/Documents/Sample_glaciers/Box024/Box024.TIF\n",
      "\n",
      "Subset: gdalwarp -overwrite -ot Int16 -cutline /home/jukes/Documents/Sample_glaciers/Box024/Buffer024.shp -crop_to_cutline /home/jukes/Documents/Sample_glaciers/Box024/Box024.TIF /home/jukes/Documents/Sample_glaciers/Box024/Box024_raster_cut.TIF\n",
      "Rasterize: gdal_rasterize -burn 1.0 -tr 15.0 15.0 -a_nodata 0.0 -ot Int16 /home/jukes/Documents/Sample_glaciers/Box025/Box025.shp /home/jukes/Documents/Sample_glaciers/Box025/Box025.TIF\n",
      "\n",
      "Subset: gdalwarp -overwrite -ot Int16 -cutline /home/jukes/Documents/Sample_glaciers/Box025/Buffer025.shp -crop_to_cutline /home/jukes/Documents/Sample_glaciers/Box025/Box025.TIF /home/jukes/Documents/Sample_glaciers/Box025/Box025_raster_cut.TIF\n",
      "Rasterize: gdal_rasterize -burn 1.0 -tr 15.0 15.0 -a_nodata 0.0 -ot Int16 /home/jukes/Documents/Sample_glaciers/Box026/Box026.shp /home/jukes/Documents/Sample_glaciers/Box026/Box026.TIF\n",
      "\n",
      "Subset: gdalwarp -overwrite -ot Int16 -cutline /home/jukes/Documents/Sample_glaciers/Box026/Buffer026.shp -crop_to_cutline /home/jukes/Documents/Sample_glaciers/Box026/Box026.TIF /home/jukes/Documents/Sample_glaciers/Box026/Box026_raster_cut.TIF\n",
      "Rasterize: gdal_rasterize -burn 1.0 -tr 15.0 15.0 -a_nodata 0.0 -ot Int16 /home/jukes/Documents/Sample_glaciers/Box027/Box027.shp /home/jukes/Documents/Sample_glaciers/Box027/Box027.TIF\n",
      "\n",
      "Subset: gdalwarp -overwrite -ot Int16 -cutline /home/jukes/Documents/Sample_glaciers/Box027/Buffer027.shp -crop_to_cutline /home/jukes/Documents/Sample_glaciers/Box027/Box027.TIF /home/jukes/Documents/Sample_glaciers/Box027/Box027_raster_cut.TIF\n",
      "Rasterize: gdal_rasterize -burn 1.0 -tr 15.0 15.0 -a_nodata 0.0 -ot Int16 /home/jukes/Documents/Sample_glaciers/Box028/Box028.shp /home/jukes/Documents/Sample_glaciers/Box028/Box028.TIF\n",
      "\n",
      "Subset: gdalwarp -overwrite -ot Int16 -cutline /home/jukes/Documents/Sample_glaciers/Box028/Buffer028.shp -crop_to_cutline /home/jukes/Documents/Sample_glaciers/Box028/Box028.TIF /home/jukes/Documents/Sample_glaciers/Box028/Box028_raster_cut.TIF\n",
      "Rasterize: gdal_rasterize -burn 1.0 -tr 15.0 15.0 -a_nodata 0.0 -ot Int16 /home/jukes/Documents/Sample_glaciers/Box029/Box029.shp /home/jukes/Documents/Sample_glaciers/Box029/Box029.TIF\n",
      "\n",
      "Subset: gdalwarp -overwrite -ot Int16 -cutline /home/jukes/Documents/Sample_glaciers/Box029/Buffer029.shp -crop_to_cutline /home/jukes/Documents/Sample_glaciers/Box029/Box029.TIF /home/jukes/Documents/Sample_glaciers/Box029/Box029_raster_cut.TIF\n",
      "Rasterize: gdal_rasterize -burn 1.0 -tr 15.0 15.0 -a_nodata 0.0 -ot Int16 /home/jukes/Documents/Sample_glaciers/Box030/Box030.shp /home/jukes/Documents/Sample_glaciers/Box030/Box030.TIF\n",
      "\n",
      "Subset: gdalwarp -overwrite -ot Int16 -cutline /home/jukes/Documents/Sample_glaciers/Box030/Buffer030.shp -crop_to_cutline /home/jukes/Documents/Sample_glaciers/Box030/Box030.TIF /home/jukes/Documents/Sample_glaciers/Box030/Box030_raster_cut.TIF\n",
      "Rasterize: gdal_rasterize -burn 1.0 -tr 15.0 15.0 -a_nodata 0.0 -ot Int16 /home/jukes/Documents/Sample_glaciers/Box031/Box031.shp /home/jukes/Documents/Sample_glaciers/Box031/Box031.TIF\n",
      "\n",
      "Subset: gdalwarp -overwrite -ot Int16 -cutline /home/jukes/Documents/Sample_glaciers/Box031/Buffer031.shp -crop_to_cutline /home/jukes/Documents/Sample_glaciers/Box031/Box031.TIF /home/jukes/Documents/Sample_glaciers/Box031/Box031_raster_cut.TIF\n",
      "Rasterize: gdal_rasterize -burn 1.0 -tr 15.0 15.0 -a_nodata 0.0 -ot Int16 /home/jukes/Documents/Sample_glaciers/Box032/Box032.shp /home/jukes/Documents/Sample_glaciers/Box032/Box032.TIF\n",
      "\n",
      "Subset: gdalwarp -overwrite -ot Int16 -cutline /home/jukes/Documents/Sample_glaciers/Box032/Buffer032.shp -crop_to_cutline /home/jukes/Documents/Sample_glaciers/Box032/Box032.TIF /home/jukes/Documents/Sample_glaciers/Box032/Box032_raster_cut.TIF\n",
      "Rasterize: gdal_rasterize -burn 1.0 -tr 15.0 15.0 -a_nodata 0.0 -ot Int16 /home/jukes/Documents/Sample_glaciers/Box033/Box033.shp /home/jukes/Documents/Sample_glaciers/Box033/Box033.TIF\n",
      "\n",
      "Subset: gdalwarp -overwrite -ot Int16 -cutline /home/jukes/Documents/Sample_glaciers/Box033/Buffer033.shp -crop_to_cutline /home/jukes/Documents/Sample_glaciers/Box033/Box033.TIF /home/jukes/Documents/Sample_glaciers/Box033/Box033_raster_cut.TIF\n",
      "Rasterize: gdal_rasterize -burn 1.0 -tr 15.0 15.0 -a_nodata 0.0 -ot Int16 /home/jukes/Documents/Sample_glaciers/Box034/Box034.shp /home/jukes/Documents/Sample_glaciers/Box034/Box034.TIF\n",
      "\n",
      "Subset: gdalwarp -overwrite -ot Int16 -cutline /home/jukes/Documents/Sample_glaciers/Box034/Buffer034.shp -crop_to_cutline /home/jukes/Documents/Sample_glaciers/Box034/Box034.TIF /home/jukes/Documents/Sample_glaciers/Box034/Box034_raster_cut.TIF\n",
      "Rasterize: gdal_rasterize -burn 1.0 -tr 15.0 15.0 -a_nodata 0.0 -ot Int16 /home/jukes/Documents/Sample_glaciers/Box035/Box035.shp /home/jukes/Documents/Sample_glaciers/Box035/Box035.TIF\n",
      "\n",
      "Subset: gdalwarp -overwrite -ot Int16 -cutline /home/jukes/Documents/Sample_glaciers/Box035/Buffer035.shp -crop_to_cutline /home/jukes/Documents/Sample_glaciers/Box035/Box035.TIF /home/jukes/Documents/Sample_glaciers/Box035/Box035_raster_cut.TIF\n",
      "Rasterize: gdal_rasterize -burn 1.0 -tr 15.0 15.0 -a_nodata 0.0 -ot Int16 /home/jukes/Documents/Sample_glaciers/Box036/Box036.shp /home/jukes/Documents/Sample_glaciers/Box036/Box036.TIF\n",
      "\n",
      "Subset: gdalwarp -overwrite -ot Int16 -cutline /home/jukes/Documents/Sample_glaciers/Box036/Buffer036.shp -crop_to_cutline /home/jukes/Documents/Sample_glaciers/Box036/Box036.TIF /home/jukes/Documents/Sample_glaciers/Box036/Box036_raster_cut.TIF\n",
      "Rasterize: gdal_rasterize -burn 1.0 -tr 15.0 15.0 -a_nodata 0.0 -ot Int16 /home/jukes/Documents/Sample_glaciers/Box037/Box037.shp /home/jukes/Documents/Sample_glaciers/Box037/Box037.TIF\n",
      "\n",
      "Subset: gdalwarp -overwrite -ot Int16 -cutline /home/jukes/Documents/Sample_glaciers/Box037/Buffer037.shp -crop_to_cutline /home/jukes/Documents/Sample_glaciers/Box037/Box037.TIF /home/jukes/Documents/Sample_glaciers/Box037/Box037_raster_cut.TIF\n",
      "Rasterize: gdal_rasterize -burn 1.0 -tr 15.0 15.0 -a_nodata 0.0 -ot Int16 /home/jukes/Documents/Sample_glaciers/Box038/Box038.shp /home/jukes/Documents/Sample_glaciers/Box038/Box038.TIF\n",
      "\n",
      "Subset: gdalwarp -overwrite -ot Int16 -cutline /home/jukes/Documents/Sample_glaciers/Box038/Buffer038.shp -crop_to_cutline /home/jukes/Documents/Sample_glaciers/Box038/Box038.TIF /home/jukes/Documents/Sample_glaciers/Box038/Box038_raster_cut.TIF\n",
      "Rasterize: gdal_rasterize -burn 1.0 -tr 15.0 15.0 -a_nodata 0.0 -ot Int16 /home/jukes/Documents/Sample_glaciers/Box039/Box039.shp /home/jukes/Documents/Sample_glaciers/Box039/Box039.TIF\n",
      "\n",
      "Subset: gdalwarp -overwrite -ot Int16 -cutline /home/jukes/Documents/Sample_glaciers/Box039/Buffer039.shp -crop_to_cutline /home/jukes/Documents/Sample_glaciers/Box039/Box039.TIF /home/jukes/Documents/Sample_glaciers/Box039/Box039_raster_cut.TIF\n"
     ]
    },
    {
     "name": "stdout",
     "output_type": "stream",
     "text": [
      "Rasterize: gdal_rasterize -burn 1.0 -tr 15.0 15.0 -a_nodata 0.0 -ot Int16 /home/jukes/Documents/Sample_glaciers/Box040/Box040.shp /home/jukes/Documents/Sample_glaciers/Box040/Box040.TIF\n",
      "\n",
      "Subset: gdalwarp -overwrite -ot Int16 -cutline /home/jukes/Documents/Sample_glaciers/Box040/Buffer040.shp -crop_to_cutline /home/jukes/Documents/Sample_glaciers/Box040/Box040.TIF /home/jukes/Documents/Sample_glaciers/Box040/Box040_raster_cut.TIF\n",
      "Rasterize: gdal_rasterize -burn 1.0 -tr 15.0 15.0 -a_nodata 0.0 -ot Int16 /home/jukes/Documents/Sample_glaciers/Box041/Box041.shp /home/jukes/Documents/Sample_glaciers/Box041/Box041.TIF\n",
      "\n",
      "Subset: gdalwarp -overwrite -ot Int16 -cutline /home/jukes/Documents/Sample_glaciers/Box041/Buffer041.shp -crop_to_cutline /home/jukes/Documents/Sample_glaciers/Box041/Box041.TIF /home/jukes/Documents/Sample_glaciers/Box041/Box041_raster_cut.TIF\n",
      "Rasterize: gdal_rasterize -burn 1.0 -tr 15.0 15.0 -a_nodata 0.0 -ot Int16 /home/jukes/Documents/Sample_glaciers/Box042/Box042.shp /home/jukes/Documents/Sample_glaciers/Box042/Box042.TIF\n",
      "\n",
      "Subset: gdalwarp -overwrite -ot Int16 -cutline /home/jukes/Documents/Sample_glaciers/Box042/Buffer042.shp -crop_to_cutline /home/jukes/Documents/Sample_glaciers/Box042/Box042.TIF /home/jukes/Documents/Sample_glaciers/Box042/Box042_raster_cut.TIF\n",
      "Rasterize: gdal_rasterize -burn 1.0 -tr 15.0 15.0 -a_nodata 0.0 -ot Int16 /home/jukes/Documents/Sample_glaciers/Box043/Box043.shp /home/jukes/Documents/Sample_glaciers/Box043/Box043.TIF\n",
      "\n",
      "Subset: gdalwarp -overwrite -ot Int16 -cutline /home/jukes/Documents/Sample_glaciers/Box043/Buffer043.shp -crop_to_cutline /home/jukes/Documents/Sample_glaciers/Box043/Box043.TIF /home/jukes/Documents/Sample_glaciers/Box043/Box043_raster_cut.TIF\n",
      "Rasterize: gdal_rasterize -burn 1.0 -tr 15.0 15.0 -a_nodata 0.0 -ot Int16 /home/jukes/Documents/Sample_glaciers/Box044/Box044.shp /home/jukes/Documents/Sample_glaciers/Box044/Box044.TIF\n",
      "\n",
      "Subset: gdalwarp -overwrite -ot Int16 -cutline /home/jukes/Documents/Sample_glaciers/Box044/Buffer044.shp -crop_to_cutline /home/jukes/Documents/Sample_glaciers/Box044/Box044.TIF /home/jukes/Documents/Sample_glaciers/Box044/Box044_raster_cut.TIF\n",
      "Rasterize: gdal_rasterize -burn 1.0 -tr 15.0 15.0 -a_nodata 0.0 -ot Int16 /home/jukes/Documents/Sample_glaciers/Box045/Box045.shp /home/jukes/Documents/Sample_glaciers/Box045/Box045.TIF\n",
      "\n",
      "Subset: gdalwarp -overwrite -ot Int16 -cutline /home/jukes/Documents/Sample_glaciers/Box045/Buffer045.shp -crop_to_cutline /home/jukes/Documents/Sample_glaciers/Box045/Box045.TIF /home/jukes/Documents/Sample_glaciers/Box045/Box045_raster_cut.TIF\n",
      "Rasterize: gdal_rasterize -burn 1.0 -tr 15.0 15.0 -a_nodata 0.0 -ot Int16 /home/jukes/Documents/Sample_glaciers/Box046/Box046.shp /home/jukes/Documents/Sample_glaciers/Box046/Box046.TIF\n",
      "\n",
      "Subset: gdalwarp -overwrite -ot Int16 -cutline /home/jukes/Documents/Sample_glaciers/Box046/Buffer046.shp -crop_to_cutline /home/jukes/Documents/Sample_glaciers/Box046/Box046.TIF /home/jukes/Documents/Sample_glaciers/Box046/Box046_raster_cut.TIF\n",
      "Rasterize: gdal_rasterize -burn 1.0 -tr 15.0 15.0 -a_nodata 0.0 -ot Int16 /home/jukes/Documents/Sample_glaciers/Box047/Box047.shp /home/jukes/Documents/Sample_glaciers/Box047/Box047.TIF\n",
      "\n",
      "Subset: gdalwarp -overwrite -ot Int16 -cutline /home/jukes/Documents/Sample_glaciers/Box047/Buffer047.shp -crop_to_cutline /home/jukes/Documents/Sample_glaciers/Box047/Box047.TIF /home/jukes/Documents/Sample_glaciers/Box047/Box047_raster_cut.TIF\n",
      "Rasterize: gdal_rasterize -burn 1.0 -tr 15.0 15.0 -a_nodata 0.0 -ot Int16 /home/jukes/Documents/Sample_glaciers/Box048/Box048.shp /home/jukes/Documents/Sample_glaciers/Box048/Box048.TIF\n",
      "\n",
      "Subset: gdalwarp -overwrite -ot Int16 -cutline /home/jukes/Documents/Sample_glaciers/Box048/Buffer048.shp -crop_to_cutline /home/jukes/Documents/Sample_glaciers/Box048/Box048.TIF /home/jukes/Documents/Sample_glaciers/Box048/Box048_raster_cut.TIF\n",
      "Rasterize: gdal_rasterize -burn 1.0 -tr 15.0 15.0 -a_nodata 0.0 -ot Int16 /home/jukes/Documents/Sample_glaciers/Box049/Box049.shp /home/jukes/Documents/Sample_glaciers/Box049/Box049.TIF\n",
      "\n",
      "Subset: gdalwarp -overwrite -ot Int16 -cutline /home/jukes/Documents/Sample_glaciers/Box049/Buffer049.shp -crop_to_cutline /home/jukes/Documents/Sample_glaciers/Box049/Box049.TIF /home/jukes/Documents/Sample_glaciers/Box049/Box049_raster_cut.TIF\n",
      "Rasterize: gdal_rasterize -burn 1.0 -tr 15.0 15.0 -a_nodata 0.0 -ot Int16 /home/jukes/Documents/Sample_glaciers/Box050/Box050.shp /home/jukes/Documents/Sample_glaciers/Box050/Box050.TIF\n",
      "\n",
      "Subset: gdalwarp -overwrite -ot Int16 -cutline /home/jukes/Documents/Sample_glaciers/Box050/Buffer050.shp -crop_to_cutline /home/jukes/Documents/Sample_glaciers/Box050/Box050.TIF /home/jukes/Documents/Sample_glaciers/Box050/Box050_raster_cut.TIF\n"
     ]
    }
   ],
   "source": [
    "# Rasterize images\n",
    "for index, row in buff_df.iterrows():\n",
    "    BoxID = row['BoxID']\n",
    "    terminusbox_path = basepath+\"Box\"+BoxID+\"/Box\"+BoxID # path to box\n",
    "    buffer_path = basepath+\"Box\"+BoxID+\"/Buffer\"+BoxID # path to buffer\n",
    "    \n",
    "    terminusraster_path = basepath+\"Box\"+BoxID+\"/Box\"+BoxID+\".TIF\" # path to rasterized box\n",
    "    cutraster_path = basepath+\"Box\"+BoxID+\"/Box\"+BoxID+\"_raster_cut.TIF\" # name for cropped file\n",
    "    \n",
    "    # Set rasterization command:\n",
    "    rasterize_cmd = 'gdal_rasterize -burn 1.0 -tr '+str(PIXRES)+' '+str(PIXRES) # PIXRES from image\n",
    "    rasterize_cmd += ' -a_nodata 0.0 -ot Int16 '+terminusbox_path+'.shp '+terminusraster_path\n",
    "    print(\"Rasterize:\", rasterize_cmd); print()\n",
    "    \n",
    "    # Set subsetting command:\n",
    "    if True:\n",
    "#     if not os.path.exists(buffer_path+'.shp'): # if there is a buffer shapefile\n",
    "        subsetpath = buffer_path # use it to subset the rasterized terminus box\n",
    "#     else: # otherwise, use bounds from downloaded image\n",
    "#         with fiona.open(terminusbox_path+'.shp', \"r\") as source: # grab EPSG of terminus box\n",
    "#             source_crs = source.crs['init'].split(':')[1]\n",
    "#         rp_path = downloadpath+'Box'+BoxID+'/reprojected/' # path to the reprojected images\n",
    "#         ref_img = rio.open(rp_path+os.listdir(rp_path)[0]) # grab the first image\n",
    "#         img_bounds = geometry.Polygon([geometry.Point(ref_img.bounds.left, ref_img.bounds.top),\n",
    "#                     geometry.Point(ref_img.bounds.right, ref_img.bounds.top),\n",
    "#                     geometry.Point(ref_img.bounds.right, ref_img.bounds.bottom),\n",
    "#                     geometry.Point(ref_img.bounds.left, ref_img.bounds.bottom),\n",
    "#                     geometry.Point(ref_img.bounds.left, ref_img.bounds.top)])\n",
    "#         # Define a polygon feature geometry with one attribute\n",
    "#         schema = {'geometry': 'Polygon','properties': {'id': 'int'}}\n",
    "#         # Write a new Shapefile\n",
    "#         with fiona.open(basepath+\"Box\"+BoxID+'/img_bounds_Box'+BoxID+'.shp', 'w', 'ESRI Shapefile', schema,\n",
    "#                         crs=fiona.crs.from_epsg(source_crs))as c:\n",
    "#             ## If there are multiple geometries, put the \"for\" loop here\n",
    "#             c.write({'geometry': geometry.mapping(img_bounds),'properties': {'id': 123},})\n",
    "#         subsetpath = basepath+\"Box\"+BoxID+'/img_bounds_Box'+BoxID # use this path\n",
    "        \n",
    "    subset_cmd = 'gdalwarp -overwrite -ot Int16 -cutline '+subsetpath+'.shp -crop_to_cutline '\n",
    "    subset_cmd += terminusraster_path+' '+cutraster_path\n",
    "    print('Subset:', subset_cmd)\n",
    "    \n",
    "    subprocess.run(rasterize_cmd, shell=True,check=True) # rasterize with command terminal\n",
    "    subprocess.run(subset_cmd, shell=True,check=True) # subset to buffer with command terminal\n",
    "    "
   ]
  },
  {
   "cell_type": "markdown",
   "metadata": {},
   "source": [
    "# 4) Rotate all images so glacier flow is to the right\n",
    "\n",
    "## 4A) Calculate weighted average flow direction \n",
    "\n",
    "The following code processes ice velocity (vx, vy) rasters to determine each glacier of interest's weighted average flow direction. These files should be placed in the base directory (basepath). The rasters are subset using the terminus box shapefile or the Randolph Glacier Inventory outlines using a GDAL command (**gdalwarp**) with the following syntax:\n",
    "\n",
    "    gdalwarp -cutline path_to_terminusbox.shp -crop_to_cutline path_to_input_velocity.TIF path_to_output_velocity.TIF"
   ]
  },
  {
   "cell_type": "code",
   "execution_count": 9,
   "metadata": {
    "scrolled": true
   },
   "outputs": [
    {
     "name": "stdout",
     "output_type": "stream",
     "text": [
      "Box001\n",
      "Box001 done.\n",
      "Box002\n",
      "Box002 done.\n",
      "Box003\n",
      "Box003 done.\n",
      "Box004\n",
      "Box004 done.\n",
      "Box005\n",
      "Box005 done.\n",
      "Box006\n",
      "Box006 done.\n",
      "Box007\n",
      "Box007 done.\n",
      "Box008\n",
      "Box008 done.\n",
      "Box009\n",
      "Box009 done.\n",
      "Box010\n",
      "Box010 done.\n",
      "Box011\n",
      "Box011 done.\n",
      "Box012\n",
      "Box012 done.\n",
      "Box013\n",
      "Box013 done.\n",
      "Box014\n",
      "Box014 done.\n",
      "Box015\n",
      "Box015 done.\n",
      "Box016\n",
      "Box016 done.\n",
      "Box017\n",
      "Box017 done.\n",
      "Box018\n",
      "Box018 done.\n",
      "Box019\n",
      "Box019 done.\n",
      "Box020\n",
      "Box020 done.\n",
      "Box021\n",
      "Box021 done.\n",
      "Box022\n",
      "Box022 done.\n",
      "Box023\n",
      "Box023 done.\n",
      "Box024\n",
      "Box024 done.\n",
      "Box025\n",
      "Box025 done.\n",
      "Box026\n",
      "Box026 done.\n",
      "Box027\n",
      "Box027 done.\n",
      "Box028\n",
      "Box028 done.\n",
      "Box029\n",
      "Box029 done.\n",
      "Box030\n",
      "Box030 done.\n",
      "Box031\n",
      "Box031 done.\n",
      "Box032\n",
      "Box032 done.\n",
      "Box033\n",
      "Box033 done.\n",
      "Box034\n",
      "Box034 done.\n",
      "Box035\n",
      "Box035 done.\n",
      "Box036\n",
      "Box036 done.\n",
      "Box037\n",
      "Box037 done.\n",
      "Box038\n",
      "Box038 done.\n",
      "Box039\n",
      "Box039 done.\n",
      "Box040\n",
      "Box040 done.\n",
      "Box041\n",
      "Box041 done.\n",
      "Box042\n",
      "Box042 done.\n",
      "Box043\n",
      "Box043 done.\n",
      "Box044\n",
      "Box044 done.\n",
      "Box045\n",
      "Box045 done.\n",
      "Box046\n",
      "Box046 done.\n",
      "Box047\n",
      "Box047 done.\n",
      "Box048\n",
      "Box048 done.\n",
      "Box049\n",
      "Box049 done.\n",
      "Box050\n",
      "Box050 done.\n"
     ]
    }
   ],
   "source": [
    "# crop the velocity raster to the RGI shapefile if available, terminus box if not\n",
    "for BoxID in BoxIDs:\n",
    "    print('Box'+BoxID)\n",
    "    terminus_path = basepath+\"Box\"+BoxID+\"/Box\"+BoxID+\".shp\"  # set the path to the box shapefile instead\n",
    "#     terminus_path = basepath+\"Box\"+BoxID+\"/RGI_Box\"+BoxID+\".shp\"  # path to RGI shapefile\n",
    "\n",
    "#     if not os.path.exists(terminus_path): # if the RGI shapefile does not exist\n",
    "#         terminus_path = basepath+\"Box\"+BoxID+\"/Box\"+BoxID+\".shp\"  # set the path to the box shapefile instead \n",
    "#         print('Using terminus box.')\n",
    "#     else:\n",
    "#         print('Using RGI glacier outline.')\n",
    "\n",
    "    vx_in = basepath+vx_name; vy_in = basepath+vy_name # input velocity file paths\n",
    "    \n",
    "    # output paths for the cropped velocity data:\n",
    "    vx_out = terminus_path[:-4]+'_'+vx_name; vy_out = terminus_path[:-4]+'_'+vy_name\n",
    "    \n",
    "    # subset x and y velocity files\n",
    "    v_subset1 = 'gdalwarp -overwrite -cutline '+terminus_path+' -crop_to_cutline '+vx_in+\" \"+vx_out\n",
    "    v_subset2 = 'gdalwarp -overwrite -cutline '+terminus_path+' -crop_to_cutline '+vy_in+\" \"+vy_out\n",
    "    \n",
    "    subprocess.run(v_subset1, shell=True, check=True)\n",
    "    subprocess.run(v_subset2, shell=True, check=True)\n",
    "    print(\"Box\"+BoxID+' done.')"
   ]
  },
  {
   "cell_type": "markdown",
   "metadata": {},
   "source": [
    "Next, these subset velocity rasters are opened using the **rasterio** package and read into arrays. They are filtered for anomalous values and the velocity magnitudes are converted into weights. Then the **numpy.average()** function is used to calculated the weighted average flow directions where the flow directions of the pixels where the highest velocities are found are weighted higher. The resulting average flow direction will be used to rotate the images of the glaciers so that their flow is due right.\n",
    "\n",
    "#### For the slow-moving Greenland peripheral glaciers, the ice velocities are very uncertain. Below, we use the manual delineations of the Greenland peripheral glaciers in 2000 and 2015 to approximate the flow direction."
   ]
  },
  {
   "cell_type": "code",
   "execution_count": 10,
   "metadata": {},
   "outputs": [
    {
     "name": "stdout",
     "output_type": "stream",
     "text": [
      "['301', '289', '283', '265', '241', '223', '285', '181', '097', '091', '067', '083', '221', '173', '113', '101', '089', '082', '100', '112', '118', '130', '160', '196', '208', '226', '256', '262', '280', '298', '322', '072', '074', '080', '082', '084', '102', '114', '134', '132', '144', '159', '188', '189', '198', '207', '212', '222', '224', '234', '242', '243', '249', '254', '258', '264', '267', '272', '273', '278', '282', '284', '288', '297', '305', '306', '307', '315', '318', '321', '324', '327', '330', '331', '338', '341', '344', '354', '356', '357', '358', '359', '362', '363', '364', '369', '370', '371', '372', '373', '374', '376', '377', '379', '380', '381', '382', '383', '384', '385', '386', '387', '388', '389', '390', '391', '392', '393', '394', '395', '396', '397', '398', '399', '400', '401', '404', '405', '406', '407', '408', '409', '410', '414', '415', '416', '417', '418', '419', '420', '421', '422', '427', '430', '431', '434', '436', '438', '440']\n"
     ]
    }
   ],
   "source": [
    "##################################################################################################\n",
    "# ONLY APPLIES TO GREENLAND PERIPHERAL GLACIERS\n",
    "gperiph = True # SWITCH TO FALSE IF NOT USING THE PERIPHERAL GLACIER DATA\n",
    "\n",
    "badvelocities = ['301', '289', '283', '265', '241', '223', '285', '181', '097', '091', '067','083',\n",
    "                 '221', '173', '113', '101', '089', '082', '100', '112', '118', '130', '160', '196', \n",
    "                 '208', '226', '256', '262', '280', '298', '322', '072', '074', '080', '082', '084',\n",
    "                '102', '114', '134', '132', '144', '159', '188', '189', '198', '207', '212', '222',\n",
    "                '224', '234', '242', '243', '249', '254', '258', '264', '267', '272', '273', '278', \n",
    "                '282', '284', '288', '297', '305', '306', '307', '315', '318', '321', '324', '327',\n",
    "                '330', '331', '338', '341', '344', '354', '356', '357', '358', '359', '362', '363',\n",
    "                 '364', '369', '370', '371', '372', '373', '374', '376', '377', '379', '380', '381', \n",
    "                 '382', '383', '384', '385', '386', '387', '388', '389', '390', '391', '392', '393',\n",
    "                 '394', '395', '396', '397', '398', '399', '400', '401' ,'404', '405', '406', '407',\n",
    "                 '408', '409', '410', '414', '415', '416', '417', '418', '419', '420', '421', '422',\n",
    "                 '427', '430', '431', '434', '436', '438', '440']\n",
    "print(badvelocities)\n",
    "\n",
    "# path to the folder with the 2000-2015 manual terminus delineations:\n",
    "path2000_2015 = '/media/jukes/easystore/TEMP_STORE_FROM_JUKES1/2000_2015/'\n",
    "###################################################################################################"
   ]
  },
  {
   "cell_type": "code",
   "execution_count": 11,
   "metadata": {},
   "outputs": [
    {
     "data": {
      "text/html": [
       "<div>\n",
       "<style scoped>\n",
       "    .dataframe tbody tr th:only-of-type {\n",
       "        vertical-align: middle;\n",
       "    }\n",
       "\n",
       "    .dataframe tbody tr th {\n",
       "        vertical-align: top;\n",
       "    }\n",
       "\n",
       "    .dataframe thead th {\n",
       "        text-align: right;\n",
       "    }\n",
       "</style>\n",
       "<table border=\"1\" class=\"dataframe\">\n",
       "  <thead>\n",
       "    <tr style=\"text-align: right;\">\n",
       "      <th></th>\n",
       "      <th>BoxID</th>\n",
       "      <th>Flow_dir</th>\n",
       "      <th>Max_speed</th>\n",
       "      <th>Pixels</th>\n",
       "    </tr>\n",
       "  </thead>\n",
       "  <tbody>\n",
       "    <tr>\n",
       "      <th>0</th>\n",
       "      <td>001</td>\n",
       "      <td>67.897476</td>\n",
       "      <td>65.850273</td>\n",
       "      <td>2</td>\n",
       "    </tr>\n",
       "    <tr>\n",
       "      <th>1</th>\n",
       "      <td>002</td>\n",
       "      <td>149.000626</td>\n",
       "      <td>1316.702271</td>\n",
       "      <td>68</td>\n",
       "    </tr>\n",
       "    <tr>\n",
       "      <th>2</th>\n",
       "      <td>003</td>\n",
       "      <td>283.342316</td>\n",
       "      <td>96.268173</td>\n",
       "      <td>169</td>\n",
       "    </tr>\n",
       "    <tr>\n",
       "      <th>3</th>\n",
       "      <td>004</td>\n",
       "      <td>74.176384</td>\n",
       "      <td>122.305473</td>\n",
       "      <td>136</td>\n",
       "    </tr>\n",
       "    <tr>\n",
       "      <th>4</th>\n",
       "      <td>005</td>\n",
       "      <td>160.686234</td>\n",
       "      <td>62.782242</td>\n",
       "      <td>246</td>\n",
       "    </tr>\n",
       "    <tr>\n",
       "      <th>5</th>\n",
       "      <td>006</td>\n",
       "      <td>255.520309</td>\n",
       "      <td>65.018517</td>\n",
       "      <td>28</td>\n",
       "    </tr>\n",
       "    <tr>\n",
       "      <th>6</th>\n",
       "      <td>007</td>\n",
       "      <td>330.260773</td>\n",
       "      <td>285.045624</td>\n",
       "      <td>189</td>\n",
       "    </tr>\n",
       "    <tr>\n",
       "      <th>7</th>\n",
       "      <td>008</td>\n",
       "      <td>317.060795</td>\n",
       "      <td>1714.385254</td>\n",
       "      <td>284</td>\n",
       "    </tr>\n",
       "    <tr>\n",
       "      <th>8</th>\n",
       "      <td>009</td>\n",
       "      <td>317.874939</td>\n",
       "      <td>656.156433</td>\n",
       "      <td>112</td>\n",
       "    </tr>\n",
       "    <tr>\n",
       "      <th>9</th>\n",
       "      <td>010</td>\n",
       "      <td>201.140060</td>\n",
       "      <td>81.258751</td>\n",
       "      <td>39</td>\n",
       "    </tr>\n",
       "    <tr>\n",
       "      <th>10</th>\n",
       "      <td>011</td>\n",
       "      <td>108.313950</td>\n",
       "      <td>37.411522</td>\n",
       "      <td>50</td>\n",
       "    </tr>\n",
       "    <tr>\n",
       "      <th>11</th>\n",
       "      <td>012</td>\n",
       "      <td>138.901627</td>\n",
       "      <td>86.483475</td>\n",
       "      <td>47</td>\n",
       "    </tr>\n",
       "    <tr>\n",
       "      <th>12</th>\n",
       "      <td>013</td>\n",
       "      <td>313.717606</td>\n",
       "      <td>37.856995</td>\n",
       "      <td>49</td>\n",
       "    </tr>\n",
       "    <tr>\n",
       "      <th>13</th>\n",
       "      <td>014</td>\n",
       "      <td>217.799530</td>\n",
       "      <td>69.574905</td>\n",
       "      <td>24</td>\n",
       "    </tr>\n",
       "    <tr>\n",
       "      <th>14</th>\n",
       "      <td>015</td>\n",
       "      <td>25.697502</td>\n",
       "      <td>94.986534</td>\n",
       "      <td>21</td>\n",
       "    </tr>\n",
       "    <tr>\n",
       "      <th>15</th>\n",
       "      <td>016</td>\n",
       "      <td>185.334366</td>\n",
       "      <td>42.206993</td>\n",
       "      <td>9</td>\n",
       "    </tr>\n",
       "    <tr>\n",
       "      <th>16</th>\n",
       "      <td>017</td>\n",
       "      <td>251.414833</td>\n",
       "      <td>37.207890</td>\n",
       "      <td>54</td>\n",
       "    </tr>\n",
       "    <tr>\n",
       "      <th>17</th>\n",
       "      <td>018</td>\n",
       "      <td>318.285339</td>\n",
       "      <td>62.969387</td>\n",
       "      <td>109</td>\n",
       "    </tr>\n",
       "    <tr>\n",
       "      <th>18</th>\n",
       "      <td>019</td>\n",
       "      <td>316.030190</td>\n",
       "      <td>144.714859</td>\n",
       "      <td>413</td>\n",
       "    </tr>\n",
       "    <tr>\n",
       "      <th>19</th>\n",
       "      <td>020</td>\n",
       "      <td>NaN</td>\n",
       "      <td>NaN</td>\n",
       "      <td>0</td>\n",
       "    </tr>\n",
       "    <tr>\n",
       "      <th>20</th>\n",
       "      <td>021</td>\n",
       "      <td>329.029938</td>\n",
       "      <td>75.113609</td>\n",
       "      <td>3</td>\n",
       "    </tr>\n",
       "    <tr>\n",
       "      <th>21</th>\n",
       "      <td>022</td>\n",
       "      <td>302.876434</td>\n",
       "      <td>127.064125</td>\n",
       "      <td>2</td>\n",
       "    </tr>\n",
       "    <tr>\n",
       "      <th>22</th>\n",
       "      <td>023</td>\n",
       "      <td>NaN</td>\n",
       "      <td>NaN</td>\n",
       "      <td>0</td>\n",
       "    </tr>\n",
       "    <tr>\n",
       "      <th>23</th>\n",
       "      <td>024</td>\n",
       "      <td>164.215302</td>\n",
       "      <td>494.913605</td>\n",
       "      <td>6</td>\n",
       "    </tr>\n",
       "    <tr>\n",
       "      <th>24</th>\n",
       "      <td>025</td>\n",
       "      <td>294.550415</td>\n",
       "      <td>161.343475</td>\n",
       "      <td>48</td>\n",
       "    </tr>\n",
       "    <tr>\n",
       "      <th>25</th>\n",
       "      <td>026</td>\n",
       "      <td>186.284027</td>\n",
       "      <td>197.016968</td>\n",
       "      <td>6</td>\n",
       "    </tr>\n",
       "    <tr>\n",
       "      <th>26</th>\n",
       "      <td>027</td>\n",
       "      <td>NaN</td>\n",
       "      <td>NaN</td>\n",
       "      <td>0</td>\n",
       "    </tr>\n",
       "    <tr>\n",
       "      <th>27</th>\n",
       "      <td>028</td>\n",
       "      <td>282.364716</td>\n",
       "      <td>5.463352</td>\n",
       "      <td>2</td>\n",
       "    </tr>\n",
       "    <tr>\n",
       "      <th>28</th>\n",
       "      <td>029</td>\n",
       "      <td>NaN</td>\n",
       "      <td>NaN</td>\n",
       "      <td>0</td>\n",
       "    </tr>\n",
       "    <tr>\n",
       "      <th>29</th>\n",
       "      <td>030</td>\n",
       "      <td>NaN</td>\n",
       "      <td>NaN</td>\n",
       "      <td>0</td>\n",
       "    </tr>\n",
       "    <tr>\n",
       "      <th>30</th>\n",
       "      <td>031</td>\n",
       "      <td>289.741058</td>\n",
       "      <td>539.627319</td>\n",
       "      <td>17</td>\n",
       "    </tr>\n",
       "    <tr>\n",
       "      <th>31</th>\n",
       "      <td>032</td>\n",
       "      <td>121.771980</td>\n",
       "      <td>24.696033</td>\n",
       "      <td>4</td>\n",
       "    </tr>\n",
       "    <tr>\n",
       "      <th>32</th>\n",
       "      <td>033</td>\n",
       "      <td>146.697754</td>\n",
       "      <td>644.557434</td>\n",
       "      <td>34</td>\n",
       "    </tr>\n",
       "    <tr>\n",
       "      <th>33</th>\n",
       "      <td>034</td>\n",
       "      <td>241.496109</td>\n",
       "      <td>156.529877</td>\n",
       "      <td>47</td>\n",
       "    </tr>\n",
       "    <tr>\n",
       "      <th>34</th>\n",
       "      <td>035</td>\n",
       "      <td>28.761404</td>\n",
       "      <td>45.073586</td>\n",
       "      <td>10</td>\n",
       "    </tr>\n",
       "    <tr>\n",
       "      <th>35</th>\n",
       "      <td>036</td>\n",
       "      <td>99.200150</td>\n",
       "      <td>33.504795</td>\n",
       "      <td>5</td>\n",
       "    </tr>\n",
       "    <tr>\n",
       "      <th>36</th>\n",
       "      <td>037</td>\n",
       "      <td>NaN</td>\n",
       "      <td>NaN</td>\n",
       "      <td>0</td>\n",
       "    </tr>\n",
       "    <tr>\n",
       "      <th>37</th>\n",
       "      <td>038</td>\n",
       "      <td>NaN</td>\n",
       "      <td>NaN</td>\n",
       "      <td>0</td>\n",
       "    </tr>\n",
       "    <tr>\n",
       "      <th>38</th>\n",
       "      <td>039</td>\n",
       "      <td>11.962062</td>\n",
       "      <td>27.685019</td>\n",
       "      <td>10</td>\n",
       "    </tr>\n",
       "    <tr>\n",
       "      <th>39</th>\n",
       "      <td>040</td>\n",
       "      <td>243.146255</td>\n",
       "      <td>31.522287</td>\n",
       "      <td>27</td>\n",
       "    </tr>\n",
       "    <tr>\n",
       "      <th>40</th>\n",
       "      <td>041</td>\n",
       "      <td>334.659016</td>\n",
       "      <td>18.475018</td>\n",
       "      <td>7</td>\n",
       "    </tr>\n",
       "    <tr>\n",
       "      <th>41</th>\n",
       "      <td>042</td>\n",
       "      <td>50.922035</td>\n",
       "      <td>27.429102</td>\n",
       "      <td>14</td>\n",
       "    </tr>\n",
       "    <tr>\n",
       "      <th>42</th>\n",
       "      <td>043</td>\n",
       "      <td>15.143155</td>\n",
       "      <td>23.664394</td>\n",
       "      <td>15</td>\n",
       "    </tr>\n",
       "    <tr>\n",
       "      <th>43</th>\n",
       "      <td>044</td>\n",
       "      <td>316.163120</td>\n",
       "      <td>6.664971</td>\n",
       "      <td>4</td>\n",
       "    </tr>\n",
       "    <tr>\n",
       "      <th>44</th>\n",
       "      <td>045</td>\n",
       "      <td>137.464218</td>\n",
       "      <td>6.652572</td>\n",
       "      <td>6</td>\n",
       "    </tr>\n",
       "    <tr>\n",
       "      <th>45</th>\n",
       "      <td>046</td>\n",
       "      <td>90.491493</td>\n",
       "      <td>58.068317</td>\n",
       "      <td>8</td>\n",
       "    </tr>\n",
       "    <tr>\n",
       "      <th>46</th>\n",
       "      <td>047</td>\n",
       "      <td>203.001038</td>\n",
       "      <td>84.763405</td>\n",
       "      <td>5</td>\n",
       "    </tr>\n",
       "    <tr>\n",
       "      <th>47</th>\n",
       "      <td>048</td>\n",
       "      <td>296.990295</td>\n",
       "      <td>18.099419</td>\n",
       "      <td>4</td>\n",
       "    </tr>\n",
       "    <tr>\n",
       "      <th>48</th>\n",
       "      <td>049</td>\n",
       "      <td>343.030914</td>\n",
       "      <td>33.004101</td>\n",
       "      <td>6</td>\n",
       "    </tr>\n",
       "    <tr>\n",
       "      <th>49</th>\n",
       "      <td>050</td>\n",
       "      <td>256.792908</td>\n",
       "      <td>27.941235</td>\n",
       "      <td>5</td>\n",
       "    </tr>\n",
       "  </tbody>\n",
       "</table>\n",
       "</div>"
      ],
      "text/plain": [
       "   BoxID    Flow_dir    Max_speed  Pixels\n",
       "0    001   67.897476    65.850273       2\n",
       "1    002  149.000626  1316.702271      68\n",
       "2    003  283.342316    96.268173     169\n",
       "3    004   74.176384   122.305473     136\n",
       "4    005  160.686234    62.782242     246\n",
       "5    006  255.520309    65.018517      28\n",
       "6    007  330.260773   285.045624     189\n",
       "7    008  317.060795  1714.385254     284\n",
       "8    009  317.874939   656.156433     112\n",
       "9    010  201.140060    81.258751      39\n",
       "10   011  108.313950    37.411522      50\n",
       "11   012  138.901627    86.483475      47\n",
       "12   013  313.717606    37.856995      49\n",
       "13   014  217.799530    69.574905      24\n",
       "14   015   25.697502    94.986534      21\n",
       "15   016  185.334366    42.206993       9\n",
       "16   017  251.414833    37.207890      54\n",
       "17   018  318.285339    62.969387     109\n",
       "18   019  316.030190   144.714859     413\n",
       "19   020         NaN          NaN       0\n",
       "20   021  329.029938    75.113609       3\n",
       "21   022  302.876434   127.064125       2\n",
       "22   023         NaN          NaN       0\n",
       "23   024  164.215302   494.913605       6\n",
       "24   025  294.550415   161.343475      48\n",
       "25   026  186.284027   197.016968       6\n",
       "26   027         NaN          NaN       0\n",
       "27   028  282.364716     5.463352       2\n",
       "28   029         NaN          NaN       0\n",
       "29   030         NaN          NaN       0\n",
       "30   031  289.741058   539.627319      17\n",
       "31   032  121.771980    24.696033       4\n",
       "32   033  146.697754   644.557434      34\n",
       "33   034  241.496109   156.529877      47\n",
       "34   035   28.761404    45.073586      10\n",
       "35   036   99.200150    33.504795       5\n",
       "36   037         NaN          NaN       0\n",
       "37   038         NaN          NaN       0\n",
       "38   039   11.962062    27.685019      10\n",
       "39   040  243.146255    31.522287      27\n",
       "40   041  334.659016    18.475018       7\n",
       "41   042   50.922035    27.429102      14\n",
       "42   043   15.143155    23.664394      15\n",
       "43   044  316.163120     6.664971       4\n",
       "44   045  137.464218     6.652572       6\n",
       "45   046   90.491493    58.068317       8\n",
       "46   047  203.001038    84.763405       5\n",
       "47   048  296.990295    18.099419       4\n",
       "48   049  343.030914    33.004101       6\n",
       "49   050  256.792908    27.941235       5"
      ]
     },
     "execution_count": 11,
     "metadata": {},
     "output_type": "execute_result"
    }
   ],
   "source": [
    "# calculate glacier flow direction and speed\n",
    "boxes = []; avg_rot = []; max_mag = []; num_cells = [] # to hold the boxIDs, rotation angle, max. glacier speed, and number of pixels\n",
    "\n",
    "for BoxID in BoxIDs:\n",
    "    rot_angles = []; max_magnitudes = [] # store angles and speeds from all pixels\n",
    "    \n",
    "    # determine if RGI outline was used to subset velocities\n",
    "    rgi_exists = 0\n",
    "    for file in os.listdir(basepath+\"Box\"+BoxID):\n",
    "        if file.startswith('RGI'):\n",
    "            rgi_exists = 1\n",
    "            \n",
    "    if rgi_exists == 1: # if yes, open those files    \n",
    "        vx = rio.open(basepath+\"Box\"+BoxID+\"/Box\"+BoxID+'_'+vx_name, \"r\") \n",
    "        vy = rio.open(basepath+\"Box\"+BoxID+\"/Box\"+BoxID+'_'+vy_name, \"r\") \n",
    "    else: # if not, they were subset using the boxes. Open those files\n",
    "        vx = rio.open(basepath+\"Box\"+BoxID+\"/Box\"+BoxID+'_'+vx_name, \"r\") \n",
    "        vy = rio.open(basepath+\"Box\"+BoxID+\"/Box\"+BoxID+'_'+vy_name, \"r\") \n",
    "    vx_array = vx.read(); vy_array = vy.read() # read as numpy array\n",
    "    \n",
    "    # remove no data values\n",
    "    vx_masked = vx_array[vx_array != no_data_val]\n",
    "    vy_masked = vy_array[vy_array != no_data_val]\n",
    "    \n",
    "    # calculate flow direction\n",
    "    direction = np.arctan2(vy_masked, vx_masked)*180/np.pi \n",
    "    # transform so any negative angles are placed on 0 to 360 scale:\n",
    "    if len(direction[direction < 0]) > 0:\n",
    "        direction[direction < 0] = 360.0+direction[direction < 0]\n",
    "    \n",
    "    # calculate speed (flow magnitude)\n",
    "    magnitude = np.sqrt((vx_masked*vx_masked) + (vy_masked*vy_masked)) \n",
    "    \n",
    "    ncells = len(direction) # number of pixels\n",
    "    if ncells > 0:\n",
    "        # Determine if there are a large number of direction pixels with values > 200.0\n",
    "        # If so, it's probably pointing East\n",
    "        dir_range = direction.max() - direction.min()\n",
    "        if dir_range > 200.0 and len(direction[direction > 200]): # if large range and values above 200\n",
    "            direction[direction > 180] = direction[direction > 180] - 360.0 # transform those values on a negative scale\n",
    "            # calculate weights (0 - 1) from magnitudes\n",
    "            mag_range = magnitude.max() - magnitude.min()\n",
    "            stretch = 1/mag_range; weights = stretch*(magnitude - magnitude.min()) # weights for averaging\n",
    "            avg_dir = np.average(direction, weights=weights) # calculate average flow direction\n",
    "            if avg_dir < 0: # if negative:\n",
    "                avg_dir = avg_dir + 360.0 # transform back to 0 to 360 scale\n",
    "        else:\n",
    "            mag_range = magnitude.max() - magnitude.min(); stretch = 1/mag_range\n",
    "            weights = stretch*(magnitude - magnitude.min())\n",
    "            avg_dir = np.average(direction, weights=weights)\n",
    "                \n",
    "        if vt == 'day':\n",
    "            max_magnitude = magnitude.max()\n",
    "        elif vt == 'year':\n",
    "            yr_day_conv = 0.00273973 # conversion to m/d from m/a\n",
    "            max_magnitude = magnitude.max()*yr_day_conv  \n",
    "    else: # no velocity pixels remaining once cropped\n",
    "        avg_dir = np.NaN ; max_magnitude = np.NaN # no velocities to calculate this with\n",
    "    \n",
    "    if gperiph == True and BoxID in badvelocities: # ONLY APPLIES TO GREENLAND PERIPHERAL GLACIERS\n",
    "        # grab the 2000 and 2015 delineation centroids:\n",
    "        shp2000 = fiona.open(path2000_2015+'GreenlandPeriph_term2000_'+BoxID+'.shp'); feat2000= shp2000.next()\n",
    "        lineshp2000 = LineString(feat2000['geometry']['coordinates'])\n",
    "        cent2000 = np.array(lineshp2000.centroid)\n",
    "\n",
    "        shp2015 = fiona.open(path2000_2015+'GreenlandPeriph_term2015_'+BoxID+'.shp'); feat2015= shp2015.next()\n",
    "        lineshp2015 = LineString(feat2015['geometry']['coordinates'])\n",
    "        cent2015 = np.array(lineshp2015.centroid)\n",
    "\n",
    "        # grab displacements and use to calculate flow direction in degrees\n",
    "        y = cent2000[1] - cent2015[1]; x = cent2000[0] - cent2015[0]\n",
    "        avg_dir = np.arctan2(y,x)*180/np.pi\n",
    "        if avg_dir < 0:\n",
    "            avg_dir = 360.0+avg_dir\n",
    "         \n",
    "        # if max_magnitude cannot be calculated from the velocity raster (pixels == 0)\n",
    "        if ncells == 0:\n",
    "            # use displacements and time to approximate speed in m/d\n",
    "            yrs = 15.0 # 2000 to 2015\n",
    "            max_magnitude = np.sqrt((y*y)+(x*x))/yrs*yr_day_conv\n",
    "        ncells = np.NaN # enter NaN to indicate that velocity raster was not used\n",
    "   \n",
    "    # Append values to lists:\n",
    "    avg_rot.append(avg_dir); max_mag.append(max_magnitude); boxes.append(BoxID); num_cells.append(ncells)  \n",
    "\n",
    "# store the flow direction (rotation angle), maximum magnitude\n",
    "velocities_df = pd.DataFrame(list(zip(boxes,avg_rot, max_mag, num_cells)), \n",
    "                             columns=['BoxID','Flow_dir', 'Max_speed', 'Pixels'])\n",
    "velocities_df = velocities_df.sort_values(by='BoxID')\n",
    "velocities_df # display"
   ]
  },
  {
   "cell_type": "code",
   "execution_count": 12,
   "metadata": {},
   "outputs": [],
   "source": [
    "# write velocity data to CSV\n",
    "velocities_df.to_csv(path_or_buf = basepath+VEL_FILENAME, sep=',')"
   ]
  },
  {
   "cell_type": "markdown",
   "metadata": {},
   "source": [
    "## 4B) Rotate images by glacier flow direction and crop them all to the same dimension"
   ]
  },
  {
   "cell_type": "code",
   "execution_count": 4,
   "metadata": {},
   "outputs": [
    {
     "data": {
      "text/html": [
       "<div>\n",
       "<style scoped>\n",
       "    .dataframe tbody tr th:only-of-type {\n",
       "        vertical-align: middle;\n",
       "    }\n",
       "\n",
       "    .dataframe tbody tr th {\n",
       "        vertical-align: top;\n",
       "    }\n",
       "\n",
       "    .dataframe thead th {\n",
       "        text-align: right;\n",
       "    }\n",
       "</style>\n",
       "<table border=\"1\" class=\"dataframe\">\n",
       "  <thead>\n",
       "    <tr style=\"text-align: right;\">\n",
       "      <th></th>\n",
       "      <th>Flow_dir</th>\n",
       "      <th>Max_speed</th>\n",
       "      <th>Pixels</th>\n",
       "    </tr>\n",
       "    <tr>\n",
       "      <th>BoxID</th>\n",
       "      <th></th>\n",
       "      <th></th>\n",
       "      <th></th>\n",
       "    </tr>\n",
       "  </thead>\n",
       "  <tbody>\n",
       "    <tr>\n",
       "      <th>001</th>\n",
       "      <td>67.89747619628906</td>\n",
       "      <td>65.85027313232422</td>\n",
       "      <td>2</td>\n",
       "    </tr>\n",
       "    <tr>\n",
       "      <th>002</th>\n",
       "      <td>149.00062561035156</td>\n",
       "      <td>1316.7022705078125</td>\n",
       "      <td>68</td>\n",
       "    </tr>\n",
       "    <tr>\n",
       "      <th>003</th>\n",
       "      <td>283.3423156738281</td>\n",
       "      <td>96.26817321777344</td>\n",
       "      <td>169</td>\n",
       "    </tr>\n",
       "    <tr>\n",
       "      <th>004</th>\n",
       "      <td>74.17638397216797</td>\n",
       "      <td>122.30547332763672</td>\n",
       "      <td>136</td>\n",
       "    </tr>\n",
       "    <tr>\n",
       "      <th>005</th>\n",
       "      <td>160.6862335205078</td>\n",
       "      <td>62.78224182128906</td>\n",
       "      <td>246</td>\n",
       "    </tr>\n",
       "  </tbody>\n",
       "</table>\n",
       "</div>"
      ],
      "text/plain": [
       "                 Flow_dir           Max_speed Pixels\n",
       "BoxID                                               \n",
       "001     67.89747619628906   65.85027313232422      2\n",
       "002    149.00062561035156  1316.7022705078125     68\n",
       "003     283.3423156738281   96.26817321777344    169\n",
       "004     74.17638397216797  122.30547332763672    136\n",
       "005     160.6862335205078   62.78224182128906    246"
      ]
     },
     "execution_count": 4,
     "metadata": {},
     "output_type": "execute_result"
    }
   ],
   "source": [
    "# Read in the glacier velocity file as velocities_df if not already loaded:\n",
    "velocities_df = pd.read_csv(basepath+VEL_FILENAME, sep=',', dtype=str, usecols=[1,2,3,4])\n",
    "velocities_df = velocities_df.set_index('BoxID')\n",
    "velocities_df.head()"
   ]
  },
  {
   "cell_type": "code",
   "execution_count": 7,
   "metadata": {},
   "outputs": [
    {
     "name": "stdout",
     "output_type": "stream",
     "text": [
      "Rotated image folder already exists.\n",
      "Rotated image folder already exists.\n",
      "Rotated image folder already exists.\n",
      "Rotated image folder already exists.\n",
      "Rotated image folder already exists.\n",
      "Rotated image folder already exists.\n",
      "Rotated image folder already exists.\n",
      "Rotated image folder already exists.\n",
      "Rotated image folder already exists.\n",
      "Rotated image folder already exists.\n",
      "Rotated image folder already exists.\n",
      "Rotated image folder already exists.\n",
      "Rotated image folder already exists.\n",
      "Rotated image folder already exists.\n",
      "Rotated image folder already exists.\n",
      "Rotated image folder already exists.\n",
      "Rotated image folder already exists.\n",
      "Rotated image folder already exists.\n",
      "Rotated image folder already exists.\n",
      "Rotated image folder already exists.\n",
      "Rotated image folder already exists.\n",
      "Rotated image folder already exists.\n",
      "Rotated image folder already exists.\n",
      "Rotated image folder already exists.\n",
      "Rotated image folder already exists.\n",
      "Rotated image folder already exists.\n",
      "Rotated image folder already exists.\n",
      "Rotated image folder already exists.\n",
      "Rotated image folder already exists.\n",
      "Rotated image folder already exists.\n",
      "Rotated image folder already exists.\n",
      "Rotated image folder already exists.\n",
      "Rotated image folder already exists.\n",
      "Rotated image folder already exists.\n",
      "Rotated image folder already exists.\n",
      "Rotated image folder already exists.\n",
      "Rotated image folder already exists.\n",
      "Rotated image folder already exists.\n",
      "Rotated image folder already exists.\n",
      "Rotated image folder already exists.\n",
      "Rotated image folder already exists.\n",
      "Rotated image folder already exists.\n",
      "Rotated image folder already exists.\n",
      "Rotated image folder already exists.\n",
      "Rotated image folder already exists.\n",
      "Rotated image folder already exists.\n",
      "Rotated image folder already exists.\n",
      "Rotated image folder already exists.\n",
      "Rotated image folder already exists.\n",
      "Rotated image folder already exists.\n"
     ]
    }
   ],
   "source": [
    "# make directory for rotated images in BoxID folders if it doesn't already exist\n",
    "for index, row in velocities_df.iterrows():\n",
    "    BoxID = index\n",
    "    if os.path.exists(downloadpath+\"Box\"+BoxID+'/'+folder_name+'/'):\n",
    "        print(\"Rotated image folder already exists.\")\n",
    "    else:\n",
    "        os.mkdir(downloadpath+\"Box\"+BoxID+'/'+folder_name+'/')\n",
    "        print(\"Rotated image folder made for Box\"+BoxID)"
   ]
  },
  {
   "cell_type": "code",
   "execution_count": 8,
   "metadata": {},
   "outputs": [],
   "source": [
    "# move rasterized terminus box into reprojected folder, since it will also need to be rotated:\n",
    "for index, row in velocities_df.iterrows():\n",
    "    BoxID = index\n",
    "    boxfile = 'Box'+BoxID+'_raster_cut.TIF'\n",
    "    boxrasterpath = basepath+'Box'+BoxID+'/'+boxfile\n",
    "    newpath = downloadpath+'Box'+BoxID+'/reprojected/'+boxfile\n",
    "#     print(boxrasterpath)\n",
    "#     print(newpath)\n",
    "    shutil.copyfile(boxrasterpath, newpath)"
   ]
  },
  {
   "cell_type": "code",
   "execution_count": 18,
   "metadata": {},
   "outputs": [
    {
     "name": "stdout",
     "output_type": "stream",
     "text": [
      "001\n",
      "001\n",
      "cd /media/jukes/jukes1/LS8aws/Box001/reprojected/; mogrify -quiet -define 'tiff:ignore-tags=33550,33922,34735,34737,42113' -format png *.TIF\n",
      "finished this box\n",
      "002\n",
      "002\n",
      "cd /media/jukes/jukes1/LS8aws/Box002/reprojected/; mogrify -quiet -define 'tiff:ignore-tags=33550,33922,34735,34737,42113' -format png *.TIF\n",
      "finished this box\n",
      "003\n",
      "003\n",
      "cd /media/jukes/jukes1/LS8aws/Box003/reprojected/; mogrify -quiet -define 'tiff:ignore-tags=33550,33922,34735,34737,42113' -format png *.TIF\n",
      "finished this box\n",
      "004\n",
      "004\n",
      "cd /media/jukes/jukes1/LS8aws/Box004/reprojected/; mogrify -quiet -define 'tiff:ignore-tags=33550,33922,34735,34737,42113' -format png *.TIF\n",
      "finished this box\n",
      "005\n",
      "005\n",
      "cd /media/jukes/jukes1/LS8aws/Box005/reprojected/; mogrify -quiet -define 'tiff:ignore-tags=33550,33922,34735,34737,42113' -format png *.TIF\n",
      "finished this box\n",
      "006\n",
      "006\n",
      "cd /media/jukes/jukes1/LS8aws/Box006/reprojected/; mogrify -quiet -define 'tiff:ignore-tags=33550,33922,34735,34737,42113' -format png *.TIF\n",
      "finished this box\n",
      "007\n",
      "007\n",
      "cd /media/jukes/jukes1/LS8aws/Box007/reprojected/; mogrify -quiet -define 'tiff:ignore-tags=33550,33922,34735,34737,42113' -format png *.TIF\n",
      "finished this box\n",
      "008\n",
      "008\n",
      "cd /media/jukes/jukes1/LS8aws/Box008/reprojected/; mogrify -quiet -define 'tiff:ignore-tags=33550,33922,34735,34737,42113' -format png *.TIF\n",
      "finished this box\n",
      "009\n",
      "009\n",
      "cd /media/jukes/jukes1/LS8aws/Box009/reprojected/; mogrify -quiet -define 'tiff:ignore-tags=33550,33922,34735,34737,42113' -format png *.TIF\n",
      "finished this box\n",
      "010\n",
      "010\n",
      "cd /media/jukes/jukes1/LS8aws/Box010/reprojected/; mogrify -quiet -define 'tiff:ignore-tags=33550,33922,34735,34737,42113' -format png *.TIF\n",
      "finished this box\n",
      "011\n",
      "011\n",
      "cd /media/jukes/jukes1/LS8aws/Box011/reprojected/; mogrify -quiet -define 'tiff:ignore-tags=33550,33922,34735,34737,42113' -format png *.TIF\n",
      "finished this box\n",
      "012\n",
      "012\n",
      "cd /media/jukes/jukes1/LS8aws/Box012/reprojected/; mogrify -quiet -define 'tiff:ignore-tags=33550,33922,34735,34737,42113' -format png *.TIF\n",
      "finished this box\n",
      "013\n",
      "013\n",
      "cd /media/jukes/jukes1/LS8aws/Box013/reprojected/; mogrify -quiet -define 'tiff:ignore-tags=33550,33922,34735,34737,42113' -format png *.TIF\n",
      "finished this box\n",
      "014\n",
      "014\n",
      "cd /media/jukes/jukes1/LS8aws/Box014/reprojected/; mogrify -quiet -define 'tiff:ignore-tags=33550,33922,34735,34737,42113' -format png *.TIF\n",
      "finished this box\n",
      "015\n",
      "015\n",
      "cd /media/jukes/jukes1/LS8aws/Box015/reprojected/; mogrify -quiet -define 'tiff:ignore-tags=33550,33922,34735,34737,42113' -format png *.TIF\n",
      "finished this box\n",
      "016\n",
      "016\n",
      "cd /media/jukes/jukes1/LS8aws/Box016/reprojected/; mogrify -quiet -define 'tiff:ignore-tags=33550,33922,34735,34737,42113' -format png *.TIF\n",
      "finished this box\n",
      "017\n",
      "017\n",
      "cd /media/jukes/jukes1/LS8aws/Box017/reprojected/; mogrify -quiet -define 'tiff:ignore-tags=33550,33922,34735,34737,42113' -format png *.TIF\n",
      "finished this box\n",
      "018\n",
      "018\n",
      "cd /media/jukes/jukes1/LS8aws/Box018/reprojected/; mogrify -quiet -define 'tiff:ignore-tags=33550,33922,34735,34737,42113' -format png *.TIF\n",
      "finished this box\n",
      "019\n",
      "019\n",
      "cd /media/jukes/jukes1/LS8aws/Box019/reprojected/; mogrify -quiet -define 'tiff:ignore-tags=33550,33922,34735,34737,42113' -format png *.TIF\n",
      "finished this box\n",
      "020\n",
      "020\n",
      "cd /media/jukes/jukes1/LS8aws/Box020/reprojected/; mogrify -quiet -define 'tiff:ignore-tags=33550,33922,34735,34737,42113' -format png *.TIF\n",
      "finished this box\n",
      "021\n",
      "021\n",
      "cd /media/jukes/jukes1/LS8aws/Box021/reprojected/; mogrify -quiet -define 'tiff:ignore-tags=33550,33922,34735,34737,42113' -format png *.TIF\n",
      "finished this box\n",
      "022\n",
      "022\n",
      "cd /media/jukes/jukes1/LS8aws/Box022/reprojected/; mogrify -quiet -define 'tiff:ignore-tags=33550,33922,34735,34737,42113' -format png *.TIF\n",
      "finished this box\n",
      "023\n",
      "023\n",
      "cd /media/jukes/jukes1/LS8aws/Box023/reprojected/; mogrify -quiet -define 'tiff:ignore-tags=33550,33922,34735,34737,42113' -format png *.TIF\n",
      "finished this box\n",
      "024\n",
      "024\n",
      "cd /media/jukes/jukes1/LS8aws/Box024/reprojected/; mogrify -quiet -define 'tiff:ignore-tags=33550,33922,34735,34737,42113' -format png *.TIF\n",
      "finished this box\n",
      "025\n",
      "025\n",
      "cd /media/jukes/jukes1/LS8aws/Box025/reprojected/; mogrify -quiet -define 'tiff:ignore-tags=33550,33922,34735,34737,42113' -format png *.TIF\n",
      "finished this box\n",
      "026\n",
      "026\n",
      "cd /media/jukes/jukes1/LS8aws/Box026/reprojected/; mogrify -quiet -define 'tiff:ignore-tags=33550,33922,34735,34737,42113' -format png *.TIF\n",
      "finished this box\n",
      "027\n",
      "027\n",
      "cd /media/jukes/jukes1/LS8aws/Box027/reprojected/; mogrify -quiet -define 'tiff:ignore-tags=33550,33922,34735,34737,42113' -format png *.TIF\n",
      "finished this box\n",
      "028\n",
      "028\n",
      "cd /media/jukes/jukes1/LS8aws/Box028/reprojected/; mogrify -quiet -define 'tiff:ignore-tags=33550,33922,34735,34737,42113' -format png *.TIF\n",
      "finished this box\n",
      "029\n",
      "029\n",
      "cd /media/jukes/jukes1/LS8aws/Box029/reprojected/; mogrify -quiet -define 'tiff:ignore-tags=33550,33922,34735,34737,42113' -format png *.TIF\n",
      "finished this box\n",
      "030\n",
      "030\n",
      "cd /media/jukes/jukes1/LS8aws/Box030/reprojected/; mogrify -quiet -define 'tiff:ignore-tags=33550,33922,34735,34737,42113' -format png *.TIF\n",
      "finished this box\n",
      "031\n",
      "031\n",
      "cd /media/jukes/jukes1/LS8aws/Box031/reprojected/; mogrify -quiet -define 'tiff:ignore-tags=33550,33922,34735,34737,42113' -format png *.TIF\n",
      "finished this box\n",
      "032\n",
      "032\n",
      "cd /media/jukes/jukes1/LS8aws/Box032/reprojected/; mogrify -quiet -define 'tiff:ignore-tags=33550,33922,34735,34737,42113' -format png *.TIF\n",
      "finished this box\n",
      "033\n",
      "033\n",
      "cd /media/jukes/jukes1/LS8aws/Box033/reprojected/; mogrify -quiet -define 'tiff:ignore-tags=33550,33922,34735,34737,42113' -format png *.TIF\n",
      "finished this box\n",
      "034\n",
      "034\n",
      "cd /media/jukes/jukes1/LS8aws/Box034/reprojected/; mogrify -quiet -define 'tiff:ignore-tags=33550,33922,34735,34737,42113' -format png *.TIF\n",
      "finished this box\n",
      "035\n",
      "035\n",
      "cd /media/jukes/jukes1/LS8aws/Box035/reprojected/; mogrify -quiet -define 'tiff:ignore-tags=33550,33922,34735,34737,42113' -format png *.TIF\n",
      "finished this box\n",
      "036\n",
      "036\n",
      "cd /media/jukes/jukes1/LS8aws/Box036/reprojected/; mogrify -quiet -define 'tiff:ignore-tags=33550,33922,34735,34737,42113' -format png *.TIF\n",
      "finished this box\n",
      "037\n",
      "037\n",
      "cd /media/jukes/jukes1/LS8aws/Box037/reprojected/; mogrify -quiet -define 'tiff:ignore-tags=33550,33922,34735,34737,42113' -format png *.TIF\n",
      "finished this box\n",
      "038\n",
      "038\n",
      "cd /media/jukes/jukes1/LS8aws/Box038/reprojected/; mogrify -quiet -define 'tiff:ignore-tags=33550,33922,34735,34737,42113' -format png *.TIF\n",
      "finished this box\n",
      "039\n",
      "039\n",
      "cd /media/jukes/jukes1/LS8aws/Box039/reprojected/; mogrify -quiet -define 'tiff:ignore-tags=33550,33922,34735,34737,42113' -format png *.TIF\n",
      "finished this box\n",
      "040\n",
      "040\n",
      "cd /media/jukes/jukes1/LS8aws/Box040/reprojected/; mogrify -quiet -define 'tiff:ignore-tags=33550,33922,34735,34737,42113' -format png *.TIF\n",
      "finished this box\n",
      "041\n",
      "041\n",
      "cd /media/jukes/jukes1/LS8aws/Box041/reprojected/; mogrify -quiet -define 'tiff:ignore-tags=33550,33922,34735,34737,42113' -format png *.TIF\n",
      "finished this box\n",
      "042\n",
      "042\n",
      "cd /media/jukes/jukes1/LS8aws/Box042/reprojected/; mogrify -quiet -define 'tiff:ignore-tags=33550,33922,34735,34737,42113' -format png *.TIF\n",
      "finished this box\n",
      "043\n",
      "043\n",
      "cd /media/jukes/jukes1/LS8aws/Box043/reprojected/; mogrify -quiet -define 'tiff:ignore-tags=33550,33922,34735,34737,42113' -format png *.TIF\n",
      "finished this box\n",
      "044\n",
      "044\n",
      "cd /media/jukes/jukes1/LS8aws/Box044/reprojected/; mogrify -quiet -define 'tiff:ignore-tags=33550,33922,34735,34737,42113' -format png *.TIF\n",
      "finished this box\n",
      "045\n",
      "045\n",
      "cd /media/jukes/jukes1/LS8aws/Box045/reprojected/; mogrify -quiet -define 'tiff:ignore-tags=33550,33922,34735,34737,42113' -format png *.TIF\n",
      "finished this box\n",
      "046\n",
      "046\n",
      "cd /media/jukes/jukes1/LS8aws/Box046/reprojected/; mogrify -quiet -define 'tiff:ignore-tags=33550,33922,34735,34737,42113' -format png *.TIF\n",
      "finished this box\n",
      "047\n",
      "047\n",
      "cd /media/jukes/jukes1/LS8aws/Box047/reprojected/; mogrify -quiet -define 'tiff:ignore-tags=33550,33922,34735,34737,42113' -format png *.TIF\n",
      "finished this box\n",
      "048\n",
      "048\n",
      "cd /media/jukes/jukes1/LS8aws/Box048/reprojected/; mogrify -quiet -define 'tiff:ignore-tags=33550,33922,34735,34737,42113' -format png *.TIF\n",
      "finished this box\n",
      "049\n",
      "049\n",
      "cd /media/jukes/jukes1/LS8aws/Box049/reprojected/; mogrify -quiet -define 'tiff:ignore-tags=33550,33922,34735,34737,42113' -format png *.TIF\n",
      "finished this box\n",
      "050\n",
      "050\n",
      "cd /media/jukes/jukes1/LS8aws/Box050/reprojected/; mogrify -quiet -define 'tiff:ignore-tags=33550,33922,34735,34737,42113' -format png *.TIF\n"
     ]
    },
    {
     "name": "stdout",
     "output_type": "stream",
     "text": [
      "finished this box\n",
      "Conversion to PNG finished.\n"
     ]
    }
   ],
   "source": [
    "# convert all images to png for rotation using image magick\n",
    "for index, row in velocities_df.iterrows():\n",
    "    print(index)\n",
    "    BoxID = index\n",
    "    print(BoxID)\n",
    "#     command = 'cd '+downloadpath+'Box'+BoxID+'/reprojected/; magick mogrify -format png *.TIF' # on Mac\n",
    "    command = \"cd \"+downloadpath+\"Box\"+BoxID+\"/reprojected/; mogrify -quiet -define 'tiff:ignore-tags=33550,33922,34735,34737,42113' -format png *.TIF\" # just do for raster on Linux tiff:ignore-tags=33550,33922,34735,34737,42113\n",
    "    print(command)\n",
    "    subprocess.run(command, shell=True,check=True)\n",
    "    print('finished this box')\n",
    "print('Conversion to PNG finished.')"
   ]
  },
  {
   "cell_type": "markdown",
   "metadata": {},
   "source": [
    "**_CalledProcessError: Command returned non-zero exit status 1._ may occur even if the conversion was successful. Check that the pngs have been created and proceed.**"
   ]
  },
  {
   "cell_type": "code",
   "execution_count": 19,
   "metadata": {
    "scrolled": true
   },
   "outputs": [
    {
     "name": "stdout",
     "output_type": "stream",
     "text": [
      "Box001\n",
      "Box001_raster_cut.png\n",
      "rotated image shape: (235, 221)\n",
      "rotated iarray shape: (235, 221, 2)\n"
     ]
    },
    {
     "data": {
      "image/png": "[encoded data removed]",
      "text/plain": [
       "<Figure size 432x288 with 1 Axes>"
      ]
     },
     "metadata": {
      "needs_background": "light"
     },
     "output_type": "display_data"
    },
    {
     "name": "stdout",
     "output_type": "stream",
     "text": [
      "235 221 (235, 221, 2)\n",
      "Box002\n",
      "Box002_raster_cut.png\n",
      "rotated image shape: (841, 902)\n",
      "rotated iarray shape: (841, 902, 2)\n"
     ]
    },
    {
     "data": {
      "image/png": "[encoded data removed]",
      "text/plain": [
       "<Figure size 432x288 with 1 Axes>"
      ]
     },
     "metadata": {
      "needs_background": "light"
     },
     "output_type": "display_data"
    },
    {
     "name": "stdout",
     "output_type": "stream",
     "text": [
      "841 902 (841, 902, 2)\n",
      "Box003\n",
      "Box003_raster_cut.png\n",
      "rotated image shape: (1087, 990)\n",
      "rotated iarray shape: (1087, 990, 2)\n"
     ]
    },
    {
     "data": {
      "image/png": "[encoded data removed]",
      "text/plain": [
       "<Figure size 432x288 with 1 Axes>"
      ]
     },
     "metadata": {
      "needs_background": "light"
     },
     "output_type": "display_data"
    },
    {
     "name": "stdout",
     "output_type": "stream",
     "text": [
      "1087 990 (1087, 990, 2)\n",
      "Box004\n",
      "Box004_raster_cut.png\n",
      "rotated image shape: (883, 952)\n",
      "rotated iarray shape: (883, 952, 2)\n"
     ]
    },
    {
     "data": {
      "image/png": "[encoded data removed]",
      "text/plain": [
       "<Figure size 432x288 with 1 Axes>"
      ]
     },
     "metadata": {
      "needs_background": "light"
     },
     "output_type": "display_data"
    },
    {
     "name": "stdout",
     "output_type": "stream",
     "text": [
      "883 952 (883, 952, 2)\n",
      "Box005\n",
      "Box005_raster_cut.png\n",
      "rotated image shape: (1405, 1571)\n",
      "rotated iarray shape: (1405, 1571, 2)\n"
     ]
    },
    {
     "data": {
      "image/png": "[encoded data removed]",
      "text/plain": [
       "<Figure size 432x288 with 1 Axes>"
      ]
     },
     "metadata": {
      "needs_background": "light"
     },
     "output_type": "display_data"
    },
    {
     "name": "stdout",
     "output_type": "stream",
     "text": [
      "1405 1571 (1405, 1571, 2)\n",
      "Box006\n",
      "Box006_raster_cut.png\n",
      "rotated image shape: (524, 483)\n",
      "rotated iarray shape: (524, 483, 2)\n"
     ]
    },
    {
     "data": {
      "image/png": "[encoded data removed]",
      "text/plain": [
       "<Figure size 432x288 with 1 Axes>"
      ]
     },
     "metadata": {
      "needs_background": "light"
     },
     "output_type": "display_data"
    },
    {
     "name": "stdout",
     "output_type": "stream",
     "text": [
      "524 483 (524, 483, 2)\n",
      "Box007\n",
      "Box007_raster_cut.png\n",
      "rotated image shape: (1201, 1289)\n",
      "rotated iarray shape: (1201, 1289, 2)\n"
     ]
    },
    {
     "data": {
      "image/png": "[encoded data removed]",
      "text/plain": [
       "<Figure size 432x288 with 1 Axes>"
      ]
     },
     "metadata": {
      "needs_background": "light"
     },
     "output_type": "display_data"
    },
    {
     "name": "stdout",
     "output_type": "stream",
     "text": [
      "1201 1289 (1201, 1289, 2)\n",
      "Box008\n",
      "Box008_raster_cut.png\n",
      "rotated image shape: (1878, 1922)\n",
      "rotated iarray shape: (1878, 1922, 2)\n"
     ]
    },
    {
     "data": {
      "image/png": "[encoded data removed]",
      "text/plain": [
       "<Figure size 432x288 with 1 Axes>"
      ]
     },
     "metadata": {
      "needs_background": "light"
     },
     "output_type": "display_data"
    },
    {
     "name": "stdout",
     "output_type": "stream",
     "text": [
      "1878 1922 (1878, 1922, 2)\n",
      "Box009\n",
      "Box009_raster_cut.png\n",
      "rotated image shape: (1275, 1261)\n",
      "rotated iarray shape: (1275, 1261, 2)\n"
     ]
    },
    {
     "data": {
      "image/png": "[encoded data removed]",
      "text/plain": [
       "<Figure size 432x288 with 1 Axes>"
      ]
     },
     "metadata": {
      "needs_background": "light"
     },
     "output_type": "display_data"
    },
    {
     "name": "stdout",
     "output_type": "stream",
     "text": [
      "1275 1261 (1275, 1261, 2)\n",
      "Box010\n",
      "Box010_raster_cut.png\n",
      "rotated image shape: (577, 629)\n",
      "rotated iarray shape: (577, 629, 2)\n"
     ]
    },
    {
     "data": {
      "image/png": "[encoded data removed]",
      "text/plain": [
       "<Figure size 432x288 with 1 Axes>"
      ]
     },
     "metadata": {
      "needs_background": "light"
     },
     "output_type": "display_data"
    },
    {
     "name": "stdout",
     "output_type": "stream",
     "text": [
      "577 629 (577, 629, 2)\n",
      "Box011\n",
      "Box011_raster_cut.png\n",
      "rotated image shape: (689, 647)\n",
      "rotated iarray shape: (689, 647, 2)\n"
     ]
    },
    {
     "data": {
      "image/png": "[encoded data removed]",
      "text/plain": [
       "<Figure size 432x288 with 1 Axes>"
      ]
     },
     "metadata": {
      "needs_background": "light"
     },
     "output_type": "display_data"
    },
    {
     "name": "stdout",
     "output_type": "stream",
     "text": [
      "689 647 (689, 647, 2)\n",
      "Box012\n",
      "Box012_raster_cut.png\n",
      "rotated image shape: (615, 648)\n",
      "rotated iarray shape: (615, 648, 2)\n"
     ]
    },
    {
     "data": {
      "image/png": "[encoded data removed]",
      "text/plain": [
       "<Figure size 432x288 with 1 Axes>"
      ]
     },
     "metadata": {
      "needs_background": "light"
     },
     "output_type": "display_data"
    },
    {
     "name": "stdout",
     "output_type": "stream",
     "text": [
      "615 648 (615, 648, 2)\n",
      "Box013\n",
      "Box013_raster_cut.png\n",
      "rotated image shape: (575, 561)\n",
      "rotated iarray shape: (575, 561, 2)\n"
     ]
    },
    {
     "data": {
      "image/png": "[encoded data removed]",
      "text/plain": [
       "<Figure size 432x288 with 1 Axes>"
      ]
     },
     "metadata": {
      "needs_background": "light"
     },
     "output_type": "display_data"
    },
    {
     "name": "stdout",
     "output_type": "stream",
     "text": [
      "575 561 (575, 561, 2)\n",
      "Box014\n",
      "Box014_raster_cut.png\n",
      "rotated image shape: (513, 518)\n",
      "rotated iarray shape: (513, 518, 2)\n"
     ]
    },
    {
     "data": {
      "image/png": "[encoded data removed]",
      "text/plain": [
       "<Figure size 432x288 with 1 Axes>"
      ]
     },
     "metadata": {
      "needs_background": "light"
     },
     "output_type": "display_data"
    },
    {
     "name": "stdout",
     "output_type": "stream",
     "text": [
      "513 518 (513, 518, 2)\n",
      "Box015\n",
      "Box015_raster_cut.png\n",
      "rotated image shape: (429, 449)\n",
      "rotated iarray shape: (429, 449, 2)\n"
     ]
    },
    {
     "data": {
      "image/png": "[encoded data removed]",
      "text/plain": [
       "<Figure size 432x288 with 1 Axes>"
      ]
     },
     "metadata": {
      "needs_background": "light"
     },
     "output_type": "display_data"
    },
    {
     "name": "stdout",
     "output_type": "stream",
     "text": [
      "429 449 (429, 449, 2)\n",
      "Box016\n",
      "Box016_raster_cut.png\n",
      "rotated image shape: (254, 287)\n",
      "rotated iarray shape: (254, 287, 2)\n"
     ]
    },
    {
     "data": {
      "image/png": "[encoded data removed]",
      "text/plain": [
       "<Figure size 432x288 with 1 Axes>"
      ]
     },
     "metadata": {
      "needs_background": "light"
     },
     "output_type": "display_data"
    },
    {
     "name": "stdout",
     "output_type": "stream",
     "text": [
      "254 287 (254, 287, 2)\n",
      "Box017\n",
      "Box017_raster_cut.png\n",
      "rotated image shape: (576, 535)\n",
      "rotated iarray shape: (576, 535, 2)\n"
     ]
    },
    {
     "data": {
      "image/png": "[encoded data removed]",
      "text/plain": [
       "<Figure size 432x288 with 1 Axes>"
      ]
     },
     "metadata": {
      "needs_background": "light"
     },
     "output_type": "display_data"
    },
    {
     "name": "stdout",
     "output_type": "stream",
     "text": [
      "576 535 (576, 535, 2)\n",
      "Box018\n",
      "Box018_raster_cut.png\n",
      "rotated image shape: (1033, 999)\n",
      "rotated iarray shape: (1033, 999, 2)\n"
     ]
    },
    {
     "data": {
      "image/png": "[encoded data removed]",
      "text/plain": [
       "<Figure size 432x288 with 1 Axes>"
      ]
     },
     "metadata": {
      "needs_background": "light"
     },
     "output_type": "display_data"
    },
    {
     "name": "stdout",
     "output_type": "stream",
     "text": [
      "1033 999 (1033, 999, 2)\n",
      "Box019\n",
      "Box019_raster_cut.png\n",
      "rotated image shape: (1566, 1566)\n",
      "rotated iarray shape: (1566, 1566, 2)\n"
     ]
    },
    {
     "data": {
      "image/png": "[encoded data removed]",
      "text/plain": [
       "<Figure size 432x288 with 1 Axes>"
      ]
     },
     "metadata": {
      "needs_background": "light"
     },
     "output_type": "display_data"
    },
    {
     "name": "stdout",
     "output_type": "stream",
     "text": [
      "1566 1566 (1566, 1566, 2)\n",
      "Box020\n",
      "Box020_raster_cut.png\n",
      "rotated image shape: (198, 253)\n",
      "rotated iarray shape: (198, 253, 2)\n"
     ]
    },
    {
     "data": {
      "image/png": "[encoded data removed]",
      "text/plain": [
       "<Figure size 432x288 with 1 Axes>"
      ]
     },
     "metadata": {
      "needs_background": "light"
     },
     "output_type": "display_data"
    },
    {
     "name": "stdout",
     "output_type": "stream",
     "text": [
      "198 253 (198, 253, 2)\n",
      "Box021\n",
      "Box021_raster_cut.png\n",
      "rotated image shape: (204, 196)\n",
      "rotated iarray shape: (204, 196, 2)\n"
     ]
    },
    {
     "data": {
      "image/png": "[encoded data removed]",
      "text/plain": [
       "<Figure size 432x288 with 1 Axes>"
      ]
     },
     "metadata": {
      "needs_background": "light"
     },
     "output_type": "display_data"
    },
    {
     "name": "stdout",
     "output_type": "stream",
     "text": [
      "204 196 (204, 196, 2)\n",
      "Box022\n",
      "Box022_raster_cut.png\n",
      "rotated image shape: (219, 183)\n",
      "rotated iarray shape: (219, 183, 2)\n"
     ]
    },
    {
     "data": {
      "image/png": "[encoded data removed]",
      "text/plain": [
       "<Figure size 432x288 with 1 Axes>"
      ]
     },
     "metadata": {
      "needs_background": "light"
     },
     "output_type": "display_data"
    },
    {
     "name": "stdout",
     "output_type": "stream",
     "text": [
      "219 183 (219, 183, 2)\n",
      "Box023\n",
      "Box023_raster_cut.png\n",
      "rotated image shape: (252, 198)\n",
      "rotated iarray shape: (252, 198, 2)\n"
     ]
    },
    {
     "data": {
      "image/png": "[encoded data removed]",
      "text/plain": [
       "<Figure size 432x288 with 1 Axes>"
      ]
     },
     "metadata": {
      "needs_background": "light"
     },
     "output_type": "display_data"
    },
    {
     "name": "stdout",
     "output_type": "stream",
     "text": [
      "252 198 (252, 198, 2)\n",
      "Box024\n",
      "Box024_raster_cut.png\n",
      "rotated image shape: (360, 354)\n",
      "rotated iarray shape: (360, 354, 2)\n"
     ]
    },
    {
     "data": {
      "image/png": "[encoded data removed]",
      "text/plain": [
       "<Figure size 432x288 with 1 Axes>"
      ]
     },
     "metadata": {
      "needs_background": "light"
     },
     "output_type": "display_data"
    },
    {
     "name": "stdout",
     "output_type": "stream",
     "text": [
      "360 354 (360, 354, 2)\n",
      "Box025\n",
      "Box025_raster_cut.png\n",
      "rotated image shape: (514, 513)\n",
      "rotated iarray shape: (514, 513, 2)\n"
     ]
    },
    {
     "data": {
      "image/png": "[encoded data removed]",
      "text/plain": [
       "<Figure size 432x288 with 1 Axes>"
      ]
     },
     "metadata": {
      "needs_background": "light"
     },
     "output_type": "display_data"
    },
    {
     "name": "stdout",
     "output_type": "stream",
     "text": [
      "514 513 (514, 513, 2)\n",
      "Box026\n",
      "Box026_raster_cut.png\n",
      "rotated image shape: (384, 400)\n",
      "rotated iarray shape: (384, 400, 2)\n"
     ]
    },
    {
     "data": {
      "image/png": "[encoded data removed]",
      "text/plain": [
       "<Figure size 432x288 with 1 Axes>"
      ]
     },
     "metadata": {
      "needs_background": "light"
     },
     "output_type": "display_data"
    },
    {
     "name": "stdout",
     "output_type": "stream",
     "text": [
      "384 400 (384, 400, 2)\n",
      "Box027\n",
      "Box027_raster_cut.png\n",
      "rotated image shape: (146, 174)\n",
      "rotated iarray shape: (146, 174, 2)\n"
     ]
    },
    {
     "data": {
      "image/png": "[encoded data removed]",
      "text/plain": [
       "<Figure size 432x288 with 1 Axes>"
      ]
     },
     "metadata": {
      "needs_background": "light"
     },
     "output_type": "display_data"
    },
    {
     "name": "stdout",
     "output_type": "stream",
     "text": [
      "146 174 (146, 174, 2)\n",
      "Box028\n",
      "Box028_raster_cut.png\n",
      "rotated image shape: (244, 231)\n",
      "rotated iarray shape: (244, 231, 2)\n"
     ]
    },
    {
     "data": {
      "image/png": "[encoded data removed]",
      "text/plain": [
       "<Figure size 432x288 with 1 Axes>"
      ]
     },
     "metadata": {
      "needs_background": "light"
     },
     "output_type": "display_data"
    },
    {
     "name": "stdout",
     "output_type": "stream",
     "text": [
      "244 231 (244, 231, 2)\n",
      "Box029\n",
      "Box029_raster_cut.png\n",
      "rotated image shape: (195, 196)\n",
      "rotated iarray shape: (195, 196, 2)\n"
     ]
    },
    {
     "data": {
      "image/png": "[encoded data removed]",
      "text/plain": [
       "<Figure size 432x288 with 1 Axes>"
      ]
     },
     "metadata": {
      "needs_background": "light"
     },
     "output_type": "display_data"
    },
    {
     "name": "stdout",
     "output_type": "stream",
     "text": [
      "195 196 (195, 196, 2)\n",
      "Box030\n",
      "Box030_raster_cut.png\n",
      "rotated image shape: (200, 190)\n",
      "rotated iarray shape: (200, 190, 2)\n"
     ]
    },
    {
     "data": {
      "image/png": "[encoded data removed]",
      "text/plain": [
       "<Figure size 432x288 with 1 Axes>"
      ]
     },
     "metadata": {
      "needs_background": "light"
     },
     "output_type": "display_data"
    },
    {
     "name": "stdout",
     "output_type": "stream",
     "text": [
      "200 190 (200, 190, 2)\n",
      "Box031\n",
      "Box031_raster_cut.png\n",
      "rotated image shape: (393, 381)\n",
      "rotated iarray shape: (393, 381, 2)\n"
     ]
    },
    {
     "data": {
      "image/png": "[encoded data removed]",
      "text/plain": [
       "<Figure size 432x288 with 1 Axes>"
      ]
     },
     "metadata": {
      "needs_background": "light"
     },
     "output_type": "display_data"
    },
    {
     "name": "stdout",
     "output_type": "stream",
     "text": [
      "393 381 (393, 381, 2)\n",
      "Box032\n",
      "Box032_raster_cut.png\n",
      "rotated image shape: (179, 170)\n",
      "rotated iarray shape: (179, 170, 2)\n"
     ]
    },
    {
     "data": {
      "image/png": "[encoded data removed]",
      "text/plain": [
       "<Figure size 432x288 with 1 Axes>"
      ]
     },
     "metadata": {
      "needs_background": "light"
     },
     "output_type": "display_data"
    },
    {
     "name": "stdout",
     "output_type": "stream",
     "text": [
      "179 170 (179, 170, 2)\n",
      "Box033\n",
      "Box033_raster_cut.png\n",
      "rotated image shape: (715, 739)\n",
      "rotated iarray shape: (715, 739, 2)\n"
     ]
    },
    {
     "data": {
      "image/png": "[encoded data removed]",
      "text/plain": [
       "<Figure size 432x288 with 1 Axes>"
      ]
     },
     "metadata": {
      "needs_background": "light"
     },
     "output_type": "display_data"
    },
    {
     "name": "stdout",
     "output_type": "stream",
     "text": [
      "715 739 (715, 739, 2)\n",
      "Box034\n",
      "Box034_raster_cut.png\n",
      "rotated image shape: (481, 457)\n",
      "rotated iarray shape: (481, 457, 2)\n"
     ]
    },
    {
     "data": {
      "image/png": "[encoded data removed]",
      "text/plain": [
       "<Figure size 432x288 with 1 Axes>"
      ]
     },
     "metadata": {
      "needs_background": "light"
     },
     "output_type": "display_data"
    },
    {
     "name": "stdout",
     "output_type": "stream",
     "text": [
      "481 457 (481, 457, 2)\n",
      "Box035\n",
      "Box035_raster_cut.png\n",
      "rotated image shape: (315, 330)\n",
      "rotated iarray shape: (315, 330, 2)\n"
     ]
    },
    {
     "data": {
      "image/png": "[encoded data removed]",
      "text/plain": [
       "<Figure size 432x288 with 1 Axes>"
      ]
     },
     "metadata": {
      "needs_background": "light"
     },
     "output_type": "display_data"
    },
    {
     "name": "stdout",
     "output_type": "stream",
     "text": [
      "315 330 (315, 330, 2)\n",
      "Box036\n",
      "Box036_raster_cut.png\n",
      "rotated image shape: (449, 422)\n",
      "rotated iarray shape: (449, 422, 2)\n"
     ]
    },
    {
     "data": {
      "image/png": "[encoded data removed]",
      "text/plain": [
       "<Figure size 432x288 with 1 Axes>"
      ]
     },
     "metadata": {
      "needs_background": "light"
     },
     "output_type": "display_data"
    },
    {
     "name": "stdout",
     "output_type": "stream",
     "text": [
      "449 422 (449, 422, 2)\n",
      "Box037\n",
      "Box037_raster_cut.png\n",
      "rotated image shape: (219, 211)\n",
      "rotated iarray shape: (219, 211, 2)\n"
     ]
    },
    {
     "data": {
      "image/png": "[encoded data removed]",
      "text/plain": [
       "<Figure size 432x288 with 1 Axes>"
      ]
     },
     "metadata": {
      "needs_background": "light"
     },
     "output_type": "display_data"
    },
    {
     "name": "stdout",
     "output_type": "stream",
     "text": [
      "219 211 (219, 211, 2)\n",
      "Box038\n",
      "Box038_raster_cut.png\n",
      "rotated image shape: (486, 434)\n",
      "rotated iarray shape: (486, 434, 2)\n"
     ]
    },
    {
     "data": {
      "image/png": "[encoded data removed]",
      "text/plain": [
       "<Figure size 432x288 with 1 Axes>"
      ]
     },
     "metadata": {
      "needs_background": "light"
     },
     "output_type": "display_data"
    },
    {
     "name": "stdout",
     "output_type": "stream",
     "text": [
      "486 434 (486, 434, 2)\n",
      "Box039\n",
      "Box039_raster_cut.png\n",
      "rotated image shape: (670, 618)\n",
      "rotated iarray shape: (670, 618, 2)\n"
     ]
    },
    {
     "data": {
      "image/png": "[encoded data removed]",
      "text/plain": [
       "<Figure size 432x288 with 1 Axes>"
      ]
     },
     "metadata": {
      "needs_background": "light"
     },
     "output_type": "display_data"
    },
    {
     "name": "stdout",
     "output_type": "stream",
     "text": [
      "670 618 (670, 618, 2)\n",
      "Box040\n",
      "Box040_raster_cut.png\n",
      "rotated image shape: (372, 367)\n",
      "rotated iarray shape: (372, 367, 2)\n"
     ]
    },
    {
     "data": {
      "image/png": "[encoded data removed]",
      "text/plain": [
       "<Figure size 432x288 with 1 Axes>"
      ]
     },
     "metadata": {
      "needs_background": "light"
     },
     "output_type": "display_data"
    },
    {
     "name": "stdout",
     "output_type": "stream",
     "text": [
      "372 367 (372, 367, 2)\n",
      "Box041\n",
      "Box041_raster_cut.png\n",
      "rotated image shape: (310, 279)\n",
      "rotated iarray shape: (310, 279, 2)\n"
     ]
    },
    {
     "data": {
      "image/png": "[encoded data removed]",
      "text/plain": [
       "<Figure size 432x288 with 1 Axes>"
      ]
     },
     "metadata": {
      "needs_background": "light"
     },
     "output_type": "display_data"
    },
    {
     "name": "stdout",
     "output_type": "stream",
     "text": [
      "310 279 (310, 279, 2)\n",
      "Box042\n",
      "Box042_raster_cut.png\n",
      "rotated image shape: (374, 365)\n",
      "rotated iarray shape: (374, 365, 2)\n"
     ]
    },
    {
     "data": {
      "image/png": "[encoded data removed]",
      "text/plain": [
       "<Figure size 432x288 with 1 Axes>"
      ]
     },
     "metadata": {
      "needs_background": "light"
     },
     "output_type": "display_data"
    },
    {
     "name": "stdout",
     "output_type": "stream",
     "text": [
      "374 365 (374, 365, 2)\n",
      "Box043\n",
      "Box043_raster_cut.png\n",
      "rotated image shape: (398, 398)\n",
      "rotated iarray shape: (398, 398, 2)\n"
     ]
    },
    {
     "data": {
      "image/png": "[encoded data removed]",
      "text/plain": [
       "<Figure size 432x288 with 1 Axes>"
      ]
     },
     "metadata": {
      "needs_background": "light"
     },
     "output_type": "display_data"
    },
    {
     "name": "stdout",
     "output_type": "stream",
     "text": [
      "398 398 (398, 398, 2)\n",
      "Box044\n",
      "Box044_raster_cut.png\n",
      "rotated image shape: (219, 238)\n",
      "rotated iarray shape: (219, 238, 2)\n"
     ]
    },
    {
     "data": {
      "image/png": "[encoded data removed]",
      "text/plain": [
       "<Figure size 432x288 with 1 Axes>"
      ]
     },
     "metadata": {
      "needs_background": "light"
     },
     "output_type": "display_data"
    },
    {
     "name": "stdout",
     "output_type": "stream",
     "text": [
      "219 238 (219, 238, 2)\n",
      "Box045\n",
      "Box045_raster_cut.png\n",
      "rotated image shape: (316, 335)\n",
      "rotated iarray shape: (316, 335, 2)\n"
     ]
    },
    {
     "data": {
      "image/png": "[encoded data removed]",
      "text/plain": [
       "<Figure size 432x288 with 1 Axes>"
      ]
     },
     "metadata": {
      "needs_background": "light"
     },
     "output_type": "display_data"
    },
    {
     "name": "stdout",
     "output_type": "stream",
     "text": [
      "316 335 (316, 335, 2)\n",
      "Box046\n",
      "Box046_raster_cut.png\n",
      "rotated image shape: (334, 289)\n",
      "rotated iarray shape: (334, 289, 2)\n"
     ]
    },
    {
     "data": {
      "image/png": "[encoded data removed]",
      "text/plain": [
       "<Figure size 432x288 with 1 Axes>"
      ]
     },
     "metadata": {
      "needs_background": "light"
     },
     "output_type": "display_data"
    },
    {
     "name": "stdout",
     "output_type": "stream",
     "text": [
      "334 289 (334, 289, 2)\n",
      "Box047\n",
      "Box047_raster_cut.png\n",
      "rotated image shape: (220, 241)\n",
      "rotated iarray shape: (220, 241, 2)\n"
     ]
    },
    {
     "data": {
      "image/png": "[encoded data removed]",
      "text/plain": [
       "<Figure size 432x288 with 1 Axes>"
      ]
     },
     "metadata": {
      "needs_background": "light"
     },
     "output_type": "display_data"
    },
    {
     "name": "stdout",
     "output_type": "stream",
     "text": [
      "220 241 (220, 241, 2)\n",
      "Box048\n",
      "Box048_raster_cut.png\n",
      "rotated image shape: (267, 247)\n",
      "rotated iarray shape: (267, 247, 2)\n"
     ]
    },
    {
     "data": {
      "image/png": "[encoded data removed]",
      "text/plain": [
       "<Figure size 432x288 with 1 Axes>"
      ]
     },
     "metadata": {
      "needs_background": "light"
     },
     "output_type": "display_data"
    },
    {
     "name": "stdout",
     "output_type": "stream",
     "text": [
      "267 247 (267, 247, 2)\n",
      "Box049\n",
      "Box049_raster_cut.png\n",
      "rotated image shape: (271, 309)\n",
      "rotated iarray shape: (271, 309, 2)\n"
     ]
    },
    {
     "data": {
      "image/png": "[encoded data removed]",
      "text/plain": [
       "<Figure size 432x288 with 1 Axes>"
      ]
     },
     "metadata": {
      "needs_background": "light"
     },
     "output_type": "display_data"
    },
    {
     "name": "stdout",
     "output_type": "stream",
     "text": [
      "271 309 (271, 309, 2)\n",
      "Box050\n",
      "Box050_raster_cut.png\n",
      "rotated image shape: (238, 220)\n",
      "rotated iarray shape: (238, 220, 2)\n"
     ]
    },
    {
     "data": {
      "image/png": "[encoded data removed]",
      "text/plain": [
       "<Figure size 432x288 with 1 Axes>"
      ]
     },
     "metadata": {
      "needs_background": "light"
     },
     "output_type": "display_data"
    },
    {
     "name": "stdout",
     "output_type": "stream",
     "text": [
      "238 220 (238, 220, 2)\n"
     ]
    }
   ],
   "source": [
    "# rotate the images and resize them\n",
    "for index, row in velocities_df.iterrows():\n",
    "    BoxID = index; print(\"Box\"+BoxID) # keep track of progress\n",
    "    for file in os.listdir(downloadpath+\"Box\"+BoxID+'/reprojected/'):\n",
    "        if file.endswith('raster_cut.png'):\n",
    "            print(file)\n",
    "            # grab the transform from the geotiff version\n",
    "            gtiff = rio.open(downloadpath+\"Box\"+BoxID+'/reprojected/'+file[:-4]+'.TIF')\n",
    "            [left,bottom,right,top] = gtiff.bounds # grab extent\n",
    "            pixres = gtiff.transform[0] # grab pixel resolution [m]\n",
    "            \n",
    "            # open and rotate\n",
    "            img  = Image.open(downloadpath+\"Box\"+BoxID+'/reprojected/'+file)\n",
    "#             rotated = img.rotate(-float(row['Flow_dir']))\n",
    "            rotated = rotate(img,angle=-float(row['Flow_dir']),reshape=False)\n",
    "            rot_img = Image.fromarray(rotated)\n",
    "            print('rotated image shape:', rotated.shape)\n",
    "            \n",
    "            # grab img coordinates too (grid center coords)\n",
    "            xi, yi = np.meshgrid(np.arange(left+pixres/2,right,pixres),\n",
    "                                 np.flip(np.arange(bottom+pixres/2,top,pixres)), # flip the y\n",
    "                                 indexing='xy')\n",
    "            iarray = np.dstack((xi,yi))\n",
    "            if iarray.shape[:2] != rotated.shape: # if x y dimensions don't match,\n",
    "                # try again\n",
    "                xi, yi = np.meshgrid(np.arange(left+pixres/2,right-pixres/2,pixres),\n",
    "                             np.flip(np.arange(bottom+pixres/2,top-pixres/2,pixres)), # flip the y\n",
    "                             indexing='xy'); iarray = np.dstack((xi,yi))\n",
    "            rot_iarray = rotate(iarray,angle=-float(row['Flow_dir']),reshape=False) # rotate the image coordinates\n",
    "            \n",
    "            print(\"rotated iarray shape:\", rot_iarray.shape)\n",
    "            \n",
    "            # visualize rotated image\n",
    "            plt.imshow(rotated)\n",
    "            plt.show()\n",
    "            \n",
    "            # save\n",
    "            rot_img.save(downloadpath+\"Box\"+BoxID+'/'+folder_name+'/R_'+file)\n",
    "            \n",
    "            \n",
    "    resizepath = downloadpath+\"Box\"+BoxID+'/'+folder_name+'/' # path to rotated images\n",
    "    orig_img_idxs = resize_pngs(resizepath,rot_iarray) # crop all and indices as well\n",
    "    \n",
    "    # save original image indexes (geographic coordinates)\n",
    "    np.savetxt(resizepath+'img_xidx_Box'+BoxID+'.csv',orig_img_idxs[:,:,0]) # x\n",
    "    np.savetxt(resizepath+'img_yidx_Box'+BoxID+'.csv',orig_img_idxs[:,:,1]) # y"
   ]
  },
  {
   "cell_type": "markdown",
   "metadata": {},
   "source": [
    "# 5) Convert images to pgm for WTMM\n",
    "\n",
    "\n"
   ]
  },
  {
   "cell_type": "code",
   "execution_count": 14,
   "metadata": {},
   "outputs": [],
   "source": [
    "# convert all final files to pgm\n",
    "for index, row in velocities_df.iterrows():\n",
    "    BoxID = index\n",
    "#     command = 'cd '+downloadpath+'Box'+BoxID+'/'+folder_name+'/; magick mogrify -depth 16 -format pgm *.png' # Mac\n",
    "    command = 'cd '+downloadpath+'Box'+BoxID+'/'+folder_name+'/; mogrify -depth 16 -format pgm *.png' # Linux\n",
    "    subprocess.call(command, shell=True)"
   ]
  },
  {
   "cell_type": "code",
   "execution_count": 15,
   "metadata": {},
   "outputs": [],
   "source": [
    "# remove intermediate pngs\n",
    "for BoxID in BoxIDs:\n",
    "    resizepath = downloadpath+\"Box\"+BoxID+'/'+folder_name+'/' # path to rotated & cropped images\n",
    "    rp_path = downloadpath+\"Box\"+BoxID+'/reprojected/' # path to reprojected images\n",
    "    for path in [resizepath, rp_path]: # remove pngs from both\n",
    "        for png in os.listdir(path):\n",
    "            if png.endswith('.png') and 'raster_cut' not in png: # remove all besides the rasterized box\n",
    "                os.remove(path+png)"
   ]
  },
  {
   "cell_type": "code",
   "execution_count": null,
   "metadata": {},
   "outputs": [],
   "source": []
  }
 ],
 "metadata": {
  "kernelspec": {
   "display_name": "Python 3 (ipykernel)",
   "language": "python",
   "name": "python3"
  },
  "language_info": {
   "codemirror_mode": {
    "name": "ipython",
    "version": 3
   },
   "file_extension": ".py",
   "mimetype": "text/x-python",
   "name": "python",
   "nbconvert_exporter": "python",
   "pygments_lexer": "ipython3",
   "version": "3.9.15"
  }
 },
 "nbformat": 4,
 "nbformat_minor": 4
}
