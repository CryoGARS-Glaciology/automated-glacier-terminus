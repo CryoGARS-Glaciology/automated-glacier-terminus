{
 "cells": [
  {
   "cell_type": "markdown",
   "metadata": {},
   "source": [
    "# Step 3: Generate terminus position timeseries along flowlines\n",
    "\n",
    "_Last modified 2024-04-30._\n",
    "\n",
    "\n",
    "This script is run after the WTMM analysis is complete in order to extract terminus positions from the automated delinations. Relative terminus positions are calculated along three glacier flowlines, created automatically using the glacier terminus box.\n",
    "\n",
    "The code is streamlined to analyze images for hundreds of glaciers, specifically, the marine-terminating glaciers along the periphery of Greenland. For use on other glaciers, sections of code must be modified:\n",
    "\n",
    "    ##########################################################################################\n",
    "\n",
    "    code to modify\n",
    "\n",
    "    ##########################################################################################"
   ]
  },
  {
   "cell_type": "code",
   "execution_count": 4,
   "metadata": {},
   "outputs": [],
   "source": [
    "import numpy as np\n",
    "import pandas as pd\n",
    "import matplotlib.pyplot as plt\n",
    "import matplotlib.image as mpimg\n",
    "import matplotlib.pylab as pl\n",
    "import os\n",
    "import subprocess\n",
    "import shutil\n",
    "import fiona\n",
    "from shapely.geometry import Polygon, Point\n",
    "import shapely\n",
    "import cv2\n",
    "import json\n",
    "import scipy.stats\n",
    "import datetime\n",
    "import math\n",
    "from multiprocessing import Pool\n",
    "\n",
    "# import necessary functions from automated-glacier-terminus.py\n",
    "from automated_terminus_functions import *"
   ]
  },
  {
   "cell_type": "markdown",
   "metadata": {},
   "source": [
    "# Generate the terminus position time series"
   ]
  },
  {
   "cell_type": "code",
   "execution_count": 20,
   "metadata": {},
   "outputs": [],
   "source": [
    "# ######################################################################################\n",
    "path = '/Volumes/SGlacier/AUTO-TERMINUS-TRACES/Antarctic-test/LSaws/' # path to the processed images\n",
    "csvext = 'Antarctic-test.csv' # name of csv ext used in preprocessing script\n",
    "rotated_foldername = 'rotated_c2/' # path to preprocessed images\n",
    "processed_image_path = '/Volumes/SGlacier/AUTO-TERMINUS-TRACES/Antarctic-test/LSaws/'\n",
    "\n",
    "# CSV files generated during pre-processing\n",
    "csvpath = '/Volumes/SGlacier/AUTO-TERMINUS-TRACES/Antarctic-test/'\n",
    "DATES_FILENAME = 'imgdates_'+csvext\n",
    "FLINE_FILENAME = 'Boxes_flowlinecoords_'+csvext\n",
    "VEL_FILENAME = 'Glacier_vel_'+csvext\n",
    "\n",
    "filedate = '2024_04_25' # date that you ran the WTMM terminus picking (in the terminus pick file name)\n",
    "\n",
    "# These are the recommended values used for time series filtering\n",
    "V = 3 # flow speed scalar multiplier (increase to filter more, decrease to filter less)\n",
    "N1 = 1 # number of iterations to remove dips (sudden drop below average)\n",
    "N2 = 1 # number of iterations to remove jumps (sudden jump above average)\n",
    "# ######################################################################################"
   ]
  },
  {
   "cell_type": "code",
   "execution_count": 21,
   "metadata": {},
   "outputs": [
    {
     "name": "stdout",
     "output_type": "stream",
     "text": [
      "['Drummond', 'Funk']\n"
     ]
    }
   ],
   "source": [
    "# Use one of the csv files to grab multiple glacier BoxIDs\n",
    "VEL_FILENAME = 'Glacier_vel_'+csvext # name of velocity file generated in preprocess.ipynb Step 7\n",
    "velocities_df = pd.read_csv(csvpath+VEL_FILENAME, sep=',', dtype=str)\n",
    "velocities_df = velocities_df.set_index('BoxID')\n",
    "BoxIDs = list(velocities_df.index)\n",
    "print(BoxIDs)"
   ]
  },
  {
   "cell_type": "markdown",
   "metadata": {},
   "source": [
    "## A) Generate terminus positions using results produced with python wtmm2d:"
   ]
  },
  {
   "cell_type": "code",
   "execution_count": 22,
   "metadata": {},
   "outputs": [
    {
     "name": "stdout",
     "output_type": "stream",
     "text": [
      "CSV files loaded.\n"
     ]
    }
   ],
   "source": [
    "# read in csv files\n",
    "datetime_df = pd.read_csv(csvpath+DATES_FILENAME, sep=',', # IMAGE DATES\n",
    "                          dtype=str, header=0, names=['Scene', 'datetimes'])\n",
    "    \n",
    "centerline_df = pd.read_csv(csvpath+FLINE_FILENAME, sep=',', # CENTERLINE INFO\n",
    "                            dtype=str, header=0); centerline_df = centerline_df.set_index('BoxID')\n",
    "\n",
    "flowspeed_df= pd.read_csv(csvpath+VEL_FILENAME, sep=',', # GLACIER VELOCITIES\n",
    "                          dtype=str); flowspeed_df = flowspeed_df.set_index('BoxID')\n",
    "print('CSV files loaded.')"
   ]
  },
  {
   "cell_type": "code",
   "execution_count": 23,
   "metadata": {},
   "outputs": [
    {
     "name": "stdout",
     "output_type": "stream",
     "text": [
      "['Drummond']\n"
     ]
    }
   ],
   "source": [
    "######################### set BoxIDs ################################################# \n",
    "BoxIDs = ['Drummond'] # enter BoxIDs\n",
    "# BoxIDs = list(centerline_df.index) # read from flowline file\n",
    "print(BoxIDs)\n",
    "######################################################################################"
   ]
  },
  {
   "cell_type": "code",
   "execution_count": 24,
   "metadata": {},
   "outputs": [],
   "source": [
    "def get_results(BOI):\n",
    "    print(\"Box\"+BOI)\n",
    "    chainpath = path+'Box'+BOI+'/'+rotated_foldername\n",
    "    \n",
    "    # remove empty chain folders           \n",
    "    for file in os.listdir(chainpath):\n",
    "        if file.endswith('chains'):\n",
    "            # remove empty chain folders\n",
    "            if len(os.listdir(chainpath+file)) == 0:\n",
    "                os.rmdir(chainpath+file)\n",
    "    \n",
    "    # LOAD IN TERMINUS PICK FILE\n",
    "    termpick_df = pd.read_csv(csvpath+'terminuspicks_Box'+BOI+'_'+filedate+'.csv')\n",
    "    \n",
    "    #CALCULATE TERMINUS POSITIONS\n",
    "    # LOAD IN REFERENCE POINTS to calculate terminus position with respect to\n",
    "    box_midpoint_x = float(centerline_df.loc[BOI, 'lmid50_x']); box_midpoint_y = float(centerline_df.loc[BOI, 'lmid50_y'])\n",
    "    boxmid_x_25 = float(centerline_df.loc[BOI, 'lmid25_x']); boxmid_y_25 = float(centerline_df.loc[BOI, 'lmid25_y'])\n",
    "    boxmid_x_75 = float(centerline_df.loc[BOI, 'lmid75_x']); boxmid_y_75 = float(centerline_df.loc[BOI, 'lmid75_y'])\n",
    "\n",
    "    #GRAB CENTERLINE POINTS\n",
    "    #grab slopes and intercepts from the dataframe\n",
    "    c_slope = float(centerline_df.loc[BOI]['m50']); c_intercept = float(centerline_df.loc[BOI]['b50']) \n",
    "    c25_slope = float(centerline_df.loc[BOI]['m25']); c25_intercept = float(centerline_df.loc[BOI]['b25'])\n",
    "    c75_slope = float(centerline_df.loc[BOI]['m75']); c75_intercept = float(centerline_df.loc[BOI]['b75'])  \n",
    "\n",
    "    #grab range of x-values\n",
    "    xmin50 = float(box_midpoint_x); xmax50 = float(centerline_df.loc[BOI, 'rmid50_x']); ymid50 = float(box_midpoint_y)\n",
    "    xmin25 = float(boxmid_x_25); xmax25 = float(centerline_df.loc[BOI, 'rmid25_x']); ymid25 = float(boxmid_y_25)\n",
    "    xmin75 = float(boxmid_x_75); xmax75 = float(centerline_df.loc[BOI, 'lmid75_x']); ymid75 = float(boxmid_y_75)\n",
    "    xmax = np.max([xmax50, xmax25, xmax75]); xmin = np.min([xmin50, xmin25, xmin75]); c_x = np.linspace(xmin, xmax, int(xmax-xmin)*2)\n",
    "\n",
    "    #calculate y-values using the various centerlines\n",
    "    c_y = c_slope*c_x + c_intercept; c_y_25 = c25_slope*c_x + c25_intercept; c_y_75 = c75_slope*c_x + c75_intercept\n",
    "\n",
    "    # LISTS TO HOLD TERMINUS POSITIONS AND INTERSECTION POINTS\n",
    "    terminus_positions = []; tpositions_25 = []; tpositions_75 = []\n",
    "    intersections = []; X25 = []; X75 = []\n",
    "    \n",
    "    for index, row in termpick_df.iterrows():\n",
    "        intersect_xs = []; intersect_xs_25 = []; intersect_xs_75 = []\n",
    "        intersect_ys = []; intersect_ys_25 = []; intersect_ys_75 = []\n",
    "        scale = str(row['Scale']).zfill(3); scene = row['Scene']\n",
    "        \n",
    "        # read in chain jsons\n",
    "        with open(chainpath+'R_'+scene+'_B8_Buffer'+BOI+'_chains/'+scale+'_chain.json') as f:\n",
    "            data = json.load(f)\n",
    "        dat_xs = np.array(data.get('ix')); dat_ys = np.array(data.get('iy'))\n",
    "            \n",
    "        for l in range(0, len(c_x)):\n",
    "            x = c_x[l]; y = c_y[l]; y25 = c_y_25[l]; y75 = c_y_75[l]        \n",
    "            interval = 0.8 # pixels between points\n",
    "            for k in range(0, len(dat_xs)):\n",
    "                dat_x = dat_xs[k]; dat_y = dat_ys[k]\n",
    "\n",
    "                #midway centerline\n",
    "                if within(dat_x, x, interval) and within(dat_y, y, interval):\n",
    "                    intersect_xs.append(dat_x); intersect_ys.append(dat_y)  \n",
    "                #1/4th centerline\n",
    "                if within(dat_x, x, interval) and within(dat_y, y25, interval):\n",
    "                    intersect_xs_25.append(dat_x); intersect_ys_25.append(dat_y)              \n",
    "                #3/4th centerline\n",
    "                if within(dat_x, x, interval) and within(dat_y, y75, interval):\n",
    "                    intersect_xs_75.append(dat_x); intersect_ys_75.append(dat_y)\n",
    "                    \n",
    "        #for 50 centerline\n",
    "        if len(intersect_xs) == 0: #if no intersections are found with the terminus line, append Nans to tpos\n",
    "            tpos50 = np.NaN; intersect_x = np.NaN; intersect_y = np.NaN\n",
    "        else: #if at least one is found:\n",
    "            #intersection with the greatest x (use distance formula to calculate distance between)\n",
    "            max_index = intersect_xs.index(np.max(intersect_xs))\n",
    "            intersect_x = intersect_xs[max_index]; intersect_y = intersect_ys[max_index]\n",
    "            tpos50 = (intersect_x-xmin50)*15.0\n",
    "\n",
    "        #repeat for for 25 centerline\n",
    "        if len(intersect_xs_25) == 0:\n",
    "            tpos25 = np.NaN; intersect_x25 = np.NaN; intersect_y25 = np.NaN\n",
    "        else:\n",
    "            max_index_25 = intersect_xs_25.index(np.max(intersect_xs_25))\n",
    "            intersect_x25 = intersect_xs_25[max_index_25]; intersect_y25 = intersect_ys_25[max_index_25]\n",
    "            tpos25 = (intersect_x25-xmin25)*15.0\n",
    "\n",
    "        #for 75 centerline\n",
    "        if len(intersect_xs_75) == 0:\n",
    "            tpos75 = np.NaN; intersect_x75 = np.NaN; intersect_y75 = np.NaN\n",
    "        else:\n",
    "            max_index_75 = intersect_xs_75.index(np.max(intersect_xs_75))\n",
    "            intersect_x75 = intersect_xs_75[max_index_75]; intersect_y75 = intersect_ys_75[max_index_75]\n",
    "            tpos75 = (intersect_x75-xmin75)*15.0\n",
    "\n",
    "        #append to lists\n",
    "        terminus_positions.append(tpos50); tpositions_25.append(tpos25); tpositions_75.append(tpos75)\n",
    "        intersections.append([intersect_x, intersect_y]); X25.append([intersect_x25, intersect_y25]); \n",
    "        X75.append([intersect_x75, intersect_y75])            \n",
    "    \n",
    "    # ADD TERMINUS POSITION AND INTERSECTIONS TO THE DATAFRAME\n",
    "    termpick_df['tpos50'] = terminus_positions; termpick_df['tpos25'] = tpositions_25; \n",
    "    termpick_df['tpos75'] = tpositions_75; termpick_df['X50'] = intersections;\n",
    "    termpick_df['X25'] = X25; termpick_df['X75'] = X75\n",
    "\n",
    "    # SPLIT INTO 3 DATAFRAMES FOR 3 FLOWLINES:\n",
    "    df_50 = termpick_df[['Scene', 'BoxID', 'Scale', 'datetimes', 'Metric', 'Order', \n",
    "                                          'tpos50', 'X50',]].copy().reset_index(drop=True)\n",
    "    df_50 = df_50.rename(columns={\"tpos50\": \"tpos\", \"X50\": \"X\"})\n",
    "    df_25 = termpick_df[['Scene', 'BoxID', 'Scale', 'datetimes', 'Metric', 'Order', \n",
    "                                          'tpos25', 'X25']].copy().reset_index(drop=True)\n",
    "    df_25 = df_25.rename(columns={\"tpos25\": \"tpos\", \"X25\": \"X\"})\n",
    "    df_75 = termpick_df[['Scene', 'BoxID', 'Scale', 'datetimes', 'Metric', 'Order', \n",
    "                                          'tpos75', 'X75']].copy().reset_index(drop=True)\n",
    "    df_75 = df_75.rename(columns={\"tpos75\": \"tpos\", \"X75\": \"X\"})\n",
    "    dfs = [df_50, df_25, df_75] # make a list\n",
    "\n",
    "    # CALCULATE TERMINUS CHANGE RATES\n",
    "    dfs_new = []\n",
    "    for df in dfs: \n",
    "        to_datetimes(df); dfs_new.append(calc_changerates1(df))\n",
    "\n",
    "    #FILTER USING 5*MAXIMUM FLOW SPEEDS\n",
    "    max_flow = float(flowspeed_df['Max_speed'][BOI])\n",
    "    if max_flow < 1.0:\n",
    "        flow_thresh = V\n",
    "    else:\n",
    "        flow_thresh = V*max_flow\n",
    "    #remove dips\n",
    "    nodips = []\n",
    "    for df in dfs_new:\n",
    "        nodips.append(remove_dips(df, flow_thresh, N1))\n",
    "    #remove jumps \n",
    "    nojumps = []\n",
    "    for df in nodips:\n",
    "        nojumps.append(remove_jumps(df, flow_thresh, N2))\n",
    "        \n",
    "    #stop the process if there are no points remaining after filtering\n",
    "    for df in nojumps:\n",
    "        if len(df) == 0:\n",
    "            continue\n",
    "\n",
    "    #GRAB HIGHEST ORDER PICK AFTER FILTERING\n",
    "    highestorder_dfs = []\n",
    "    for df in nojumps:\n",
    "        #grab unique dates\n",
    "        unique_dates = set(list(df['datetimes']))\n",
    "        #grab highest orders:\n",
    "        order_list = []\n",
    "        for date in unique_dates:\n",
    "            date_df = df[df['datetimes'] == date].copy(); highestorder = np.min(np.array(date_df['Order']))\n",
    "            order_list.append(highestorder)\n",
    "        highestorder_df = pd.DataFrame(list(zip(unique_dates, order_list)), columns=['datetimes', 'Order']).sort_values(by='datetimes', ascending=True)\n",
    "        highestorder_dfs.append(highestorder_df)\n",
    "\n",
    "    onepick_dfs = []\n",
    "    for i in range(0, len(highestorder_dfs)):\n",
    "        onepick_df = nojumps[i].merge(highestorder_dfs[i], how='inner', on=['datetimes', 'Order'])\n",
    "        onepick_dfs.append(onepick_df)\n",
    "\n",
    "    #PLOT AND SAVE\n",
    "    fig, ax1 = plt.subplots(figsize=(12,4))\n",
    "    colors = pl.cm.viridis(np.linspace(0,0.5,3)) # generate 3 flowline colors using Dark2 scheme\n",
    "    maxlen = 0; maxdf_idx = None\n",
    "    for j in range(0, len(onepick_dfs)): # 3 dataframes, 1 for each flowline\n",
    "        df = onepick_dfs[j]\n",
    "        # plot:\n",
    "        ax1.plot(df['datetimes'], df['tpos'], marker = 'o', linewidth=0, \n",
    "                 color=colors[j], markersize=5, alpha=0.7)\n",
    "\n",
    "    #general plot parameters\n",
    "    ax1.set_ylabel('Terminus position (m)', color='k', fontsize=12)\n",
    "    ax1.set_title(\"Box\"+BOI, fontsize=16); ax1.set_xlabel('Date', fontsize=12)\n",
    "    ax1.tick_params(axis='both', which='major', labelsize=12)\n",
    "    #save figure\n",
    "    plt.legend(['1/2', '1/4', '3/4'])\n",
    "    if not os.path.exists(csvpath+'Figures/'):\n",
    "        os.mkdir(csvpath+'Figures/')\n",
    "    plt.savefig(csvpath+\"Figures/Termposition_LS_m_Box\"+BOI+\"_\"+filedate+\".png\", dpi=200)\n",
    "    plt.show()\n",
    "\n",
    "    # save the terminus position time series along tgethree flowlines\n",
    "    flowlines = ['flowline50', 'flowline25', 'flowline75']\n",
    "    for k in range(0, len(onepick_dfs)):\n",
    "        df = onepick_dfs[k];\n",
    "        df.to_csv(path_or_buf = csvpath+'Tpos_Box'+BOI+'_'+flowlines[k]+'_filtered_py.csv', sep=',')\n",
    "        \n",
    "        # save the final chains into the delineations folder\n",
    "        for idx, row in df.iterrows():\n",
    "            ip = processed_image_path+'Box'+BoxID+'/'+rotated_foldername\n",
    "            ip += 'R_'+str(row.Scene)+'_B8_Buffer'+BoxID+'_chains/'\n",
    "            ip += str(row.Scale).zfill(3)+'_chain.geojson' # name of the geojson file\n",
    "            of = processed_image_path+'Box'+BoxID+'/delineations/'\n",
    "            if not os.path.exists(of):\n",
    "                os.mkdir(of)\n",
    "            op = of+'Box'+BoxID+'_'+str(row.datetimes)[:10]+'_'+flowlines[k]+'.geojson'\n",
    "            shutil.copyfile(ip, op)"
   ]
  },
  {
   "cell_type": "markdown",
   "metadata": {},
   "source": [
    "### A.1) Option 1: Run in series (loop):"
   ]
  },
  {
   "cell_type": "code",
   "execution_count": 25,
   "metadata": {},
   "outputs": [
    {
     "name": "stdout",
     "output_type": "stream",
     "text": [
      "BoxDrummond\n"
     ]
    },
    {
     "name": "stderr",
     "output_type": "stream",
     "text": [
      "/Users/jukesliu/Documents/GitHub/automated-glacier-terminus/automated_terminus_functions.py:99: SettingWithCopyWarning: \n",
      "A value is trying to be set on a copy of a slice from a DataFrame.\n",
      "Try using .loc[row_indexer,col_indexer] = value instead\n",
      "\n",
      "See the caveats in the documentation: https://pandas.pydata.org/pandas-docs/stable/user_guide/indexing.html#returning-a-view-versus-a-copy\n",
      "  df['changerate'] = tchange\n",
      "/Users/jukesliu/Documents/GitHub/automated-glacier-terminus/automated_terminus_functions.py:99: SettingWithCopyWarning: \n",
      "A value is trying to be set on a copy of a slice from a DataFrame.\n",
      "Try using .loc[row_indexer,col_indexer] = value instead\n",
      "\n",
      "See the caveats in the documentation: https://pandas.pydata.org/pandas-docs/stable/user_guide/indexing.html#returning-a-view-versus-a-copy\n",
      "  df['changerate'] = tchange\n",
      "/Users/jukesliu/Documents/GitHub/automated-glacier-terminus/automated_terminus_functions.py:99: SettingWithCopyWarning: \n",
      "A value is trying to be set on a copy of a slice from a DataFrame.\n",
      "Try using .loc[row_indexer,col_indexer] = value instead\n",
      "\n",
      "See the caveats in the documentation: https://pandas.pydata.org/pandas-docs/stable/user_guide/indexing.html#returning-a-view-versus-a-copy\n",
      "  df['changerate'] = tchange\n"
     ]
    },
    {
     "name": "stdout",
     "output_type": "stream",
     "text": [
      "Dropping 0 dips\n",
      "Dropping 0 dips\n",
      "Dropping 0 dips\n",
      "Dropping 0 jumps\n",
      "Dropping 0 jumps\n",
      "Dropping 0 jumps\n"
     ]
    },
    {
     "data": {
      "image/png": "[encoded data removed]",
      "text/plain": [
       "<Figure size 1200x400 with 1 Axes>"
      ]
     },
     "metadata": {},
     "output_type": "display_data"
    }
   ],
   "source": [
    "for BoxID in BoxIDs:\n",
    "    get_results(BoxID)"
   ]
  },
  {
   "cell_type": "markdown",
   "metadata": {},
   "source": [
    "### A.2) Option 2: Run in parallel (batches):"
   ]
  },
  {
   "cell_type": "code",
   "execution_count": 68,
   "metadata": {},
   "outputs": [
    {
     "name": "stdout",
     "output_type": "stream",
     "text": [
      "16 CPUs on the machine\n",
      "Batch size: 10\n"
     ]
    }
   ],
   "source": [
    "# check number of cpus on machine using os:\n",
    "print(os.cpu_count(), 'CPUs on the machine')\n",
    "\n",
    "################################################################################################\n",
    "# set batch size accordingly\n",
    "# recommendation is to leave one or two cpus available for other background processing\n",
    "batch_size = 10\n",
    "print('Batch size:',batch_size)\n",
    "################################################################################################"
   ]
  },
  {
   "cell_type": "code",
   "execution_count": 69,
   "metadata": {},
   "outputs": [
    {
     "name": "stdout",
     "output_type": "stream",
     "text": [
      "1 batches\n",
      "0 full batches\n"
     ]
    }
   ],
   "source": [
    "nbatches = int(np.ceil(len(BoxIDs)/batch_size)) # round up to the next batch size\n",
    "nfullbatches = int(np.floor(len(BoxIDs)/batch_size)) # number of full batches\n",
    "print(nbatches, 'batches')\n",
    "print(nfullbatches, 'full batches')"
   ]
  },
  {
   "cell_type": "code",
   "execution_count": 37,
   "metadata": {},
   "outputs": [
    {
     "ename": "TypeError",
     "evalue": "slice indices must be integers or None or have an __index__ method",
     "output_type": "error",
     "traceback": [
      "\u001b[0;31m---------------------------------------------------------------------------\u001b[0m",
      "\u001b[0;31mTypeError\u001b[0m                                 Traceback (most recent call last)",
      "Cell \u001b[0;32mIn[37], line 10\u001b[0m\n\u001b[1;32m      8\u001b[0m \u001b[38;5;28;01mif\u001b[39;00m nbatches \u001b[38;5;241m-\u001b[39m nfullbatches \u001b[38;5;241m==\u001b[39m \u001b[38;5;241m1\u001b[39m:\n\u001b[1;32m      9\u001b[0m     pool \u001b[38;5;241m=\u001b[39m Pool()\n\u001b[0;32m---> 10\u001b[0m     lastbatchids \u001b[38;5;241m=\u001b[39m \u001b[43mBoxIDs\u001b[49m\u001b[43m[\u001b[49m\u001b[43m(\u001b[49m\u001b[43mb\u001b[49m\u001b[38;5;241;43m+\u001b[39;49m\u001b[38;5;241;43m1\u001b[39;49m\u001b[43m)\u001b[49m\u001b[38;5;241;43m*\u001b[39;49m\u001b[43mbatch_size\u001b[49m\u001b[43m:\u001b[49m\u001b[43m]\u001b[49m \u001b[38;5;66;03m# grab all remaining images\u001b[39;00m\n\u001b[1;32m     11\u001b[0m     pool\u001b[38;5;241m.\u001b[39mmap(get_results, lastbatchids) \u001b[38;5;66;03m# process all in pool\u001b[39;00m\n\u001b[1;32m     12\u001b[0m \u001b[38;5;66;03m#         print(lastbatchimgs)\u001b[39;00m\n",
      "\u001b[0;31mTypeError\u001b[0m: slice indices must be integers or None or have an __index__ method"
     ]
    },
    {
     "name": "stderr",
     "output_type": "stream",
     "text": [
      "KeyboardInterrupt\n",
      "KeyboardInterrupt\n",
      "  File \"/home/jukes/anaconda3/lib/python3.7/multiprocessing/synchronize.py\", line 95, in __enter__\n",
      "    return self._semlock.__enter__()\n",
      "KeyboardInterrupt\n",
      "KeyboardInterrupt\n",
      "  File \"/home/jukes/anaconda3/lib/python3.7/multiprocessing/connection.py\", line 407, in _recv_bytes\n",
      "    buf = self._recv(4)\n",
      "  File \"/home/jukes/anaconda3/lib/python3.7/multiprocessing/connection.py\", line 379, in _recv\n",
      "    chunk = read(handle, remaining)\n",
      "KeyboardInterrupt\n",
      "KeyboardInterrupt\n",
      "KeyboardInterrupt\n",
      "  File \"/home/jukes/anaconda3/lib/python3.7/multiprocessing/connection.py\", line 379, in _recv\n",
      "    chunk = read(handle, remaining)\n",
      "KeyboardInterrupt\n",
      "KeyboardInterrupt\n",
      "KeyboardInterrupt\n",
      "KeyboardInterrupt\n"
     ]
    }
   ],
   "source": [
    "# full batches\n",
    "for b in range(0, nfullbatches):\n",
    "    pool = Pool() # initialize pool\n",
    "    batchids = BoxIDs[b*batch_size:(b+1)*batch_size]\n",
    "    pool.map(get_results, batchids) # process all in pool\n",
    "    \n",
    "# for the last batch\n",
    "if nbatches - nfullbatches == 1:\n",
    "    pool = Pool()\n",
    "    lastbatchids = BoxIDs[(b+1)*batch_size:] # grab all remaining images\n",
    "    pool.map(get_results, lastbatchids) # process all in pool\n",
    "#         print(lastbatchimgs)\n"
   ]
  },
  {
   "cell_type": "markdown",
   "metadata": {},
   "source": [
    "## B) Generate terminus positions using results produced through Xsmurf 2D WTMM:\n",
    "\n",
    "If you processed the glaciers using wtmm2d_terminuspick_Xsmurf.ipynb, use this following function. No parallel processing option available."
   ]
  },
  {
   "cell_type": "code",
   "execution_count": 1,
   "metadata": {
    "scrolled": true
   },
   "outputs": [],
   "source": [
    "# results_allglaciers(DATES_FILENAME,FLINE_FILENAME,VEL_FILENAME, date, rotated_foldername, V, N1, N2)"
   ]
  }
 ],
 "metadata": {
  "kernelspec": {
   "display_name": "Python 3 (ipykernel)",
   "language": "python",
   "name": "python3"
  },
  "language_info": {
   "codemirror_mode": {
    "name": "ipython",
    "version": 3
   },
   "file_extension": ".py",
   "mimetype": "text/x-python",
   "name": "python",
   "nbconvert_exporter": "python",
   "pygments_lexer": "ipython3",
   "version": "3.9.15"
  }
 },
 "nbformat": 4,
 "nbformat_minor": 4
}
