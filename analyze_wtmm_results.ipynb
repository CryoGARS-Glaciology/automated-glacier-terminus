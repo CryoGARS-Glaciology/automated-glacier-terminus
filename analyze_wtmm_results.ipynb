{
 "cells": [
  {
   "cell_type": "markdown",
   "metadata": {},
   "source": [
    "# Step 3: Generate terminus position timeseries along flowlines\n",
    "\n",
    "_Last modified 2022-07-01._\n",
    "\n",
    "\n",
    "This script is run after the WTMM analysis is complete in order to extract terminus positions from the automated delinations. Relative terminus positions are calculated along three glacier flowlines, created automatically using the glacier terminus box.\n",
    "\n",
    "The code is streamlined to analyze images for hundreds of glaciers, specifically, the marine-terminating glaciers along the periphery of Greenland. For use on other glaciers, sections of code must be modified:\n",
    "\n",
    "    ##########################################################################################\n",
    "\n",
    "    code to modify\n",
    "\n",
    "    ##########################################################################################"
   ]
  },
  {
   "cell_type": "code",
   "execution_count": 3,
   "metadata": {},
   "outputs": [],
   "source": [
    "import numpy as np\n",
    "import pandas as pd\n",
    "import matplotlib.pyplot as plt\n",
    "import matplotlib.image as mpimg\n",
    "import matplotlib.pylab as pl\n",
    "import os\n",
    "import subprocess\n",
    "import shutil\n",
    "import fiona\n",
    "from shapely.geometry import Polygon, Point\n",
    "import shapely\n",
    "import cv2\n",
    "import json\n",
    "import scipy.stats\n",
    "import datetime\n",
    "import math\n",
    "from multiprocessing import Pool\n",
    "\n",
    "# import necessary functions from automated-glacier-terminus.py\n",
    "from automated_terminus_functions import *\n",
    "\n",
    "######################################################################################\n",
    "# change your paths:\n",
    "basepath = '/home/jukes/Documents/Sample_glaciers/' # path to directory containing folders with terminus boxes\n",
    "csvpath = '/home/jukes/Documents/Sample_glaciers/' # path where CSV files are saved\n",
    "processed_image_path = '/media/jukes/jukes1/LS8aws/' # path to folders containing processed images\n",
    "csvext = 'test_Box012.csv' # extension for the CSV files produced\n",
    "rotated_foldername = 'rotated_c2/'\n",
    "######################################################################################"
   ]
  },
  {
   "cell_type": "code",
   "execution_count": 67,
   "metadata": {},
   "outputs": [
    {
     "name": "stdout",
     "output_type": "stream",
     "text": [
      "CSV files that will be produced:\n",
      "\n",
      "Boxes_flowlinecoords_test_Box012.csv\n"
     ]
    }
   ],
   "source": [
    "print(\"CSV files that will be produced:\"); print()\n",
    "FLINE_FILENAME = 'Boxes_flowlinecoords_'+csvext; print(FLINE_FILENAME) # change filename as desired"
   ]
  },
  {
   "cell_type": "markdown",
   "metadata": {},
   "source": [
    "# 1) Grab the BoxIDs for the glaciers"
   ]
  },
  {
   "cell_type": "code",
   "execution_count": 4,
   "metadata": {},
   "outputs": [
    {
     "name": "stdout",
     "output_type": "stream",
     "text": [
      "['012']\n"
     ]
    }
   ],
   "source": [
    "# Use one of the csv files to grab multiple glacier BoxIDs\n",
    "VEL_FILENAME = 'Glacier_vel_'+csvext # name of velocity file generated in preprocess.ipynb Step 7\n",
    "velocities_df = pd.read_csv(csvpath+VEL_FILENAME, sep=',', dtype=str)\n",
    "velocities_df = velocities_df.set_index('BoxID')\n",
    "BoxIDs = list(velocities_df.index)\n",
    "print(BoxIDs)"
   ]
  },
  {
   "cell_type": "markdown",
   "metadata": {},
   "source": [
    "# 2) Automatically generate glacier flowlines from terminus boxes\n",
    "\n",
    "The vertices of the glacier terminus box (in pixel coordinates) will be used to calculate a 3 points (1/4, 1/2, 3/4 across the box width)  on the left edge of the terminus box, which will be our reference point for calculating terminus position. There are 2 methods to finding the correct corners and can be treated as 2 passes. If one fails, try the next. If both fail, find and enter the values manually."
   ]
  },
  {
   "cell_type": "code",
   "execution_count": 5,
   "metadata": {
    "scrolled": true
   },
   "outputs": [
    {
     "data": {
      "text/html": [
       "<div>\n",
       "<style scoped>\n",
       "    .dataframe tbody tr th:only-of-type {\n",
       "        vertical-align: middle;\n",
       "    }\n",
       "\n",
       "    .dataframe tbody tr th {\n",
       "        vertical-align: top;\n",
       "    }\n",
       "\n",
       "    .dataframe thead th {\n",
       "        text-align: right;\n",
       "    }\n",
       "</style>\n",
       "<table border=\"1\" class=\"dataframe\">\n",
       "  <thead>\n",
       "    <tr style=\"text-align: right;\">\n",
       "      <th></th>\n",
       "      <th>Unnamed: 0</th>\n",
       "      <th>min_dim_px</th>\n",
       "    </tr>\n",
       "    <tr>\n",
       "      <th>BoxID</th>\n",
       "      <th></th>\n",
       "      <th></th>\n",
       "    </tr>\n",
       "  </thead>\n",
       "  <tbody>\n",
       "    <tr>\n",
       "      <th>012</th>\n",
       "      <td>0</td>\n",
       "      <td>125</td>\n",
       "    </tr>\n",
       "  </tbody>\n",
       "</table>\n",
       "</div>"
      ],
      "text/plain": [
       "      Unnamed: 0 min_dim_px\n",
       "BoxID                      \n",
       "012            0        125"
      ]
     },
     "execution_count": 5,
     "metadata": {},
     "output_type": "execute_result"
    }
   ],
   "source": [
    "# one of the vertex-finding algorithms requires the minimum dimension of the box (width or length)\n",
    "# which was generated in preprocess.ipynb Step 5\n",
    "BOX_FILENAME = 'Buffdist_'+csvext # file generated from preprocess.ipynb Step 5\n",
    "dim_df = pd.read_csv(csvpath+BOX_FILENAME, sep=',', dtype=str) \n",
    "dim_df = dim_df.set_index('BoxID')\n",
    "dim_df"
   ]
  },
  {
   "cell_type": "markdown",
   "metadata": {},
   "source": [
    "## 2.1) First method: use cv2 corner-finding algorithms"
   ]
  },
  {
   "cell_type": "code",
   "execution_count": 7,
   "metadata": {
    "scrolled": true
   },
   "outputs": [
    {
     "name": "stdout",
     "output_type": "stream",
     "text": [
      "012\n"
     ]
    },
    {
     "data": {
      "image/png": "[encoded data removed]",
      "text/plain": [
       "<Figure size 432x288 with 1 Axes>"
      ]
     },
     "metadata": {
      "needs_background": "light"
     },
     "output_type": "display_data"
    },
    {
     "data": {
      "text/html": [
       "<div>\n",
       "<style scoped>\n",
       "    .dataframe tbody tr th:only-of-type {\n",
       "        vertical-align: middle;\n",
       "    }\n",
       "\n",
       "    .dataframe tbody tr th {\n",
       "        vertical-align: top;\n",
       "    }\n",
       "\n",
       "    .dataframe thead th {\n",
       "        text-align: right;\n",
       "    }\n",
       "</style>\n",
       "<table border=\"1\" class=\"dataframe\">\n",
       "  <thead>\n",
       "    <tr style=\"text-align: right;\">\n",
       "      <th></th>\n",
       "      <th>lmid50_x</th>\n",
       "      <th>lmid50_y</th>\n",
       "      <th>rmid50_x</th>\n",
       "      <th>rmid50_y</th>\n",
       "      <th>m50</th>\n",
       "      <th>b50</th>\n",
       "      <th>lmid25_x</th>\n",
       "      <th>lmid25_y</th>\n",
       "      <th>rmid25_x</th>\n",
       "      <th>rmid25_y</th>\n",
       "      <th>m25</th>\n",
       "      <th>b25</th>\n",
       "      <th>lmid75_x</th>\n",
       "      <th>lmid75_y</th>\n",
       "      <th>rmid75_x</th>\n",
       "      <th>rmid75_y</th>\n",
       "      <th>m75</th>\n",
       "      <th>b75</th>\n",
       "    </tr>\n",
       "    <tr>\n",
       "      <th>BoxID</th>\n",
       "      <th></th>\n",
       "      <th></th>\n",
       "      <th></th>\n",
       "      <th></th>\n",
       "      <th></th>\n",
       "      <th></th>\n",
       "      <th></th>\n",
       "      <th></th>\n",
       "      <th></th>\n",
       "      <th></th>\n",
       "      <th></th>\n",
       "      <th></th>\n",
       "      <th></th>\n",
       "      <th></th>\n",
       "      <th></th>\n",
       "      <th></th>\n",
       "      <th></th>\n",
       "      <th></th>\n",
       "    </tr>\n",
       "  </thead>\n",
       "  <tbody>\n",
       "    <tr>\n",
       "      <th>012</th>\n",
       "      <td>235.5</td>\n",
       "      <td>327.5</td>\n",
       "      <td>414.0</td>\n",
       "      <td>287.0</td>\n",
       "      <td>-0.226891</td>\n",
       "      <td>380.932773</td>\n",
       "      <td>234.75</td>\n",
       "      <td>295.25</td>\n",
       "      <td>412.0</td>\n",
       "      <td>255.0</td>\n",
       "      <td>-0.22708</td>\n",
       "      <td>348.512605</td>\n",
       "      <td>236.25</td>\n",
       "      <td>359.75</td>\n",
       "      <td>416.0</td>\n",
       "      <td>319.0</td>\n",
       "      <td>-0.226704</td>\n",
       "      <td>413.352941</td>\n",
       "    </tr>\n",
       "  </tbody>\n",
       "</table>\n",
       "</div>"
      ],
      "text/plain": [
       "       lmid50_x  lmid50_y  rmid50_x  rmid50_y       m50         b50  lmid25_x  \\\n",
       "BoxID                                                                           \n",
       "012       235.5     327.5     414.0     287.0 -0.226891  380.932773    234.75   \n",
       "\n",
       "       lmid25_y  rmid25_x  rmid25_y      m25         b25  lmid75_x  lmid75_y  \\\n",
       "BoxID                                                                          \n",
       "012      295.25     412.0     255.0 -0.22708  348.512605    236.25    359.75   \n",
       "\n",
       "       rmid75_x  rmid75_y       m75         b75  \n",
       "BoxID                                            \n",
       "012       416.0     319.0 -0.226704  413.352941  "
      ]
     },
     "execution_count": 7,
     "metadata": {},
     "output_type": "execute_result"
    }
   ],
   "source": [
    "termboxes2 = {} # create dictionary to store each terminus box ndarray by BoxID\n",
    "  \n",
    "# Create dictionaries and lists to store coordinates\n",
    "topleft_coords = {}; bottomleft_coords = {}; topright_coords = {} ;bottomright_coords = {}\n",
    "#create lists to store the left midpoints (1C) and right midpoints (2C)\n",
    "midpoints_x = []; midpoints_y = []; midpoints_r_x = []; midpoints_r_y = []\n",
    "mids_l025_x = []; mids_l025_y = []; mids_r025_x = []; mids_r025_y = []\n",
    "mids_l075_x = []; mids_l075_y = []; mids_r075_x = []; mids_r075_y = []\n",
    "#create lists to store the slopes and intercepts of the flowline equations\n",
    "slope_50 = []; intercept_50 = []; slope_25 = []; intercept_25 = []; slope_75 = []; intercept_75 = []; boxes = []\n",
    "\n",
    "# read in the terminus box rasters\n",
    "for BoxID in BoxIDs:\n",
    "    ######################################################################################\n",
    "    # load in the terminus box raster, modify paths if needed:\n",
    "    boxpath = processed_image_path\n",
    "    boxpath+= \"Box\"+BoxID+\"/\"+rotated_foldername+\"R_Box\"+BoxID+\"_raster_cut.png\" \n",
    "    ######################################################################################\n",
    "    \n",
    "    termbox = cv2.imread(boxpath) # read the raster into an ndarray\n",
    "    termbox = cv2.cvtColor(termbox, cv2.COLOR_BGR2GRAY) \n",
    "       \n",
    "    boxes_xcoords = {}; boxes_ycoords = {} # dictionary to store the coordinates of the box pixels    \n",
    "    # from the raster, grab x,y coordinates of pixels correpsonding to the terminus box\n",
    "    BOI = termbox\n",
    "    if len(BOI.shape) > 2:\n",
    "        yindices, xindices, third=np.where(BOI > 0) # keep the pixels of where the box exists\n",
    "    else:\n",
    "        yindices, xindices= np.where(BOI > 0) # keep the pixels of where the box exists\n",
    "    boxes_ycoords.update({BoxID: yindices}); boxes_xcoords.update({BoxID: xindices}) # add to the dictionary\n",
    "    \n",
    "    # set 0.95*minimum dimension as the minimum distance between corners\n",
    "    min_dist = 0.9*int(dim_df.loc[BoxID]['min_dim_px'])\n",
    "    \n",
    "    # FIND CORNERS:\n",
    "    quality = 0.1 # quality threshold for corner tracking\n",
    "    corners = cv2.goodFeaturesToTrack(termbox,4,quality,min_dist)\n",
    "    \n",
    "    cornerxs = []; cornerys = [] # hold corner coordinates\n",
    "    for i in range(0, 4):\n",
    "        cornerxs.append(corners[i][0][0]); cornerys.append(corners[i][0][1])\n",
    "    cornerxs = np.array(cornerxs); cornerys = np.array(cornerys) \n",
    "    \n",
    "    # IDENTIFY THE TWO LEFT COORDINATES:\n",
    "    # two minimum x values:\n",
    "    [x1,x2] = np.sort(cornerxs)[:2]\n",
    "    if x1 == x2:\n",
    "        print('Two of the same x coordinates, with y:', np.where(cornerxs == x1)[0])\n",
    "        [x1_i, x2_i] = np.where(cornerxs == x1)[0]\n",
    "    else:\n",
    "        x1_i = np.where(cornerxs == x1)[0][0]; x2_i = np.where(cornerxs == x2)[0][0]\n",
    "    # pair the x and y\n",
    "    coord1 = [x1, cornerys[x1_i]]; coord2 = [x2,cornerys[x2_i]]\n",
    "    [ytopleft, ybottomleft] = np.sort([cornerys[x1_i], cornerys[x2_i]])\n",
    "    for coord in [coord1, coord2]:\n",
    "        if coord[1] == ytopleft:\n",
    "            topleft = coord\n",
    "        elif coord[1] == ybottomleft:\n",
    "            bottomleft = coord\n",
    "    \n",
    "    # IDENTIFY THE TWO RIGHT COORDINATES\n",
    "    [x3,x4] = np.sort(cornerxs)[2:]\n",
    "    if x3 == x4:\n",
    "        print('Two of the same x coordinates, with y:', np.where(cornerxs == x3)[0])\n",
    "        [x3_i, x4_i] = np.where(cornerxs == x3)[0]\n",
    "    else:\n",
    "        x3_i = np.where(cornerxs == x3)[0][0]; x4_i = np.where(cornerxs == x4)[0][0]\n",
    "    # pair the x and y\n",
    "    coord3 = [x3, cornerys[x3_i]]; coord4 = [x4,cornerys[x4_i]]\n",
    "    [ytopright, ybottomright] = np.sort([cornerys[x3_i], cornerys[x4_i]])\n",
    "    for coord in [coord3, coord4]:\n",
    "        if coord[1] == ytopright:\n",
    "            topright = coord\n",
    "        elif coord[1] == ybottomright:\n",
    "            bottomright= coord\n",
    "    \n",
    "    # add the corner coordinates to the respective dictionaries:\n",
    "    topleft_coords.update({BoxID: topleft}); bottomright_coords.update({BoxID: bottomright})\n",
    "    bottomleft_coords.update({BoxID: bottomleft}); topright_coords.update({BoxID: topright})\n",
    "    \n",
    "    # CALCULATE THE MIDPOINTS USING MIDPOINT FUNCTION\n",
    "    midpoint_x, midpoint_y = midpoint(topleft[0], topleft[1], bottomleft[0], bottomleft[1])\n",
    "    midpoint_r_x, midpoint_r_y = midpoint(topright[0], topright[1], bottomright[0], bottomright[1])\n",
    "    # GRAB 1/4th and 3/4ths lines (midpoints)\n",
    "    mid_l025_x, mid_l025_y = midpoint(topleft[0], topleft[1], midpoint_x, midpoint_y)\n",
    "    mid_r025_x, mid_r025_y = midpoint(topright[0], topright[1], midpoint_r_x, midpoint_r_y) \n",
    "    mid_l075_x, mid_l075_y = midpoint(bottomleft[0], bottomleft[1], midpoint_x, midpoint_y)\n",
    "    mid_r075_x, mid_r075_y = midpoint(bottomright[0], bottomright[1], midpoint_r_x, midpoint_r_y)\n",
    "    \n",
    "    # CALCULATE FLOWLINE EQUATIONS (b = y-mx)\n",
    "    m = (midpoint_r_y - midpoint_y)/(midpoint_r_x - midpoint_x);b = midpoint_y - (m*midpoint_x)\n",
    "    m025 = (mid_r025_y-mid_l025_y)/(mid_r025_x-mid_l025_x); b025 = mid_l025_y - (m*mid_l025_x)\n",
    "    m075 = (mid_r075_y-mid_l075_y)/(mid_r075_x-mid_l075_x); b075 = mid_l075_y - (m*mid_l075_x)\n",
    "    \n",
    "    # append BoxIDs, slopes, intercepts, midpoints, and flowlines to lists\n",
    "    boxes.append(BoxID);\n",
    "    midpoints_x.append(midpoint_x); midpoints_y.append(midpoint_y)\n",
    "    midpoints_r_x.append(midpoint_r_x); midpoints_r_y.append(midpoint_r_y)  \n",
    "    mids_l025_x.append(mid_l025_x); mids_l025_y.append(mid_l025_y); \n",
    "    mids_r025_x.append(mid_r025_x); mids_r025_y.append(mid_r025_y)\n",
    "    mids_l075_x.append(mid_l075_x) ;mids_l075_y.append(mid_l075_y) ;\n",
    "    mids_r075_x.append(mid_r075_x) ;mids_r075_y.append(mid_r075_y)\n",
    "    slope_50.append(m); intercept_50.append(b); \n",
    "    slope_25.append(m025); intercept_25.append(b025)\n",
    "    slope_75.append(m075); intercept_75.append(b075)\n",
    "    \n",
    "    # PLOT THE RESULTS\n",
    "    print(BoxID)\n",
    "    plt.scatter(boxes_xcoords[BoxID], boxes_ycoords[BoxID], c='k',marker='s')\n",
    "    # plot corners\n",
    "    for j in range(0, 4):\n",
    "        corner = corners[j][0]; #print(corner)\n",
    "        plt.scatter(corner[0], corner[1], c='r') \n",
    "    # plot the vertices\n",
    "    plt.scatter(topleft[0], topleft[1], c='y')\n",
    "    plt.scatter(bottomleft[0], bottomleft[1], c='y')\n",
    "    plt.scatter(topright[0], topright[1], c='y')\n",
    "    plt.scatter(bottomright[0], bottomright[1], c='y')\n",
    "    # plot midpoints\n",
    "    plt.scatter(midpoint_x, midpoint_y, c='m'); plt.scatter(midpoint_r_x, midpoint_r_y, c='m')\n",
    "    plt.scatter(mid_l025_x, mid_l025_y, c='r'); plt.scatter(mid_r025_x, mid_r025_y, c='r')\n",
    "    plt.scatter(mid_l075_x, mid_l075_y, c='b'); plt.scatter(mid_r075_x, mid_r075_y, c='b')\n",
    "    # plot the flowlines in cyan\n",
    "    x=np.linspace(np.min(boxes_xcoords[BoxID]), np.max(boxes_xcoords[BoxID])); \n",
    "    y50=m*x + b; y25=m025*x + b025; y75=m075*x + b075\n",
    "    plt.plot(x, y50, '--m', x, y25, '--r', x, y75, '--b')\n",
    "    plt.gca().invert_yaxis(); plt.axis('scaled'); plt.show()\n",
    "        \n",
    "    #add the ndarray into a dictionary with the BoxID as the key\n",
    "    termboxes2.update({BoxID: termbox})\n",
    "    \n",
    "# create a dataframe\n",
    "total_df = pd.DataFrame(list(zip(boxes, midpoints_x, midpoints_y, midpoints_r_x, midpoints_r_y, slope_50, \n",
    "                                 intercept_50, mids_l025_x, mids_l025_y, mids_r025_x, mids_r025_y, slope_25, \n",
    "                                 intercept_25, mids_l075_x, mids_l075_y, mids_r075_x, mids_r075_y, slope_75, \n",
    "                                intercept_75)), \n",
    "                        columns=['BoxID', 'lmid50_x', 'lmid50_y', 'rmid50_x','rmid50_y', 'm50', 'b50',\n",
    "                                 'lmid25_x', 'lmid25_y','rmid25_x','rmid25_y', 'm25', 'b25',\n",
    "                                 'lmid75_x', 'lmid75_y', 'rmid75_x','rmid75_y', 'm75', 'b75'])\n",
    "\n",
    "total_df = total_df.set_index('BoxID')\n",
    "total_df"
   ]
  },
  {
   "cell_type": "markdown",
   "metadata": {},
   "source": [
    "## 2.2) Try second method for those where first method failed\n",
    "\n",
    "Visually inspect the results plotted above. If the flowlines for certain glaciers are not generated as well as you'd like, identify those here and try this method."
   ]
  },
  {
   "cell_type": "code",
   "execution_count": 8,
   "metadata": {},
   "outputs": [],
   "source": [
    "######################################################################################\n",
    "# identify boxes where flowlines were not properly generated:\n",
    "BoxIDs_trouble = ['012'] # enter list of BoxIDs\n",
    "######################################################################################\n",
    "total_df = total_df.drop(BoxIDs_trouble) # remove the bad results from total_df"
   ]
  },
  {
   "cell_type": "code",
   "execution_count": 9,
   "metadata": {},
   "outputs": [
    {
     "data": {
      "text/html": [
       "<div>\n",
       "<style scoped>\n",
       "    .dataframe tbody tr th:only-of-type {\n",
       "        vertical-align: middle;\n",
       "    }\n",
       "\n",
       "    .dataframe tbody tr th {\n",
       "        vertical-align: top;\n",
       "    }\n",
       "\n",
       "    .dataframe thead th {\n",
       "        text-align: right;\n",
       "    }\n",
       "</style>\n",
       "<table border=\"1\" class=\"dataframe\">\n",
       "  <thead>\n",
       "    <tr style=\"text-align: right;\">\n",
       "      <th></th>\n",
       "      <th>lmid50_x</th>\n",
       "      <th>lmid50_y</th>\n",
       "      <th>rmid50_x</th>\n",
       "      <th>rmid50_y</th>\n",
       "      <th>m50</th>\n",
       "      <th>b50</th>\n",
       "      <th>lmid25_x</th>\n",
       "      <th>lmid25_y</th>\n",
       "      <th>rmid25_x</th>\n",
       "      <th>rmid25_y</th>\n",
       "      <th>m25</th>\n",
       "      <th>b25</th>\n",
       "      <th>lmid75_x</th>\n",
       "      <th>lmid75_y</th>\n",
       "      <th>rmid75_x</th>\n",
       "      <th>rmid75_y</th>\n",
       "      <th>m75</th>\n",
       "      <th>b75</th>\n",
       "    </tr>\n",
       "    <tr>\n",
       "      <th>BoxID</th>\n",
       "      <th></th>\n",
       "      <th></th>\n",
       "      <th></th>\n",
       "      <th></th>\n",
       "      <th></th>\n",
       "      <th></th>\n",
       "      <th></th>\n",
       "      <th></th>\n",
       "      <th></th>\n",
       "      <th></th>\n",
       "      <th></th>\n",
       "      <th></th>\n",
       "      <th></th>\n",
       "      <th></th>\n",
       "      <th></th>\n",
       "      <th></th>\n",
       "      <th></th>\n",
       "      <th></th>\n",
       "    </tr>\n",
       "  </thead>\n",
       "  <tbody>\n",
       "    <tr>\n",
       "      <th>012</th>\n",
       "      <td>222.5</td>\n",
       "      <td>329.5</td>\n",
       "      <td>424.0</td>\n",
       "      <td>284.0</td>\n",
       "      <td>-0.225806</td>\n",
       "      <td>379.741935</td>\n",
       "      <td>215.75</td>\n",
       "      <td>298.75</td>\n",
       "      <td>417.0</td>\n",
       "      <td>253.0</td>\n",
       "      <td>-0.227329</td>\n",
       "      <td>347.467742</td>\n",
       "      <td>229.25</td>\n",
       "      <td>360.25</td>\n",
       "      <td>431.0</td>\n",
       "      <td>315.0</td>\n",
       "      <td>-0.224287</td>\n",
       "      <td>412.016129</td>\n",
       "    </tr>\n",
       "  </tbody>\n",
       "</table>\n",
       "</div>"
      ],
      "text/plain": [
       "       lmid50_x  lmid50_y  rmid50_x  rmid50_y       m50         b50  lmid25_x  \\\n",
       "BoxID                                                                           \n",
       "012       222.5     329.5     424.0     284.0 -0.225806  379.741935    215.75   \n",
       "\n",
       "       lmid25_y  rmid25_x  rmid25_y       m25         b25  lmid75_x  lmid75_y  \\\n",
       "BoxID                                                                           \n",
       "012      298.75     417.0     253.0 -0.227329  347.467742    229.25    360.25   \n",
       "\n",
       "       rmid75_x  rmid75_y       m75         b75  \n",
       "BoxID                                            \n",
       "012       431.0     315.0 -0.224287  412.016129  "
      ]
     },
     "execution_count": 9,
     "metadata": {},
     "output_type": "execute_result"
    }
   ],
   "source": [
    "boxes_xcoords = {}; boxes_ycoords = {} # dictionary to store the all coordinates of the box rasters\n",
    "topleft_coords = {}; bottomleft_coords = {} # dictionaries for the box vertices\n",
    "topright_coords = {}; bottomright_coords = {}\n",
    "# lists to store the left and right quarter points:\n",
    "midpoints_x = []; midpoints_y = []; midpoints_r_x = []; midpoints_r_y = []\n",
    "mids_l025_x = []; mids_l025_y = []; mids_r025_x = []; mids_r025_y = []\n",
    "mids_l075_x = []; mids_l075_y = []; mids_r075_x = []; mids_r075_y = []\n",
    "# lists to store the slopes and intercepts of the flowline equations\n",
    "slope_50 = []; intercept_50 = []; slope_25 = []; intercept_25 = []; slope_75 = []; intercept_75 = []; boxes = []\n",
    "\n",
    "# for those trouble boxes identified\n",
    "for BoxID in BoxIDs_trouble:\n",
    "    BOI = termboxes2[BoxID] # grab the box raster\n",
    "    if len(BOI.shape) > 2:\n",
    "        yindices, xindices, third= np.where(BOI > 0) # keep the coordinates of the box pixels\n",
    "    else:\n",
    "        yindices, xindices= np.where(BOI > 0) # keep the coordinates of the box pixels\n",
    "    boxes_ycoords.update({BoxID: yindices}); boxes_xcoords.update({BoxID: xindices}) # add to the dictionary\n",
    "    \n",
    "    ######################################################################################\n",
    "    # THIS IS WHERE YOU CAN MANUALLY ENTER VERTICES IN PIXEL COORDINATES FOR CERTAIN GLACIERS.\n",
    "    # Glacier 259 is an example. You can add create your own if condition and \n",
    "    # add elseifs if there are more to manually enter.\n",
    "    \n",
    "    if BoxID == '259':\n",
    "        topleft = [117.0, 355.0] # x,y\n",
    "        bottomleft = [166.0, 426.0]\n",
    "        topright = [386.0, 169.0]\n",
    "        bottomright = [435.0, 239.0]\n",
    "    ######################################################################################\n",
    "    else:\n",
    "        # FIND THE TOP LEFT COORDINATES (min x and min y)\n",
    "        xy = xindices*yindices\n",
    "        min_xy_i = np.where(xy == np.nanmin(xy))[0][0]  #Find the x and y pair corresponding to that lowest xy\n",
    "        topleft = [xindices[min_xy_i], yindices[min_xy_i]]\n",
    "\n",
    "        # FIND THE BOTTOM RIGHT COORDINATES (highest x*y)\n",
    "        max_xy = np.nanmax(xy)\n",
    "        max_xy_i = np.where(xy == max_xy)[0][0]\n",
    "        bottomright = [xindices[max_xy_i], yindices[max_xy_i]]\n",
    "        \n",
    "        # FIND THE BOTTOM LEFT COORDINATE(highest y/x)\n",
    "        y_x = yindices/xindices\n",
    "        max_y_x = np.nanmax(y_x) #Find the highest y/x value\n",
    "        #Find the x and y pair corresponding to that y/x using the index\n",
    "        max_y_x_i = np.where(y_x == max_y_x)[0][0]\n",
    "        bottomleft = [xindices[max_y_x_i], yindices[max_y_x_i]]\n",
    "        \n",
    "        # FIND THE TOP RIGHT COORDINATES (highest x/y)\n",
    "        x_y = xindices/yindices\n",
    "        max_x_y = np.nanmax(x_y)  # find highest x/y value\n",
    "        max_x_y_i = np.where(x_y == max_x_y)[0][0]  #Find the x, y pair correpsonding to the maximum x/y using the index\n",
    "        topright = [xindices[max_x_y_i], yindices[max_x_y_i]]\n",
    "    \n",
    "    # add to dictionaries:\n",
    "    topleft_coords.update({BoxID: topleft}); bottomright_coords.update({BoxID: bottomright})\n",
    "    bottomleft_coords.update({BoxID: bottomleft}); topright_coords.update({BoxID: topright})\n",
    "    \n",
    "    # CALCULATE THE MIDPOINTS\n",
    "    midpoint_x, midpoint_y = midpoint(topleft[0], topleft[1], bottomleft[0], bottomleft[1]) # left\n",
    "    midpoint_r_x, midpoint_r_y = midpoint(topright[0], topright[1], bottomright[0], bottomright[1]) # right\n",
    "    \n",
    "    # GRAB 1/4th AND 3/4ths LINES (another midpoint calculation)\n",
    "    mid_l025_x, mid_l025_y = midpoint(topleft[0], topleft[1], midpoint_x, midpoint_y)\n",
    "    mid_r025_x, mid_r025_y = midpoint(topright[0], topright[1], midpoint_r_x, midpoint_r_y) \n",
    "    mid_l075_x, mid_l075_y = midpoint(bottomleft[0], bottomleft[1], midpoint_x, midpoint_y)\n",
    "    mid_r075_x, mid_r075_y = midpoint(bottomright[0], bottomright[1], midpoint_r_x, midpoint_r_y)\n",
    "    \n",
    "    # CALCULATE FLOWLINE EQUATIONS (y_intercept = y1 - m*x1)\n",
    "    m = (midpoint_r_y - midpoint_y)/(midpoint_r_x - midpoint_x);b = midpoint_y - (m*midpoint_x) # 1/2 flowline\n",
    "    m025 = (mid_r025_y-mid_l025_y)/(mid_r025_x-mid_l025_x); b025 = mid_l025_y - (m*mid_l025_x) # 1/4 flowline\n",
    "    m075 = (mid_r075_y-mid_l075_y)/(mid_r075_x-mid_l075_x); b075 = mid_l075_y - (m*mid_l075_x) # 3/4 flowline\n",
    "    \n",
    "    # append BoxIDs, slopes, intercepts, midpoints, and flowlines to lists\n",
    "    boxes.append(BoxID);\n",
    "    midpoints_x.append(midpoint_x); midpoints_y.append(midpoint_y)\n",
    "    midpoints_r_x.append(midpoint_r_x); midpoints_r_y.append(midpoint_r_y)  \n",
    "    mids_l025_x.append(mid_l025_x); mids_l025_y.append(mid_l025_y); \n",
    "    mids_r025_x.append(mid_r025_x); mids_r025_y.append(mid_r025_y)\n",
    "    mids_l075_x.append(mid_l075_x) ;mids_l075_y.append(mid_l075_y) ;\n",
    "    mids_r075_x.append(mid_r075_x) ;mids_r075_y.append(mid_r075_y)\n",
    "    slope_50.append(m); intercept_50.append(b); \n",
    "    slope_25.append(m025); intercept_25.append(b025)\n",
    "    slope_75.append(m075); intercept_75.append(b075)\n",
    "    \n",
    "# create a new dataframe\n",
    "df2 = pd.DataFrame(list(zip(boxes, midpoints_x, midpoints_y, midpoints_r_x, midpoints_r_y, slope_50, \n",
    "                                 intercept_50, mids_l025_x, mids_l025_y, mids_r025_x, mids_r025_y, slope_25, \n",
    "                                 intercept_25, mids_l075_x, mids_l075_y, mids_r075_x, mids_r075_y, slope_75, \n",
    "                                intercept_75)), \n",
    "                        columns=['BoxID', 'lmid50_x', 'lmid50_y', 'rmid50_x','rmid50_y', 'm50', 'b50',\n",
    "                                 'lmid25_x', 'lmid25_y','rmid25_x','rmid25_y', 'm25', 'b25',\n",
    "                                 'lmid75_x', 'lmid75_y', 'rmid75_x','rmid75_y', 'm75', 'b75'])\n",
    "\n",
    "df2 = df2.set_index('BoxID')\n",
    "df2"
   ]
  },
  {
   "cell_type": "markdown",
   "metadata": {},
   "source": [
    "### Now check the new flowlines:"
   ]
  },
  {
   "cell_type": "code",
   "execution_count": 10,
   "metadata": {},
   "outputs": [
    {
     "name": "stdout",
     "output_type": "stream",
     "text": [
      "012\n"
     ]
    },
    {
     "data": {
      "image/png": "[encoded data removed]",
      "text/plain": [
       "<Figure size 432x288 with 1 Axes>"
      ]
     },
     "metadata": {
      "needs_background": "light"
     },
     "output_type": "display_data"
    }
   ],
   "source": [
    "for BOI_ID in BoxIDs_trouble:\n",
    "#     if BOI_ID == '184': # to select one glacier at a time\n",
    "        print(BOI_ID)\n",
    "        # plot the raster pixels in black\n",
    "        plt.scatter(boxes_xcoords[BOI_ID], boxes_ycoords[BOI_ID], c='k',marker='s')\n",
    "        # plot the vertices\n",
    "        plt.scatter(topleft_coords[BOI_ID][0], topleft_coords[BOI_ID][1], c='y')\n",
    "        plt.scatter(bottomleft_coords[BOI_ID][0], bottomleft_coords[BOI_ID][1], c='y')\n",
    "        plt.scatter(topright_coords[BOI_ID][0], topright_coords[BOI_ID][1], c='y')\n",
    "        plt.scatter(bottomright_coords[BOI_ID][0], bottomright_coords[BOI_ID][1], c='y')\n",
    "        # plot midpoints\n",
    "        plt.scatter(df2.at[BOI_ID,'lmid50_x'], df2.at[BOI_ID,'lmid50_y'], c='m'); plt.scatter(df2.at[BOI_ID, 'rmid50_x'], df2.at[BOI_ID, 'rmid50_y'], c='m')\n",
    "        plt.scatter(df2.at[BOI_ID,'lmid25_x'], df2.at[BOI_ID,'lmid25_y'], c='r'); plt.scatter(df2.at[BOI_ID, 'rmid25_x'], df2.at[BOI_ID, 'rmid25_y'], c='r')\n",
    "        plt.scatter(df2.at[BOI_ID,'lmid75_x'], df2.at[BOI_ID,'lmid75_y'], c='b'); plt.scatter(df2.at[BOI_ID, 'rmid75_x'], df2.at[BOI_ID, 'rmid75_y'], c='b')\n",
    "        # plot the flowlines in cyan\n",
    "        x=np.linspace(np.min(boxes_xcoords[BOI_ID]), np.max(boxes_xcoords[BOI_ID])); y50=(df2.at[BOI_ID, 'm50'])*x + (df2.at[BOI_ID, 'b50']); \n",
    "        y25=(df2.at[BOI_ID, 'm25'])*x + (df2.at[BOI_ID, 'b25']); y75=(df2.at[BOI_ID, 'm75'])*x + (df2.at[BOI_ID, 'b75'])\n",
    "        plt.plot(x, y50, '--m', x, y25, '--r', x, y75, '--b')\n",
    "        # plot parameters      \n",
    "        plt.gca().invert_yaxis(); plt.axis('scaled'); plt.show()"
   ]
  },
  {
   "cell_type": "markdown",
   "metadata": {},
   "source": [
    "### If the flowlines are still not properly generated, edit the code above to manually enter the box corners in image coordinates."
   ]
  },
  {
   "cell_type": "markdown",
   "metadata": {},
   "source": [
    "### Once they are properly generated, add the new data back to the full dataframe:"
   ]
  },
  {
   "cell_type": "code",
   "execution_count": 11,
   "metadata": {},
   "outputs": [],
   "source": [
    "total_df = pd.concat([total_df, df2])\n",
    "total_df = total_df.drop(['rmid50_y', 'rmid25_y', 'rmid75_y'], axis=1) # drop the righthand points\n",
    "# we only need the left\n",
    "total_df # show the resulting dataframe"
   ]
  },
  {
   "cell_type": "code",
   "execution_count": 14,
   "metadata": {},
   "outputs": [],
   "source": [
    "# write to csv\n",
    "total_df.to_csv(path_or_buf = basepath+FLINE_FILENAME, sep=',')"
   ]
  },
  {
   "cell_type": "markdown",
   "metadata": {},
   "source": [
    "# 3) Generate the terminus position time series"
   ]
  },
  {
   "cell_type": "code",
   "execution_count": 68,
   "metadata": {},
   "outputs": [],
   "source": [
    "# ######################################################################################\n",
    "path = processed_image_path # path to the processed images\n",
    "# CSV files generated during pre-processing\n",
    "csvpath = '/home/jukes/Documents/Sample_glaciers/'\n",
    "DATES_FILENAME = 'imgdates_'+csvext\n",
    "FLINE_FILENAME = 'Boxes_flowlinecoords_'+csvext\n",
    "VEL_FILENAME = 'Glacier_vel_'+csvext\n",
    "filedate = '2022_06_29' # date that you ran the WTMM terminus picking (in the terminus pick file name)\n",
    "\n",
    "# These are the recommended values used for time series filtering\n",
    "V = 3 # flow speed scalar multiplier (increase to filter more, decrease to filter less)\n",
    "N1 = 1 # number of iterations to remove dips (sudden drop below average)\n",
    "N2 = 1 # number of iterations to remove jumps (sudden jump above average)\n",
    "# ######################################################################################"
   ]
  },
  {
   "cell_type": "markdown",
   "metadata": {},
   "source": [
    "## 3.1) Generate terminus positions using results produced with python wtmm2d:"
   ]
  },
  {
   "cell_type": "code",
   "execution_count": 69,
   "metadata": {},
   "outputs": [
    {
     "name": "stdout",
     "output_type": "stream",
     "text": [
      "CSV files loaded.\n"
     ]
    }
   ],
   "source": [
    "# read in csv files\n",
    "datetime_df = pd.read_csv(csvpath+DATES_FILENAME, sep=',', # IMAGE DATES\n",
    "                          dtype=str, header=0, names=['Scene', 'datetimes'])\n",
    "    \n",
    "centerline_df = pd.read_csv(csvpath+FLINE_FILENAME, sep=',', # CENTERLINE INFO\n",
    "                            dtype=str, header=0); centerline_df = centerline_df.set_index('BoxID')\n",
    "\n",
    "flowspeed_df= pd.read_csv(csvpath+VEL_FILENAME, sep=',', # GLACIER VELOCITIES\n",
    "                          dtype=str); flowspeed_df = flowspeed_df.set_index('BoxID')\n",
    "print('CSV files loaded.')"
   ]
  },
  {
   "cell_type": "code",
   "execution_count": 74,
   "metadata": {},
   "outputs": [
    {
     "name": "stdout",
     "output_type": "stream",
     "text": [
      "['012']\n"
     ]
    }
   ],
   "source": [
    "######################### set BoxIDs ################################################# \n",
    "# BoxIDs = ['174'] # enter BoxIDs\n",
    "BoxIDs = list(centerline_df.index) # read from flowline file\n",
    "print(BoxIDs)\n",
    "######################################################################################"
   ]
  },
  {
   "cell_type": "code",
   "execution_count": 75,
   "metadata": {},
   "outputs": [],
   "source": [
    "def get_results(BOI):\n",
    "    print(\"Box\"+BOI)\n",
    "    chainpath = path+'Box'+BOI+'/'+rotated_foldername\n",
    "    \n",
    "    # remove empty chain folders           \n",
    "    for file in os.listdir(chainpath):\n",
    "        if file.endswith('chains'):\n",
    "            # remove empty chain folders\n",
    "            if len(os.listdir(chainpath+file)) == 0:\n",
    "                os.rmdir(chainpath+file)\n",
    "    \n",
    "    # LOAD IN TERMINUS PICK FILE\n",
    "    termpick_df = pd.read_csv(csvpath+'terminuspicks_Box'+BOI+'_'+filedate+'.csv')\n",
    "    \n",
    "    #CALCULATE TERMINUS POSITIONS\n",
    "    # LOAD IN REFERENCE POINTS to calculate terminus position with respect to\n",
    "    box_midpoint_x = np.float(centerline_df.loc[BOI, 'lmid50_x']); box_midpoint_y = np.float(centerline_df.loc[BOI, 'lmid50_y'])\n",
    "    boxmid_x_25 = np.float(centerline_df.loc[BOI, 'lmid25_x']); boxmid_y_25 = np.float(centerline_df.loc[BOI, 'lmid25_y'])\n",
    "    boxmid_x_75 = np.float(centerline_df.loc[BOI, 'lmid75_x']); boxmid_y_75 = np.float(centerline_df.loc[BOI, 'lmid75_y'])\n",
    "\n",
    "    #GRAB CENTERLINE POINTS\n",
    "    #grab slopes and intercepts from the dataframe\n",
    "    c_slope = float(centerline_df.loc[BOI]['m50']); c_intercept = float(centerline_df.loc[BOI]['b50']) \n",
    "    c25_slope = float(centerline_df.loc[BOI]['m25']); c25_intercept = float(centerline_df.loc[BOI]['b25'])\n",
    "    c75_slope = float(centerline_df.loc[BOI]['m75']); c75_intercept = float(centerline_df.loc[BOI]['b75'])  \n",
    "\n",
    "    #grab range of x-values\n",
    "    xmin50 = float(box_midpoint_x); xmax50 = float(centerline_df.loc[BOI, 'rmid50_x']); ymid50 = float(box_midpoint_y)\n",
    "    xmin25 = float(boxmid_x_25); xmax25 = float(centerline_df.loc[BOI, 'rmid25_x']); ymid25 = float(boxmid_y_25)\n",
    "    xmin75 = float(boxmid_x_75); xmax75 = float(centerline_df.loc[BOI, 'lmid75_x']); ymid75 = float(boxmid_y_75)\n",
    "    xmax = np.max([xmax50, xmax25, xmax75]); xmin = np.min([xmin50, xmin25, xmin75]); c_x = np.linspace(xmin, xmax, int(xmax-xmin)*2)\n",
    "\n",
    "    #calculate y-values using the various centerlines\n",
    "    c_y = c_slope*c_x + c_intercept; c_y_25 = c25_slope*c_x + c25_intercept; c_y_75 = c75_slope*c_x + c75_intercept\n",
    "\n",
    "    # LISTS TO HOLD TERMINUS POSITIONS AND INTERSECTION POINTS\n",
    "    terminus_positions = []; tpositions_25 = []; tpositions_75 = []\n",
    "    intersections = []; X25 = []; X75 = []\n",
    "    \n",
    "    for index, row in termpick_df.iterrows():\n",
    "        intersect_xs = []; intersect_xs_25 = []; intersect_xs_75 = []\n",
    "        intersect_ys = []; intersect_ys_25 = []; intersect_ys_75 = []\n",
    "        scale = str(row['Scale']).zfill(3); scene = row['Scene']\n",
    "        \n",
    "        # read in chain jsons\n",
    "        with open(chainpath+'R_'+scene+'_B8_Buffer'+BOI+'_PS.pgm_chains/'+scale+'_chain.json') as f:\n",
    "            data = json.load(f)\n",
    "        dat_xs = np.array(data.get('ix')); dat_ys = np.array(data.get('iy'))\n",
    "            \n",
    "        for l in range(0, len(c_x)):\n",
    "            x = c_x[l]; y = c_y[l]; y25 = c_y_25[l]; y75 = c_y_75[l]        \n",
    "            interval = 0.8 # pixels between points\n",
    "            for k in range(0, len(dat_xs)):\n",
    "                dat_x = dat_xs[k]; dat_y = dat_ys[k]\n",
    "\n",
    "                #midway centerline\n",
    "                if within(dat_x, x, interval) and within(dat_y, y, interval):\n",
    "                    intersect_xs.append(dat_x); intersect_ys.append(dat_y)  \n",
    "                #1/4th centerline\n",
    "                if within(dat_x, x, interval) and within(dat_y, y25, interval):\n",
    "                    intersect_xs_25.append(dat_x); intersect_ys_25.append(dat_y)              \n",
    "                #3/4th centerline\n",
    "                if within(dat_x, x, interval) and within(dat_y, y75, interval):\n",
    "                    intersect_xs_75.append(dat_x); intersect_ys_75.append(dat_y)\n",
    "                    \n",
    "        #for 50 centerline\n",
    "        if len(intersect_xs) == 0: #if no intersections are found with the terminus line, append Nans to tpos\n",
    "            tpos50 = np.NaN; intersect_x = np.NaN; intersect_y = np.NaN\n",
    "        else: #if at least one is found:\n",
    "            #intersection with the greatest x (use distance formula to calculate distance between)\n",
    "            max_index = intersect_xs.index(np.max(intersect_xs))\n",
    "            intersect_x = intersect_xs[max_index]; intersect_y = intersect_ys[max_index]\n",
    "            tpos50 = (intersect_x-xmin50)*15.0\n",
    "\n",
    "        #repeat for for 25 centerline\n",
    "        if len(intersect_xs_25) == 0:\n",
    "            tpos25 = np.NaN; intersect_x25 = np.NaN; intersect_y25 = np.NaN\n",
    "        else:\n",
    "            max_index_25 = intersect_xs_25.index(np.max(intersect_xs_25))\n",
    "            intersect_x25 = intersect_xs_25[max_index_25]; intersect_y25 = intersect_ys_25[max_index_25]\n",
    "            tpos25 = (intersect_x25-xmin25)*15.0\n",
    "\n",
    "        #for 75 centerline\n",
    "        if len(intersect_xs_75) == 0:\n",
    "            tpos75 = np.NaN; intersect_x75 = np.NaN; intersect_y75 = np.NaN\n",
    "        else:\n",
    "            max_index_75 = intersect_xs_75.index(np.max(intersect_xs_75))\n",
    "            intersect_x75 = intersect_xs_75[max_index_75]; intersect_y75 = intersect_ys_75[max_index_75]\n",
    "            tpos75 = (intersect_x75-xmin75)*15.0\n",
    "\n",
    "        #append to lists\n",
    "        terminus_positions.append(tpos50); tpositions_25.append(tpos25); tpositions_75.append(tpos75)\n",
    "        intersections.append([intersect_x, intersect_y]); X25.append([intersect_x25, intersect_y25]); \n",
    "        X75.append([intersect_x75, intersect_y75])            \n",
    "    \n",
    "    # ADD TERMINUS POSITION AND INTERSECTIONS TO THE DATAFRAME\n",
    "    termpick_df['tpos50'] = terminus_positions; termpick_df['tpos25'] = tpositions_25; \n",
    "    termpick_df['tpos75'] = tpositions_75; termpick_df['X50'] = intersections;\n",
    "    termpick_df['X25'] = X25; termpick_df['X75'] = X75\n",
    "\n",
    "    # SPLIT INTO 3 DATAFRAMES FOR 3 FLOWLINES:\n",
    "    df_50 = termpick_df[['Scene', 'BoxID', 'Scale', 'datetimes', 'Metric', 'Order', \n",
    "                                          'tpos50', 'X50',]].copy().reset_index(drop=True)\n",
    "    df_50 = df_50.rename(columns={\"tpos50\": \"tpos\", \"X50\": \"X\"})\n",
    "    df_25 = termpick_df[['Scene', 'BoxID', 'Scale', 'datetimes', 'Metric', 'Order', \n",
    "                                          'tpos25', 'X25']].copy().reset_index(drop=True)\n",
    "    df_25 = df_25.rename(columns={\"tpos25\": \"tpos\", \"X25\": \"X\"})\n",
    "    df_75 = termpick_df[['Scene', 'BoxID', 'Scale', 'datetimes', 'Metric', 'Order', \n",
    "                                          'tpos75', 'X75']].copy().reset_index(drop=True)\n",
    "    df_75 = df_75.rename(columns={\"tpos75\": \"tpos\", \"X75\": \"X\"})\n",
    "    dfs = [df_50, df_25, df_75] # make a list\n",
    "\n",
    "    # CALCULATE TERMINUS CHANGE RATES\n",
    "    dfs_new = []\n",
    "    for df in dfs: \n",
    "        to_datetimes(df); dfs_new.append(calc_changerates1(df))\n",
    "\n",
    "    #FILTER USING V*MAXIMUM FLOW SPEEDS\n",
    "    max_flow = float(flowspeed_df['Max_speed'][BOI])\n",
    "    if max_flow < 1.0:\n",
    "        flow_thresh = V\n",
    "    else:\n",
    "        flow_thresh = V*max_flow\n",
    "    #remove dips\n",
    "    nodips = []\n",
    "    for df in dfs_new:\n",
    "        nodips.append(remove_dips(df, flow_thresh, N1))\n",
    "    #remove jumps \n",
    "    nojumps = []\n",
    "    for df in nodips:\n",
    "        nojumps.append(remove_jumps(df, flow_thresh, N2))\n",
    "        \n",
    "    #stop the process if there are no points remaining after filtering\n",
    "    for df in nojumps:\n",
    "        if len(df) == 0:\n",
    "            continue\n",
    "\n",
    "    #GRAB HIGHEST ORDER PICK AFTER FILTERING\n",
    "    highestorder_dfs = []\n",
    "    for df in nojumps:\n",
    "        #grab unique dates\n",
    "        unique_dates = set(list(df['datetimes']))\n",
    "        #grab highest orders:\n",
    "        order_list = []\n",
    "        for date in unique_dates:\n",
    "            date_df = df[df['datetimes'] == date].copy(); highestorder = np.min(np.array(date_df['Order']))\n",
    "            order_list.append(highestorder)\n",
    "        highestorder_df = pd.DataFrame(list(zip(unique_dates, order_list)), columns=['datetimes', 'Order']).sort_values(by='datetimes', ascending=True)\n",
    "        highestorder_dfs.append(highestorder_df)\n",
    "\n",
    "    onepick_dfs = []\n",
    "    for i in range(0, len(highestorder_dfs)):\n",
    "        onepick_df = nojumps[i].merge(highestorder_dfs[i], how='inner', on=['datetimes', 'Order'])\n",
    "        onepick_dfs.append(onepick_df)\n",
    "\n",
    "    #PLOT AND SAVE\n",
    "    fig, ax1 = plt.subplots(figsize=(12,4))\n",
    "    colors = pl.cm.viridis(np.linspace(0,0.5,3)) # generate 3 flowline colors using Dark2 scheme\n",
    "    maxlen = 0; maxdf_idx = None\n",
    "    for j in range(0, len(onepick_dfs)): # 3 dataframes, 1 for each flowline\n",
    "        df = onepick_dfs[j]\n",
    "        # plot:\n",
    "        ax1.plot(df['datetimes'], df['tpos'], marker = 'o', linewidth=0, \n",
    "                 color=colors[j], markersize=5, alpha=0.7)\n",
    "\n",
    "    #general plot parameters\n",
    "    ax1.set_ylabel('Terminus position (m)', color='k', fontsize=12)\n",
    "    ax1.set_title(\"Box\"+BOI, fontsize=16); ax1.set_xlabel('Date', fontsize=12)\n",
    "    ax1.tick_params(axis='both', which='major', labelsize=12)\n",
    "    #save figure\n",
    "    plt.legend(['1/2', '1/4', '3/4'])\n",
    "    plt.savefig(csvpath+\"/Figures/Termposition_LS_m_Box\"+BOI+\"_\"+filedate+\".png\", dpi=200)\n",
    "    plt.show()\n",
    "\n",
    "    # save the terminus position time series along tgethree flowlines\n",
    "    flowlines = ['flowline50', 'flowline25', 'flowline75']\n",
    "    for k in range(0, len(onepick_dfs)):\n",
    "        df = onepick_dfs[k];\n",
    "        df.to_csv(path_or_buf = csvpath+'Tpos_Box'+BOI+'_'+flowlines[k]+'_filtered_py.csv', sep=',')\n",
    "        \n",
    "        # save the final chains into the delineations folder\n",
    "        for idx, row in df.iterrows():\n",
    "            ip = processed_image_path+'Box'+BoxID+'/'+rotated_foldername\n",
    "            ip += 'R_'+str(row.Scene)+'_B8_Buffer'+BoxID+'_PS.pgm_chains/'\n",
    "            ip += str(row.Scale).zfill(3)+'_chain.geojson' # name of the geojson file\n",
    "            of = processed_image_path+'Box'+BoxID+'/delineations/'\n",
    "            if not os.path.exists(of):\n",
    "                os.mkdir(of)\n",
    "            op = of+'Box'+BoxID+'_'+str(row.datetimes)[:10]+'_'+flowlines[k]+'.geojson'\n",
    "            shutil.copyfile(ip, op)"
   ]
  },
  {
   "cell_type": "markdown",
   "metadata": {},
   "source": [
    "### 3.1.1) Option 1: Run in series (loop):"
   ]
  },
  {
   "cell_type": "code",
   "execution_count": 76,
   "metadata": {
    "scrolled": true
   },
   "outputs": [
    {
     "name": "stdout",
     "output_type": "stream",
     "text": [
      "Box012\n"
     ]
    },
    {
     "name": "stderr",
     "output_type": "stream",
     "text": [
      "/home/jukes/automated-glacier-terminus/automated_terminus_functions.py:99: SettingWithCopyWarning: \n",
      "A value is trying to be set on a copy of a slice from a DataFrame.\n",
      "Try using .loc[row_indexer,col_indexer] = value instead\n",
      "\n",
      "See the caveats in the documentation: https://pandas.pydata.org/pandas-docs/stable/user_guide/indexing.html#returning-a-view-versus-a-copy\n",
      "  df['changerate'] = tchange\n"
     ]
    },
    {
     "name": "stdout",
     "output_type": "stream",
     "text": [
      "Dropping 0 dips\n",
      "Dropping 0 dips\n",
      "Dropping 0 dips\n",
      "Dropping 0 jumps\n",
      "Dropping 5 jumps\n",
      "Dropping 5 jumps\n"
     ]
    },
    {
     "data": {
      "image/png": "[encoded data removed]",
      "text/plain": [
       "<Figure size 864x288 with 1 Axes>"
      ]
     },
     "metadata": {
      "needs_background": "light"
     },
     "output_type": "display_data"
    }
   ],
   "source": [
    "for BoxID in BoxIDs:\n",
    "    get_results(BoxID)"
   ]
  },
  {
   "cell_type": "markdown",
   "metadata": {},
   "source": [
    "### 3.1.2) Option 2: Run in parallel (batches):"
   ]
  },
  {
   "cell_type": "code",
   "execution_count": 94,
   "metadata": {},
   "outputs": [
    {
     "name": "stdout",
     "output_type": "stream",
     "text": [
      "12 CPUs on the machine\n",
      "Batch size: 5\n"
     ]
    }
   ],
   "source": [
    "# check number of cpus on machine using os:\n",
    "print(os.cpu_count(), 'CPUs on the machine')\n",
    "\n",
    "################################################################################################\n",
    "# set batch size accordingly\n",
    "# recommendation is to leave one or two cpus available for other background processing\n",
    "batch_size = 10\n",
    "print('Batch size:',batch_size)\n",
    "################################################################################################"
   ]
  },
  {
   "cell_type": "code",
   "execution_count": 95,
   "metadata": {},
   "outputs": [
    {
     "name": "stdout",
     "output_type": "stream",
     "text": [
      "2 batches\n",
      "1 full batches\n"
     ]
    }
   ],
   "source": [
    "nbatches = int(np.ceil(len(BoxIDs)/batch_size)) # round up to the next batch size\n",
    "nfullbatches = int(np.floor(len(BoxIDs)/batch_size)) # number of full batches\n",
    "print(nbatches, 'batches')\n",
    "print(nfullbatches, 'full batches')"
   ]
  },
  {
   "cell_type": "code",
   "execution_count": 97,
   "metadata": {},
   "outputs": [
    {
     "name": "stdout",
     "output_type": "stream",
     "text": [
      "Box179\n",
      "Box095\n",
      "Box161\n",
      "Box281\n",
      "Box071\n",
      "Dropping 4 dips\n",
      "Dropping 0 dips\n",
      "Dropping 0 dips\n",
      "Dropping 0 dips\n",
      "Dropping 0 dips\n",
      "Dropping 18 dips\n",
      "Dropping 8 jumps\n",
      "Dropping 0 jumps\n",
      "Dropping 11 jumps\n",
      "Dropping 61 jumps\n",
      "89\n",
      "81\n",
      "92\n"
     ]
    },
    {
     "data": {
      "image/png": "[encoded data removed]",
      "text/plain": [
       "<Figure size 864x288 with 1 Axes>"
      ]
     },
     "metadata": {
      "needs_background": "light"
     },
     "output_type": "display_data"
    },
    {
     "name": "stdout",
     "output_type": "stream",
     "text": [
      "Dropping 7 jumps\n",
      "Dropping 34 jumps\n",
      "137\n",
      "134\n",
      "125\n"
     ]
    },
    {
     "data": {
      "image/png": "[encoded data removed]",
      "text/plain": [
       "<Figure size 864x288 with 1 Axes>"
      ]
     },
     "metadata": {
      "needs_background": "light"
     },
     "output_type": "display_data"
    },
    {
     "name": "stdout",
     "output_type": "stream",
     "text": [
      "Dropping 9 dips\n",
      "Dropping 5 dips\n",
      "Dropping 5 dips\n",
      "Dropping 63 jumps\n",
      "Dropping 39 jumps\n",
      "Dropping 0 dips\n",
      "Dropping 8 dips\n",
      "Dropping 12 dips\n",
      "Dropping 24 jumps\n",
      "Dropping 26 jumps\n",
      "Dropping 73 jumps\n",
      "85\n",
      "76\n",
      "83\n"
     ]
    },
    {
     "data": {
      "image/png": "[encoded data removed]",
      "text/plain": [
       "<Figure size 864x288 with 1 Axes>"
      ]
     },
     "metadata": {
      "needs_background": "light"
     },
     "output_type": "display_data"
    },
    {
     "name": "stdout",
     "output_type": "stream",
     "text": [
      "Dropping 52 jumps\n",
      "237\n",
      "238\n",
      "235\n"
     ]
    },
    {
     "data": {
      "image/png": "[encoded data removed]",
      "text/plain": [
       "<Figure size 864x288 with 1 Axes>"
      ]
     },
     "metadata": {
      "needs_background": "light"
     },
     "output_type": "display_data"
    },
    {
     "name": "stdout",
     "output_type": "stream",
     "text": [
      "Dropping 3 dips\n",
      "Dropping 9 dips\n",
      "Dropping 0 dips\n",
      "Dropping 14 jumps\n",
      "Dropping 52 jumps\n",
      "Dropping 46 jumps\n",
      "95\n",
      "109\n",
      "46\n"
     ]
    },
    {
     "data": {
      "image/png": "[encoded data removed]",
      "text/plain": [
       "<Figure size 864x288 with 1 Axes>"
      ]
     },
     "metadata": {
      "needs_background": "light"
     },
     "output_type": "display_data"
    },
    {
     "name": "stdout",
     "output_type": "stream",
     "text": [
      "Box209\n",
      "Box119\n",
      "Box197\n",
      "Dropping 0 dips\n",
      "Dropping 10 dips\n",
      "Dropping 9 dips\n",
      "Dropping 0 dips\n",
      "Dropping 20 jumps\n",
      "Dropping 36 jumps\n",
      "Dropping 46 jumps\n",
      "44\n",
      "43\n",
      "29\n"
     ]
    },
    {
     "data": {
      "image/png": "[encoded data removed]",
      "text/plain": [
       "<Figure size 864x288 with 1 Axes>"
      ]
     },
     "metadata": {
      "needs_background": "light"
     },
     "output_type": "display_data"
    },
    {
     "name": "stdout",
     "output_type": "stream",
     "text": [
      "Dropping 5 dips\n"
     ]
    },
    {
     "name": "stderr",
     "output_type": "stream",
     "text": [
      "Process ForkPoolWorker-46:\n",
      "Process ForkPoolWorker-48:\n",
      "Process ForkPoolWorker-44:\n",
      "Process ForkPoolWorker-31:\n",
      "Process ForkPoolWorker-35:\n",
      "Process ForkPoolWorker-28:\n",
      "Process ForkPoolWorker-39:\n",
      "Process ForkPoolWorker-34:\n",
      "Process ForkPoolWorker-38:\n",
      "Process ForkPoolWorker-25:\n",
      "Process ForkPoolWorker-30:\n",
      "Process ForkPoolWorker-29:\n",
      "Process ForkPoolWorker-26:\n",
      "Process ForkPoolWorker-32:\n"
     ]
    },
    {
     "ename": "KeyboardInterrupt",
     "evalue": "",
     "output_type": "error",
     "traceback": [
      "\u001b[0;31m---------------------------------------------------------------------------\u001b[0m",
      "\u001b[0;31mKeyboardInterrupt\u001b[0m                         Traceback (most recent call last)",
      "\u001b[0;32m<ipython-input-97-15a4394af610>\u001b[0m in \u001b[0;36m<module>\u001b[0;34m\u001b[0m\n\u001b[1;32m      9\u001b[0m     \u001b[0mpool\u001b[0m \u001b[0;34m=\u001b[0m \u001b[0mPool\u001b[0m\u001b[0;34m(\u001b[0m\u001b[0;34m)\u001b[0m\u001b[0;34m\u001b[0m\u001b[0;34m\u001b[0m\u001b[0m\n\u001b[1;32m     10\u001b[0m     \u001b[0mlastbatchids\u001b[0m \u001b[0;34m=\u001b[0m \u001b[0mBoxIDs\u001b[0m\u001b[0;34m[\u001b[0m\u001b[0;34m(\u001b[0m\u001b[0mb\u001b[0m\u001b[0;34m+\u001b[0m\u001b[0;36m1\u001b[0m\u001b[0;34m)\u001b[0m\u001b[0;34m*\u001b[0m\u001b[0mbatch_size\u001b[0m\u001b[0;34m:\u001b[0m\u001b[0;34m]\u001b[0m \u001b[0;31m# grab all remaining images\u001b[0m\u001b[0;34m\u001b[0m\u001b[0;34m\u001b[0m\u001b[0m\n\u001b[0;32m---> 11\u001b[0;31m     \u001b[0mpool\u001b[0m\u001b[0;34m.\u001b[0m\u001b[0mmap\u001b[0m\u001b[0;34m(\u001b[0m\u001b[0mget_results\u001b[0m\u001b[0;34m,\u001b[0m \u001b[0mlastbatchids\u001b[0m\u001b[0;34m)\u001b[0m \u001b[0;31m# process all in pool\u001b[0m\u001b[0;34m\u001b[0m\u001b[0;34m\u001b[0m\u001b[0m\n\u001b[0m\u001b[1;32m     12\u001b[0m \u001b[0;31m#         print(lastbatchimgs)\u001b[0m\u001b[0;34m\u001b[0m\u001b[0;34m\u001b[0m\u001b[0;34m\u001b[0m\u001b[0m\n",
      "\u001b[0;32m~/anaconda3/lib/python3.7/multiprocessing/pool.py\u001b[0m in \u001b[0;36mmap\u001b[0;34m(self, func, iterable, chunksize)\u001b[0m\n\u001b[1;32m    266\u001b[0m         \u001b[0;32min\u001b[0m \u001b[0ma\u001b[0m \u001b[0mlist\u001b[0m \u001b[0mthat\u001b[0m \u001b[0;32mis\u001b[0m \u001b[0mreturned\u001b[0m\u001b[0;34m.\u001b[0m\u001b[0;34m\u001b[0m\u001b[0;34m\u001b[0m\u001b[0m\n\u001b[1;32m    267\u001b[0m         '''\n\u001b[0;32m--> 268\u001b[0;31m         \u001b[0;32mreturn\u001b[0m \u001b[0mself\u001b[0m\u001b[0;34m.\u001b[0m\u001b[0m_map_async\u001b[0m\u001b[0;34m(\u001b[0m\u001b[0mfunc\u001b[0m\u001b[0;34m,\u001b[0m \u001b[0miterable\u001b[0m\u001b[0;34m,\u001b[0m \u001b[0mmapstar\u001b[0m\u001b[0;34m,\u001b[0m \u001b[0mchunksize\u001b[0m\u001b[0;34m)\u001b[0m\u001b[0;34m.\u001b[0m\u001b[0mget\u001b[0m\u001b[0;34m(\u001b[0m\u001b[0;34m)\u001b[0m\u001b[0;34m\u001b[0m\u001b[0;34m\u001b[0m\u001b[0m\n\u001b[0m\u001b[1;32m    269\u001b[0m \u001b[0;34m\u001b[0m\u001b[0m\n\u001b[1;32m    270\u001b[0m     \u001b[0;32mdef\u001b[0m \u001b[0mstarmap\u001b[0m\u001b[0;34m(\u001b[0m\u001b[0mself\u001b[0m\u001b[0;34m,\u001b[0m \u001b[0mfunc\u001b[0m\u001b[0;34m,\u001b[0m \u001b[0miterable\u001b[0m\u001b[0;34m,\u001b[0m \u001b[0mchunksize\u001b[0m\u001b[0;34m=\u001b[0m\u001b[0;32mNone\u001b[0m\u001b[0;34m)\u001b[0m\u001b[0;34m:\u001b[0m\u001b[0;34m\u001b[0m\u001b[0;34m\u001b[0m\u001b[0m\n",
      "\u001b[0;32m~/anaconda3/lib/python3.7/multiprocessing/pool.py\u001b[0m in \u001b[0;36mget\u001b[0;34m(self, timeout)\u001b[0m\n\u001b[1;32m    649\u001b[0m \u001b[0;34m\u001b[0m\u001b[0m\n\u001b[1;32m    650\u001b[0m     \u001b[0;32mdef\u001b[0m \u001b[0mget\u001b[0m\u001b[0;34m(\u001b[0m\u001b[0mself\u001b[0m\u001b[0;34m,\u001b[0m \u001b[0mtimeout\u001b[0m\u001b[0;34m=\u001b[0m\u001b[0;32mNone\u001b[0m\u001b[0;34m)\u001b[0m\u001b[0;34m:\u001b[0m\u001b[0;34m\u001b[0m\u001b[0;34m\u001b[0m\u001b[0m\n\u001b[0;32m--> 651\u001b[0;31m         \u001b[0mself\u001b[0m\u001b[0;34m.\u001b[0m\u001b[0mwait\u001b[0m\u001b[0;34m(\u001b[0m\u001b[0mtimeout\u001b[0m\u001b[0;34m)\u001b[0m\u001b[0;34m\u001b[0m\u001b[0;34m\u001b[0m\u001b[0m\n\u001b[0m\u001b[1;32m    652\u001b[0m         \u001b[0;32mif\u001b[0m \u001b[0;32mnot\u001b[0m \u001b[0mself\u001b[0m\u001b[0;34m.\u001b[0m\u001b[0mready\u001b[0m\u001b[0;34m(\u001b[0m\u001b[0;34m)\u001b[0m\u001b[0;34m:\u001b[0m\u001b[0;34m\u001b[0m\u001b[0;34m\u001b[0m\u001b[0m\n\u001b[1;32m    653\u001b[0m             \u001b[0;32mraise\u001b[0m \u001b[0mTimeoutError\u001b[0m\u001b[0;34m\u001b[0m\u001b[0;34m\u001b[0m\u001b[0m\n",
      "\u001b[0;32m~/anaconda3/lib/python3.7/multiprocessing/pool.py\u001b[0m in \u001b[0;36mwait\u001b[0;34m(self, timeout)\u001b[0m\n\u001b[1;32m    646\u001b[0m \u001b[0;34m\u001b[0m\u001b[0m\n\u001b[1;32m    647\u001b[0m     \u001b[0;32mdef\u001b[0m \u001b[0mwait\u001b[0m\u001b[0;34m(\u001b[0m\u001b[0mself\u001b[0m\u001b[0;34m,\u001b[0m \u001b[0mtimeout\u001b[0m\u001b[0;34m=\u001b[0m\u001b[0;32mNone\u001b[0m\u001b[0;34m)\u001b[0m\u001b[0;34m:\u001b[0m\u001b[0;34m\u001b[0m\u001b[0;34m\u001b[0m\u001b[0m\n\u001b[0;32m--> 648\u001b[0;31m         \u001b[0mself\u001b[0m\u001b[0;34m.\u001b[0m\u001b[0m_event\u001b[0m\u001b[0;34m.\u001b[0m\u001b[0mwait\u001b[0m\u001b[0;34m(\u001b[0m\u001b[0mtimeout\u001b[0m\u001b[0;34m)\u001b[0m\u001b[0;34m\u001b[0m\u001b[0;34m\u001b[0m\u001b[0m\n\u001b[0m\u001b[1;32m    649\u001b[0m \u001b[0;34m\u001b[0m\u001b[0m\n\u001b[1;32m    650\u001b[0m     \u001b[0;32mdef\u001b[0m \u001b[0mget\u001b[0m\u001b[0;34m(\u001b[0m\u001b[0mself\u001b[0m\u001b[0;34m,\u001b[0m \u001b[0mtimeout\u001b[0m\u001b[0;34m=\u001b[0m\u001b[0;32mNone\u001b[0m\u001b[0;34m)\u001b[0m\u001b[0;34m:\u001b[0m\u001b[0;34m\u001b[0m\u001b[0;34m\u001b[0m\u001b[0m\n",
      "\u001b[0;32m~/anaconda3/lib/python3.7/threading.py\u001b[0m in \u001b[0;36mwait\u001b[0;34m(self, timeout)\u001b[0m\n\u001b[1;32m    550\u001b[0m             \u001b[0msignaled\u001b[0m \u001b[0;34m=\u001b[0m \u001b[0mself\u001b[0m\u001b[0;34m.\u001b[0m\u001b[0m_flag\u001b[0m\u001b[0;34m\u001b[0m\u001b[0;34m\u001b[0m\u001b[0m\n\u001b[1;32m    551\u001b[0m             \u001b[0;32mif\u001b[0m \u001b[0;32mnot\u001b[0m \u001b[0msignaled\u001b[0m\u001b[0;34m:\u001b[0m\u001b[0;34m\u001b[0m\u001b[0;34m\u001b[0m\u001b[0m\n\u001b[0;32m--> 552\u001b[0;31m                 \u001b[0msignaled\u001b[0m \u001b[0;34m=\u001b[0m \u001b[0mself\u001b[0m\u001b[0;34m.\u001b[0m\u001b[0m_cond\u001b[0m\u001b[0;34m.\u001b[0m\u001b[0mwait\u001b[0m\u001b[0;34m(\u001b[0m\u001b[0mtimeout\u001b[0m\u001b[0;34m)\u001b[0m\u001b[0;34m\u001b[0m\u001b[0;34m\u001b[0m\u001b[0m\n\u001b[0m\u001b[1;32m    553\u001b[0m             \u001b[0;32mreturn\u001b[0m \u001b[0msignaled\u001b[0m\u001b[0;34m\u001b[0m\u001b[0;34m\u001b[0m\u001b[0m\n\u001b[1;32m    554\u001b[0m \u001b[0;34m\u001b[0m\u001b[0m\n",
      "\u001b[0;32m~/anaconda3/lib/python3.7/threading.py\u001b[0m in \u001b[0;36mwait\u001b[0;34m(self, timeout)\u001b[0m\n\u001b[1;32m    294\u001b[0m         \u001b[0;32mtry\u001b[0m\u001b[0;34m:\u001b[0m    \u001b[0;31m# restore state no matter what (e.g., KeyboardInterrupt)\u001b[0m\u001b[0;34m\u001b[0m\u001b[0;34m\u001b[0m\u001b[0m\n\u001b[1;32m    295\u001b[0m             \u001b[0;32mif\u001b[0m \u001b[0mtimeout\u001b[0m \u001b[0;32mis\u001b[0m \u001b[0;32mNone\u001b[0m\u001b[0;34m:\u001b[0m\u001b[0;34m\u001b[0m\u001b[0;34m\u001b[0m\u001b[0m\n\u001b[0;32m--> 296\u001b[0;31m                 \u001b[0mwaiter\u001b[0m\u001b[0;34m.\u001b[0m\u001b[0macquire\u001b[0m\u001b[0;34m(\u001b[0m\u001b[0;34m)\u001b[0m\u001b[0;34m\u001b[0m\u001b[0;34m\u001b[0m\u001b[0m\n\u001b[0m\u001b[1;32m    297\u001b[0m                 \u001b[0mgotit\u001b[0m \u001b[0;34m=\u001b[0m \u001b[0;32mTrue\u001b[0m\u001b[0;34m\u001b[0m\u001b[0;34m\u001b[0m\u001b[0m\n\u001b[1;32m    298\u001b[0m             \u001b[0;32melse\u001b[0m\u001b[0;34m:\u001b[0m\u001b[0;34m\u001b[0m\u001b[0;34m\u001b[0m\u001b[0m\n",
      "\u001b[0;31mKeyboardInterrupt\u001b[0m: "
     ]
    },
    {
     "name": "stderr",
     "output_type": "stream",
     "text": [
      "Process ForkPoolWorker-33:\n",
      "Process ForkPoolWorker-41:\n",
      "Process ForkPoolWorker-47:\n",
      "Process ForkPoolWorker-37:\n",
      "Process ForkPoolWorker-40:\n",
      "Process ForkPoolWorker-43:\n",
      "Process ForkPoolWorker-45:\n",
      "Process ForkPoolWorker-27:\n",
      "Process ForkPoolWorker-42:\n",
      "Process ForkPoolWorker-36:\n",
      "Traceback (most recent call last):\n",
      "Traceback (most recent call last):\n",
      "Traceback (most recent call last):\n",
      "Traceback (most recent call last):\n",
      "Traceback (most recent call last):\n",
      "Traceback (most recent call last):\n",
      "Traceback (most recent call last):\n",
      "Traceback (most recent call last):\n",
      "Traceback (most recent call last):\n",
      "Traceback (most recent call last):\n",
      "Traceback (most recent call last):\n",
      "  File \"/home/jukes/anaconda3/lib/python3.7/multiprocessing/process.py\", line 297, in _bootstrap\n",
      "    self.run()\n",
      "  File \"/home/jukes/anaconda3/lib/python3.7/multiprocessing/process.py\", line 297, in _bootstrap\n",
      "    self.run()\n",
      "  File \"/home/jukes/anaconda3/lib/python3.7/multiprocessing/process.py\", line 297, in _bootstrap\n",
      "    self.run()\n",
      "Traceback (most recent call last):\n",
      "Traceback (most recent call last):\n",
      "  File \"/home/jukes/anaconda3/lib/python3.7/multiprocessing/process.py\", line 297, in _bootstrap\n",
      "    self.run()\n",
      "Traceback (most recent call last):\n",
      "  File \"/home/jukes/anaconda3/lib/python3.7/multiprocessing/process.py\", line 297, in _bootstrap\n",
      "    self.run()\n",
      "Traceback (most recent call last):\n",
      "Traceback (most recent call last):\n",
      "Traceback (most recent call last):\n",
      "Traceback (most recent call last):\n",
      "Traceback (most recent call last):\n",
      "Traceback (most recent call last):\n",
      "Traceback (most recent call last):\n",
      "Traceback (most recent call last):\n",
      "Traceback (most recent call last):\n",
      "  File \"/home/jukes/anaconda3/lib/python3.7/multiprocessing/process.py\", line 297, in _bootstrap\n",
      "    self.run()\n",
      "  File \"/home/jukes/anaconda3/lib/python3.7/multiprocessing/process.py\", line 297, in _bootstrap\n",
      "    self.run()\n",
      "  File \"/home/jukes/anaconda3/lib/python3.7/multiprocessing/process.py\", line 297, in _bootstrap\n",
      "    self.run()\n",
      "  File \"/home/jukes/anaconda3/lib/python3.7/multiprocessing/process.py\", line 297, in _bootstrap\n",
      "    self.run()\n",
      "  File \"/home/jukes/anaconda3/lib/python3.7/multiprocessing/process.py\", line 99, in run\n",
      "    self._target(*self._args, **self._kwargs)\n",
      "  File \"/home/jukes/anaconda3/lib/python3.7/multiprocessing/process.py\", line 297, in _bootstrap\n",
      "    self.run()\n",
      "  File \"/home/jukes/anaconda3/lib/python3.7/multiprocessing/process.py\", line 99, in run\n",
      "    self._target(*self._args, **self._kwargs)\n",
      "  File \"/home/jukes/anaconda3/lib/python3.7/multiprocessing/process.py\", line 297, in _bootstrap\n",
      "    self.run()\n",
      "  File \"/home/jukes/anaconda3/lib/python3.7/multiprocessing/process.py\", line 297, in _bootstrap\n",
      "    self.run()\n",
      "  File \"/home/jukes/anaconda3/lib/python3.7/multiprocessing/process.py\", line 99, in run\n",
      "    self._target(*self._args, **self._kwargs)\n",
      "  File \"/home/jukes/anaconda3/lib/python3.7/multiprocessing/process.py\", line 297, in _bootstrap\n",
      "    self.run()\n",
      "  File \"/home/jukes/anaconda3/lib/python3.7/multiprocessing/process.py\", line 297, in _bootstrap\n",
      "    self.run()\n",
      "  File \"/home/jukes/anaconda3/lib/python3.7/multiprocessing/process.py\", line 297, in _bootstrap\n",
      "    self.run()\n",
      "  File \"/home/jukes/anaconda3/lib/python3.7/multiprocessing/process.py\", line 297, in _bootstrap\n",
      "    self.run()\n",
      "  File \"/home/jukes/anaconda3/lib/python3.7/multiprocessing/process.py\", line 297, in _bootstrap\n",
      "    self.run()\n",
      "  File \"/home/jukes/anaconda3/lib/python3.7/multiprocessing/process.py\", line 297, in _bootstrap\n",
      "    self.run()\n",
      "  File \"/home/jukes/anaconda3/lib/python3.7/multiprocessing/process.py\", line 297, in _bootstrap\n",
      "    self.run()\n",
      "  File \"/home/jukes/anaconda3/lib/python3.7/multiprocessing/process.py\", line 99, in run\n",
      "    self._target(*self._args, **self._kwargs)\n",
      "  File \"/home/jukes/anaconda3/lib/python3.7/multiprocessing/process.py\", line 297, in _bootstrap\n",
      "    self.run()\n",
      "  File \"/home/jukes/anaconda3/lib/python3.7/multiprocessing/process.py\", line 297, in _bootstrap\n",
      "    self.run()\n",
      "  File \"/home/jukes/anaconda3/lib/python3.7/multiprocessing/process.py\", line 297, in _bootstrap\n",
      "    self.run()\n",
      "Traceback (most recent call last):\n",
      "  File \"/home/jukes/anaconda3/lib/python3.7/multiprocessing/process.py\", line 99, in run\n",
      "    self._target(*self._args, **self._kwargs)\n",
      "  File \"/home/jukes/anaconda3/lib/python3.7/multiprocessing/process.py\", line 99, in run\n",
      "    self._target(*self._args, **self._kwargs)\n",
      "  File \"/home/jukes/anaconda3/lib/python3.7/multiprocessing/process.py\", line 99, in run\n",
      "    self._target(*self._args, **self._kwargs)\n",
      "  File \"/home/jukes/anaconda3/lib/python3.7/multiprocessing/process.py\", line 297, in _bootstrap\n",
      "    self.run()\n",
      "  File \"/home/jukes/anaconda3/lib/python3.7/multiprocessing/process.py\", line 99, in run\n",
      "    self._target(*self._args, **self._kwargs)\n",
      "  File \"/home/jukes/anaconda3/lib/python3.7/multiprocessing/process.py\", line 99, in run\n",
      "    self._target(*self._args, **self._kwargs)\n",
      "  File \"/home/jukes/anaconda3/lib/python3.7/multiprocessing/process.py\", line 99, in run\n",
      "    self._target(*self._args, **self._kwargs)\n",
      "  File \"/home/jukes/anaconda3/lib/python3.7/multiprocessing/pool.py\", line 110, in worker\n",
      "    task = get()\n",
      "  File \"/home/jukes/anaconda3/lib/python3.7/multiprocessing/process.py\", line 99, in run\n",
      "    self._target(*self._args, **self._kwargs)\n",
      "  File \"/home/jukes/anaconda3/lib/python3.7/multiprocessing/pool.py\", line 110, in worker\n",
      "    task = get()\n",
      "  File \"/home/jukes/anaconda3/lib/python3.7/multiprocessing/process.py\", line 99, in run\n",
      "    self._target(*self._args, **self._kwargs)\n",
      "  File \"/home/jukes/anaconda3/lib/python3.7/multiprocessing/process.py\", line 99, in run\n",
      "    self._target(*self._args, **self._kwargs)\n",
      "  File \"/home/jukes/anaconda3/lib/python3.7/multiprocessing/process.py\", line 99, in run\n",
      "    self._target(*self._args, **self._kwargs)\n",
      "  File \"/home/jukes/anaconda3/lib/python3.7/multiprocessing/process.py\", line 99, in run\n",
      "    self._target(*self._args, **self._kwargs)\n",
      "  File \"/home/jukes/anaconda3/lib/python3.7/multiprocessing/pool.py\", line 121, in worker\n",
      "    result = (True, func(*args, **kwds))\n",
      "  File \"/home/jukes/anaconda3/lib/python3.7/multiprocessing/pool.py\", line 110, in worker\n",
      "    task = get()\n",
      "  File \"/home/jukes/anaconda3/lib/python3.7/multiprocessing/queues.py\", line 351, in get\n",
      "    with self._rlock:\n",
      "  File \"/home/jukes/anaconda3/lib/python3.7/multiprocessing/pool.py\", line 110, in worker\n",
      "    task = get()\n",
      "  File \"/home/jukes/anaconda3/lib/python3.7/multiprocessing/process.py\", line 99, in run\n",
      "    self._target(*self._args, **self._kwargs)\n",
      "  File \"/home/jukes/anaconda3/lib/python3.7/multiprocessing/process.py\", line 99, in run\n",
      "    self._target(*self._args, **self._kwargs)\n",
      "  File \"/home/jukes/anaconda3/lib/python3.7/multiprocessing/process.py\", line 99, in run\n",
      "    self._target(*self._args, **self._kwargs)\n",
      "  File \"/home/jukes/anaconda3/lib/python3.7/multiprocessing/queues.py\", line 351, in get\n",
      "    with self._rlock:\n",
      "  File \"/home/jukes/anaconda3/lib/python3.7/multiprocessing/process.py\", line 297, in _bootstrap\n",
      "    self.run()\n",
      "  File \"/home/jukes/anaconda3/lib/python3.7/multiprocessing/process.py\", line 99, in run\n",
      "    self._target(*self._args, **self._kwargs)\n",
      "  File \"/home/jukes/anaconda3/lib/python3.7/multiprocessing/process.py\", line 99, in run\n",
      "    self._target(*self._args, **self._kwargs)\n",
      "  File \"/home/jukes/anaconda3/lib/python3.7/multiprocessing/pool.py\", line 44, in mapstar\n",
      "    return list(map(*args))\n",
      "  File \"/home/jukes/anaconda3/lib/python3.7/multiprocessing/pool.py\", line 110, in worker\n",
      "    task = get()\n",
      "  File \"/home/jukes/anaconda3/lib/python3.7/multiprocessing/pool.py\", line 110, in worker\n",
      "    task = get()\n",
      "  File \"/home/jukes/anaconda3/lib/python3.7/multiprocessing/pool.py\", line 121, in worker\n",
      "    result = (True, func(*args, **kwds))\n",
      "  File \"/home/jukes/anaconda3/lib/python3.7/multiprocessing/pool.py\", line 110, in worker\n",
      "    task = get()\n",
      "  File \"/home/jukes/anaconda3/lib/python3.7/multiprocessing/synchronize.py\", line 95, in __enter__\n",
      "    return self._semlock.__enter__()\n",
      "  File \"/home/jukes/anaconda3/lib/python3.7/multiprocessing/queues.py\", line 351, in get\n",
      "    with self._rlock:\n",
      "  File \"/home/jukes/anaconda3/lib/python3.7/multiprocessing/pool.py\", line 110, in worker\n",
      "    task = get()\n"
     ]
    },
    {
     "name": "stderr",
     "output_type": "stream",
     "text": [
      "  File \"/home/jukes/anaconda3/lib/python3.7/multiprocessing/process.py\", line 99, in run\n",
      "    self._target(*self._args, **self._kwargs)\n",
      "  File \"/home/jukes/anaconda3/lib/python3.7/multiprocessing/pool.py\", line 110, in worker\n",
      "    task = get()\n",
      "  File \"/home/jukes/anaconda3/lib/python3.7/multiprocessing/process.py\", line 99, in run\n",
      "    self._target(*self._args, **self._kwargs)\n",
      "  File \"/home/jukes/anaconda3/lib/python3.7/multiprocessing/pool.py\", line 110, in worker\n",
      "    task = get()\n",
      "  File \"/home/jukes/anaconda3/lib/python3.7/multiprocessing/pool.py\", line 110, in worker\n",
      "    task = get()\n",
      "  File \"/home/jukes/anaconda3/lib/python3.7/multiprocessing/synchronize.py\", line 95, in __enter__\n",
      "    return self._semlock.__enter__()\n",
      "  File \"/home/jukes/anaconda3/lib/python3.7/multiprocessing/pool.py\", line 110, in worker\n",
      "    task = get()\n",
      "  File \"/home/jukes/anaconda3/lib/python3.7/multiprocessing/pool.py\", line 44, in mapstar\n",
      "    return list(map(*args))\n",
      "  File \"/home/jukes/anaconda3/lib/python3.7/multiprocessing/pool.py\", line 110, in worker\n",
      "    task = get()\n",
      "  File \"/home/jukes/anaconda3/lib/python3.7/multiprocessing/process.py\", line 99, in run\n",
      "    self._target(*self._args, **self._kwargs)\n",
      "  File \"/home/jukes/anaconda3/lib/python3.7/multiprocessing/pool.py\", line 110, in worker\n",
      "    task = get()\n",
      "  File \"/home/jukes/anaconda3/lib/python3.7/multiprocessing/pool.py\", line 110, in worker\n",
      "    task = get()\n",
      "  File \"/home/jukes/anaconda3/lib/python3.7/multiprocessing/pool.py\", line 110, in worker\n",
      "    task = get()\n",
      "  File \"/home/jukes/anaconda3/lib/python3.7/multiprocessing/pool.py\", line 110, in worker\n",
      "    task = get()\n",
      "  File \"/home/jukes/anaconda3/lib/python3.7/multiprocessing/queues.py\", line 351, in get\n",
      "    with self._rlock:\n",
      "  File \"/home/jukes/anaconda3/lib/python3.7/multiprocessing/queues.py\", line 351, in get\n",
      "    with self._rlock:\n",
      "  File \"/home/jukes/anaconda3/lib/python3.7/multiprocessing/synchronize.py\", line 95, in __enter__\n",
      "    return self._semlock.__enter__()\n",
      "  File \"<ipython-input-80-f0fc17e77a66>\", line 129, in get_results\n",
      "    nodips.append(remove_dips(df, flow_thresh, N1))\n",
      "  File \"/home/jukes/anaconda3/lib/python3.7/multiprocessing/queues.py\", line 351, in get\n",
      "    with self._rlock:\n",
      "  File \"/home/jukes/anaconda3/lib/python3.7/multiprocessing/queues.py\", line 351, in get\n",
      "    with self._rlock:\n",
      "KeyboardInterrupt\n",
      "  File \"/home/jukes/anaconda3/lib/python3.7/multiprocessing/queues.py\", line 352, in get\n",
      "    res = self._reader.recv_bytes()\n",
      "  File \"/home/jukes/anaconda3/lib/python3.7/multiprocessing/pool.py\", line 110, in worker\n",
      "    task = get()\n",
      "  File \"/home/jukes/anaconda3/lib/python3.7/multiprocessing/queues.py\", line 351, in get\n",
      "    with self._rlock:\n",
      "  File \"/home/jukes/anaconda3/lib/python3.7/multiprocessing/pool.py\", line 110, in worker\n",
      "    task = get()\n",
      "KeyboardInterrupt\n",
      "  File \"<ipython-input-80-f0fc17e77a66>\", line 63, in get_results\n",
      "    if within(dat_x, x, interval) and within(dat_y, y25, interval):\n",
      "  File \"/home/jukes/anaconda3/lib/python3.7/multiprocessing/queues.py\", line 351, in get\n",
      "    with self._rlock:\n",
      "  File \"/home/jukes/anaconda3/lib/python3.7/multiprocessing/queues.py\", line 352, in get\n",
      "    res = self._reader.recv_bytes()\n",
      "  File \"/home/jukes/anaconda3/lib/python3.7/multiprocessing/queues.py\", line 351, in get\n",
      "    with self._rlock:\n",
      "  File \"/home/jukes/anaconda3/lib/python3.7/multiprocessing/process.py\", line 99, in run\n",
      "    self._target(*self._args, **self._kwargs)\n",
      "  File \"/home/jukes/anaconda3/lib/python3.7/multiprocessing/queues.py\", line 351, in get\n",
      "    with self._rlock:\n",
      "  File \"/home/jukes/anaconda3/lib/python3.7/multiprocessing/queues.py\", line 351, in get\n",
      "    with self._rlock:\n",
      "  File \"/home/jukes/anaconda3/lib/python3.7/multiprocessing/queues.py\", line 351, in get\n",
      "    with self._rlock:\n",
      "  File \"/home/jukes/anaconda3/lib/python3.7/multiprocessing/queues.py\", line 351, in get\n",
      "    with self._rlock:\n",
      "  File \"/home/jukes/anaconda3/lib/python3.7/multiprocessing/pool.py\", line 110, in worker\n",
      "    task = get()\n",
      "KeyboardInterrupt\n",
      "  File \"/home/jukes/anaconda3/lib/python3.7/multiprocessing/synchronize.py\", line 95, in __enter__\n",
      "    return self._semlock.__enter__()\n",
      "  File \"/home/jukes/anaconda3/lib/python3.7/multiprocessing/queues.py\", line 351, in get\n",
      "    with self._rlock:\n",
      "  File \"/home/jukes/anaconda3/lib/python3.7/multiprocessing/pool.py\", line 110, in worker\n",
      "    task = get()\n",
      "  File \"/home/jukes/automated-glacier-terminus/automated_terminus_functions.py\", line 138, in remove_dips\n",
      "    df = df.drop(dip_indices); df = calc_changerates1(df)\n",
      "  File \"/home/jukes/anaconda3/lib/python3.7/multiprocessing/synchronize.py\", line 95, in __enter__\n",
      "    return self._semlock.__enter__()\n",
      "  File \"/home/jukes/anaconda3/lib/python3.7/multiprocessing/synchronize.py\", line 95, in __enter__\n",
      "    return self._semlock.__enter__()\n",
      "  File \"/home/jukes/anaconda3/lib/python3.7/multiprocessing/synchronize.py\", line 95, in __enter__\n",
      "    return self._semlock.__enter__()\n",
      "  File \"/home/jukes/anaconda3/lib/python3.7/multiprocessing/queues.py\", line 351, in get\n",
      "    with self._rlock:\n",
      "  File \"/home/jukes/anaconda3/lib/python3.7/multiprocessing/synchronize.py\", line 95, in __enter__\n",
      "    return self._semlock.__enter__()\n",
      "  File \"/home/jukes/anaconda3/lib/python3.7/multiprocessing/synchronize.py\", line 95, in __enter__\n",
      "    return self._semlock.__enter__()\n",
      "  File \"/home/jukes/anaconda3/lib/python3.7/multiprocessing/synchronize.py\", line 95, in __enter__\n",
      "    return self._semlock.__enter__()\n",
      "  File \"/home/jukes/anaconda3/lib/python3.7/multiprocessing/synchronize.py\", line 95, in __enter__\n",
      "    return self._semlock.__enter__()\n",
      "  File \"/home/jukes/automated-glacier-terminus/automated_terminus_functions.py\", line 188, in within\n",
      "    if value >= setval-interval and value <= setval+interval:\n",
      "  File \"/home/jukes/anaconda3/lib/python3.7/multiprocessing/synchronize.py\", line 95, in __enter__\n",
      "    return self._semlock.__enter__()\n",
      "  File \"/home/jukes/anaconda3/lib/python3.7/multiprocessing/queues.py\", line 351, in get\n",
      "    with self._rlock:\n",
      "  File \"/home/jukes/anaconda3/lib/python3.7/multiprocessing/queues.py\", line 351, in get\n",
      "    with self._rlock:\n",
      "  File \"/home/jukes/anaconda3/lib/python3.7/multiprocessing/pool.py\", line 110, in worker\n",
      "    task = get()\n",
      "  File \"/home/jukes/anaconda3/lib/python3.7/multiprocessing/synchronize.py\", line 95, in __enter__\n",
      "    return self._semlock.__enter__()\n",
      "  File \"/home/jukes/anaconda3/lib/python3.7/multiprocessing/queues.py\", line 351, in get\n",
      "    with self._rlock:\n",
      "  File \"/home/jukes/anaconda3/lib/python3.7/multiprocessing/synchronize.py\", line 95, in __enter__\n",
      "    return self._semlock.__enter__()\n",
      "  File \"/home/jukes/anaconda3/lib/python3.7/multiprocessing/synchronize.py\", line 95, in __enter__\n",
      "    return self._semlock.__enter__()\n",
      "KeyboardInterrupt\n",
      "  File \"/home/jukes/anaconda3/lib/python3.7/multiprocessing/synchronize.py\", line 95, in __enter__\n",
      "    return self._semlock.__enter__()\n",
      "KeyboardInterrupt\n",
      "KeyboardInterrupt\n",
      "  File \"/home/jukes/anaconda3/lib/python3.7/multiprocessing/synchronize.py\", line 95, in __enter__\n",
      "    return self._semlock.__enter__()\n",
      "  File \"/home/jukes/anaconda3/lib/python3.7/multiprocessing/connection.py\", line 216, in recv_bytes\n",
      "    buf = self._recv_bytes(maxlength)\n",
      "KeyboardInterrupt\n",
      "KeyboardInterrupt\n",
      "KeyboardInterrupt\n",
      "KeyboardInterrupt\n",
      "KeyboardInterrupt\n",
      "  File \"/home/jukes/anaconda3/lib/python3.7/multiprocessing/connection.py\", line 216, in recv_bytes\n",
      "    buf = self._recv_bytes(maxlength)\n",
      "  File \"/home/jukes/anaconda3/lib/python3.7/multiprocessing/connection.py\", line 407, in _recv_bytes\n",
      "    buf = self._recv(4)\n",
      "  File \"/home/jukes/automated-glacier-terminus/automated_terminus_functions.py\", line 82, in calc_changerates1\n",
      "    counter = counter+1; t_prev = list(df['datetimes'])[i-counter]\n",
      "KeyboardInterrupt\n",
      "KeyboardInterrupt\n",
      "  File \"/home/jukes/anaconda3/lib/python3.7/multiprocessing/synchronize.py\", line 95, in __enter__\n",
      "    return self._semlock.__enter__()\n",
      "  File \"/home/jukes/anaconda3/lib/python3.7/multiprocessing/synchronize.py\", line 95, in __enter__\n",
      "    return self._semlock.__enter__()\n",
      "  File \"/home/jukes/anaconda3/lib/python3.7/site-packages/pandas/core/common.py\", line 89, in maybe_box_datetimelike\n",
      "    value = tslibs.Timestamp(value)\n",
      "  File \"/home/jukes/anaconda3/lib/python3.7/multiprocessing/queues.py\", line 351, in get\n",
      "    with self._rlock:\n"
     ]
    },
    {
     "name": "stderr",
     "output_type": "stream",
     "text": [
      "KeyboardInterrupt\n",
      "KeyboardInterrupt\n",
      "  File \"/home/jukes/anaconda3/lib/python3.7/multiprocessing/synchronize.py\", line 95, in __enter__\n",
      "    return self._semlock.__enter__()\n",
      "KeyboardInterrupt\n",
      "KeyboardInterrupt\n",
      "  File \"/home/jukes/anaconda3/lib/python3.7/multiprocessing/connection.py\", line 407, in _recv_bytes\n",
      "    buf = self._recv(4)\n",
      "  File \"/home/jukes/anaconda3/lib/python3.7/multiprocessing/connection.py\", line 379, in _recv\n",
      "    chunk = read(handle, remaining)\n",
      "KeyboardInterrupt\n",
      "KeyboardInterrupt\n",
      "KeyboardInterrupt\n",
      "  File \"/home/jukes/anaconda3/lib/python3.7/multiprocessing/connection.py\", line 379, in _recv\n",
      "    chunk = read(handle, remaining)\n",
      "KeyboardInterrupt\n",
      "KeyboardInterrupt\n",
      "KeyboardInterrupt\n",
      "KeyboardInterrupt\n"
     ]
    }
   ],
   "source": [
    "# full batches\n",
    "for b in range(0, nfullbatches):\n",
    "    pool = Pool() # initialize pool\n",
    "    batchids = BoxIDs[b*batch_size:(b+1)*batch_size]\n",
    "    pool.map(get_results, batchids) # process all in pool\n",
    "    \n",
    "# for the last batch\n",
    "if nbatches - nfullbatches == 1:\n",
    "    pool = Pool()\n",
    "    lastbatchids = BoxIDs[(b+1)*batch_size:] # grab all remaining images\n",
    "    pool.map(get_results, lastbatchids) # process all in pool\n",
    "#         print(lastbatchimgs)\n"
   ]
  },
  {
   "cell_type": "markdown",
   "metadata": {},
   "source": [
    "## 3.2) Generate terminus positions using results produced through Xsmurf 2D WTMM:\n",
    "\n",
    "If you processed the glaciers using wtmm2d_terminuspick_Xsmurf.ipynb, use this following function. No parallel processing option available."
   ]
  },
  {
   "cell_type": "code",
   "execution_count": 1,
   "metadata": {
    "scrolled": true
   },
   "outputs": [],
   "source": [
    "# results_allglaciers(DATES_FILENAME,FLINE_FILENAME,VEL_FILENAME, date, rotated_foldername, V, N1, N2)"
   ]
  }
 ],
 "metadata": {
  "kernelspec": {
   "display_name": "Python 3 (ipykernel)",
   "language": "python",
   "name": "python3"
  },
  "language_info": {
   "codemirror_mode": {
    "name": "ipython",
    "version": 3
   },
   "file_extension": ".py",
   "mimetype": "text/x-python",
   "name": "python",
   "nbconvert_exporter": "python",
   "pygments_lexer": "ipython3",
   "version": "3.9.15"
  }
 },
 "nbformat": 4,
 "nbformat_minor": 4
}
